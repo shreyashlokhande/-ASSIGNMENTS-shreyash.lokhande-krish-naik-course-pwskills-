{
 "cells": [
  {
   "attachments": {},
   "cell_type": "markdown",
   "metadata": {},
   "source": [
    "# Assignment 7 06 FEB"
   ]
  },
  {
   "attachments": {},
   "cell_type": "markdown",
   "metadata": {},
   "source": [
    "## Question 1: Create a function which will take a list as an argument and return the product of all the numbers after creating a flat list.\n",
    "\n",
    "### Use the below-given list as an argument for your function.\n",
    "\n",
    "\n",
    "### list1 = [1,2,3,4, [44,55,66, True], False, (34,56,78,89,34), {1,2,3,3,2,1}, {1:34, \"key2\": [55, 67, 78, 89], 4: (45,22, 61, 34)}, [56, 'data science'], 'Machine Learning']\n",
    "\n",
    "\n",
    "### Note: you must extract numeric keys and values of the dictionary also.\n",
    "---"
   ]
  },
  {
   "attachments": {},
   "cell_type": "markdown",
   "metadata": {},
   "source": [
    "## Answer : I have used below approach to solve this problem\n",
    "1. Create a blank list l for initialization\n",
    "2. if values are int and float then append the element\n",
    "3. if values are list extend use l.extend to extend the list\n",
    "4. if values are tuple and set , typecast into list and extend the list\n",
    "5. if values are dictionary , append dict.keys and check dict.values into the list apply for loop for dictionary as well\n",
    "6. Now we have the list with all values from this we need to filter int and float from this list again for this we can use filter function and lambda function to filter numeric values\n",
    "7. Use reduce function to find product of all numeric values added "
   ]
  },
  {
   "cell_type": "code",
   "execution_count": 50,
   "metadata": {},
   "outputs": [],
   "source": [
    "from functools import reduce\n",
    "\n",
    "def flat_and_product(lst):\n",
    "    \"\"\"\n",
    "    This function takes a list extracts all numeric values from it including dictionary keys , values \n",
    "    and returns the product of numeric values as result\n",
    "    \"\"\"\n",
    "    l = [] #Initialize Blank List\n",
    "\n",
    "    # Using for loop to iterate through\n",
    "    for i in lst:        \n",
    "        # If type of element integer or float then append into list\n",
    "        if type(i)==int or type(i)==float:\n",
    "            l.append(i)\n",
    "        \n",
    "        # If type of element list then extend the list l\n",
    "        elif type(i)==list:\n",
    "            l.extend(i)\n",
    "        \n",
    "        # If type of element tuple or sets then typecast and extend the list l\n",
    "        elif type(i)==tuple or type(i)==set:\n",
    "            l.extend(list(i))\n",
    "        \n",
    "        # If type of element is dictionary then extend keys and values into the list l iterate through key and value and extend them        \n",
    "        elif type(i)==dict:\n",
    "            for key, value in i.items():\n",
    "                l.append(key)\n",
    "                \n",
    "                # Checking types of values and performing similar operations\n",
    "                if type(value)==int or type(value)==float:\n",
    "                    l.append(value)\n",
    "                elif type(value)==list:\n",
    "                    l.extend(value)\n",
    "                elif type(value)==tuple or type(value)==set:\n",
    "                    l.extend(list(value))\n",
    "            # For block for dictionary completed\n",
    "        \n",
    "        # Main For block is completed\n",
    "\n",
    "    # Print orignal list\n",
    "    print('Orignal List given : ',lst)        \n",
    "    # Print list before filtering numeric values inside\n",
    "    print('\\nFlat List before filtering numeric values inside nested structures : ',l)\n",
    "\n",
    "    # Apply Filter function and lambda to filter numeric values only\n",
    "    filter_l = list(filter(lambda x: type(x)==int or type(x)==float,l))\n",
    "    print('\\nFlat List after filtering numeric values only : ',filter_l)\n",
    "\n",
    "    # Apply Reduce function to get product from the filtered list\n",
    "    product = reduce(lambda x,y : x*y, filter_l)\n",
    "\n",
    "    return product"
   ]
  },
  {
   "cell_type": "code",
   "execution_count": 51,
   "metadata": {},
   "outputs": [
    {
     "name": "stdout",
     "output_type": "stream",
     "text": [
      "Orignal List given :  [1, 2, 3, 4, [44, 55, 66, True], False, (34, 56, 78, 89, 34), {1, 2, 3}, {1: 34, 'key2': [55, 67, 78, 89], 4: (45, 22, 61, 34)}, [56, 'data science'], 'Machine Learning']\n",
      "\n",
      "Flat List before filtering numeric values inside nested structures :  [1, 2, 3, 4, 44, 55, 66, True, 34, 56, 78, 89, 34, 1, 2, 3, 1, 34, 'key2', 55, 67, 78, 89, 4, 45, 22, 61, 34, 56, 'data science']\n",
      "\n",
      "Flat List after filtering numeric values only :  [1, 2, 3, 4, 44, 55, 66, 34, 56, 78, 89, 34, 1, 2, 3, 1, 34, 55, 67, 78, 89, 4, 45, 22, 61, 34, 56]\n"
     ]
    },
    {
     "data": {
      "text/plain": [
       "4134711838987085478833841242112000"
      ]
     },
     "execution_count": 51,
     "metadata": {},
     "output_type": "execute_result"
    }
   ],
   "source": [
    "# Using the function to get product\n",
    "list1 = [1,2,3,4, [44,55,66, True], False, (34,56,78,89,34), {1,2,3,3,2,1}, {1:34, \"key2\": [55, 67, 78, 89], 4: (45,22, 61, 34)}, [56, 'data science'], 'Machine Learning']\n",
    "flat_and_product(list1)"
   ]
  },
  {
   "attachments": {},
   "cell_type": "markdown",
   "metadata": {},
   "source": [
    "## Question 2 : Write a python program for encrypting a message sent to you by your friend. The logic of encryption should be such that, for a the output should be z. For b, the output should be y. For c, the output should be x respectively. Also, the whitespace should be replaced with a dollar sign. Keep the punctuation marks unchanged.\n",
    "\n",
    "### Input Sentence: I want to become a Data Scientist.\n",
    "\n",
    "### Encrypt the above input sentence using the program you just created.\n",
    "\n",
    "### Note: Convert the given input sentence into lowercase before encrypting. The final output should be lowercase.\n",
    "---"
   ]
  },
  {
   "attachments": {},
   "cell_type": "markdown",
   "metadata": {},
   "source": [
    "## Answer : Below is my approach\n",
    "1. Use string module ascii lowercase and create a dictionary encrypted_dict = {'a':'z','b':'y',... ,'z':'a'}\n",
    "2. add encrypted_dict[' ']= Dollar Sign (\\$) \n",
    "3. from string module import punctuations and use for loop to add these into encrypted_dict\n",
    "4. Add numbers and keep them same in the dictionary\n",
    "5. Initialize a blank string encrypt_out\n",
    "6. Use for loop and add encrypted with encrypted_dict[i]"
   ]
  },
  {
   "cell_type": "code",
   "execution_count": null,
   "metadata": {},
   "outputs": [],
   "source": [
    "# Creating a function for providing encrypted output\n",
    "import string\n",
    "def encrypted_message(strg):\n",
    "    \"\"\"\n",
    "    This function returns encrypted string as mentioned in the question 2\n",
    "    \"\"\"\n",
    "\n",
    "    # Step 1 : Creating dictionary {'a':'z','b':'y',...,'z':a}\n",
    "    ascii_alph = string.ascii_lowercase\n",
    "    encrypted_dict = dict(zip(ascii_alph, ascii_alph[::-1]))\n",
    "\n",
    "    # Step 2 : Add space key as $ in dictionary\n",
    "    encrypted_dict[' ']='$'\n",
    "\n",
    "    # Step 3 : Add punctuation marks as it is\n",
    "    for i in string.punctuation:\n",
    "        encrypted_dict[i]=i\n",
    "\n",
    "    # Step 4 : Adding Numbers and keeping them same:\n",
    "    for num in range(0,10):\n",
    "        encrypted_dict[str(num)]=str(num)\n",
    "    \n",
    "    # Dictionary creation is completed \n",
    "\n",
    "    # Step 5 : Initialize blank string encrypt_out\n",
    "    encrypt_out = ''\n",
    "\n",
    "    # Step 6 : Apply for loop to input and use encrypted_dict\n",
    "    # Use lowercase for case unification\n",
    "    for char in strg.lower():\n",
    "        encrypt_out = encrypt_out + encrypted_dict[char]\n",
    "    \n",
    "    return encrypt_out\n"
   ]
  },
  {
   "cell_type": "code",
   "execution_count": null,
   "metadata": {},
   "outputs": [
    {
     "data": {
      "text/plain": [
       "'svool$gsviv$r$zn$fgpzihs$tzrpdzw$zmw$nb$ztv$rh$28,$gsrh$rh$z$gvhg$!!?@'"
      ]
     },
     "metadata": {},
     "output_type": "display_data"
    }
   ],
   "source": [
    "# Test Case\n",
    "test = 'Hello there I am Utkarsh Gaikwad and my age is 28, this is a test !!?@'\n",
    "encrypted_message(test)"
   ]
  },
  {
   "cell_type": "code",
   "execution_count": null,
   "metadata": {},
   "outputs": [
    {
     "data": {
      "text/plain": [
       "'r$dzmg$gl$yvxlnv$z$wzgz$hxrvmgrhg.'"
      ]
     },
     "metadata": {},
     "output_type": "display_data"
    }
   ],
   "source": [
    "# Final Output\n",
    "inp = \"I want to become a Data Scientist.\"\n",
    "encrypted_message(inp) "
   ]
  }
 ],
 "metadata": {
  "kernelspec": {
   "display_name": "base",
   "language": "python",
   "name": "python3"
  },
  "language_info": {
   "codemirror_mode": {
    "name": "ipython",
    "version": 3
   },
   "file_extension": ".py",
   "mimetype": "text/x-python",
   "name": "python",
   "nbconvert_exporter": "python",
   "pygments_lexer": "ipython3",
   "version": "3.9.7"
  },
  "orig_nbformat": 4
 },
 "nbformat": 4,
 "nbformat_minor": 2
}
