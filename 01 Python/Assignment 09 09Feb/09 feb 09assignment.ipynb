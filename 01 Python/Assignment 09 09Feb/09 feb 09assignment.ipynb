{
 "cells": [
  {
   "attachments": {},
   "cell_type": "markdown",
   "metadata": {},
   "source": [
    "# Assifnment 09 09 Feb"
   ]
  },
  {
   "attachments": {},
   "cell_type": "markdown",
   "metadata": {},
   "source": [
    "## Question 1: Create a vehicle class with an init method having instance variables as name_of_vehicle, max_speed and average_of_vehicle.\n",
    "---"
   ]
  },
  {
   "attachments": {},
   "cell_type": "markdown",
   "metadata": {},
   "source": [
    "## Answer :"
   ]
  },
  {
   "cell_type": "code",
   "execution_count": null,
   "metadata": {},
   "outputs": [],
   "source": [
    "class vehicle:\n",
    "    def __init__(self,name_of_vehicle,max_speed,average_of_vehicle):\n",
    "        \"\"\"\n",
    "        This is init constructor definition which intializes all input variables\n",
    "        for the class vehicle\n",
    "        \"\"\"\n",
    "        self.name_of_vehicle = name_of_vehicle\n",
    "        self.max_speed = max_speed\n",
    "        self.average_of_vehicle = average_of_vehicle"
   ]
  },
  {
   "cell_type": "code",
   "execution_count": null,
   "metadata": {},
   "outputs": [
    {
     "name": "stdout",
     "output_type": "stream",
     "text": [
      "My vehicle name is Kia Seltos\n",
      "It has max speed of 170 kmph\n",
      "It has Average Mileage of 18.5 kmpl\n"
     ]
    }
   ],
   "source": [
    "# Example\n",
    "my_car = vehicle('Kia Seltos',170,18.5)\n",
    "print(f'My vehicle name is {my_car.name_of_vehicle}')\n",
    "print(f'It has max speed of {my_car.max_speed} kmph')\n",
    "print(f'It has Average Mileage of {my_car.average_of_vehicle} kmpl')"
   ]
  },
  {
   "attachments": {},
   "cell_type": "markdown",
   "metadata": {},
   "source": [
    "## Question 2: Create a child class car from the vehicle class created in Que 1, which will inherit the vehicle class.Create a method named seating_capacity which takes capacity as an argument and returns the name of the vehicle and its seating capacity.\n",
    "---"
   ]
  },
  {
   "attachments": {},
   "cell_type": "markdown",
   "metadata": {},
   "source": [
    "## Answer :"
   ]
  },
  {
   "cell_type": "code",
   "execution_count": null,
   "metadata": {},
   "outputs": [],
   "source": [
    "class car(vehicle):\n",
    "\n",
    "    def seating_capacity(self,capacity):\n",
    "        \"\"\"\n",
    "        This function takes capacity as argument \n",
    "        and returns vehicle name and seating capacity\n",
    "        \"\"\"\n",
    "        self.capacity = capacity\n",
    "        return self.name_of_vehicle, self.capacity"
   ]
  },
  {
   "cell_type": "code",
   "execution_count": null,
   "metadata": {},
   "outputs": [
    {
     "data": {
      "text/plain": [
       "('MG Hector', 5)"
      ]
     },
     "metadata": {},
     "output_type": "display_data"
    }
   ],
   "source": [
    "# Example\n",
    "friends_car = car('MG Hector',195,14)\n",
    "friends_car.seating_capacity(5)"
   ]
  },
  {
   "attachments": {},
   "cell_type": "markdown",
   "metadata": {},
   "source": [
    "## Question 3: Q3. What is multiple inheritance? Write a python code to demonstrate multiple inheritance.\n",
    "---"
   ]
  },
  {
   "attachments": {},
   "cell_type": "markdown",
   "metadata": {},
   "source": [
    "## Answer : if a child class inherits from more than one class, i.e. this child class is derived from multiple classes, we call it multiple inheritance in Python. \n",
    "## This newly derived child class will inherit the properties of all the classes that it is derived from."
   ]
  },
  {
   "cell_type": "code",
   "execution_count": null,
   "metadata": {},
   "outputs": [],
   "source": [
    "# creating class for father\n",
    "class Dad():\n",
    "\t# writing a method for parent class 1\n",
    "\tdef guitar(self):\n",
    "\t\tprint(\"Dad plays guitar!\")\n",
    "\t\t\n",
    "# creating a class for mother\n",
    "class Mom():\n",
    "\t# method for parent class 2\n",
    "\tdef cooking(self):\n",
    "\t\tprint(\"Mom cooks well\")\n",
    "\n",
    "# creating derived class which inherits from 2 parent classes\n",
    "class Child(Dad, Mom):\n",
    "\tdef sing_and_foodie(self):\n",
    "\t\tprint(\"Kid loves to sing and is a foodie\")"
   ]
  },
  {
   "cell_type": "code",
   "execution_count": null,
   "metadata": {},
   "outputs": [
    {
     "name": "stdout",
     "output_type": "stream",
     "text": [
      "Dad plays guitar!\n",
      "Mom cooks well\n",
      "Kid loves to sing and is a foodie\n"
     ]
    }
   ],
   "source": [
    "# creating object of the new derived class\n",
    "child = Child()\n",
    "\n",
    "# calling methods of parent classes and derived class\n",
    "child.guitar()\n",
    "child.cooking()\n",
    "child.sing_and_foodie()"
   ]
  },
  {
   "attachments": {},
   "cell_type": "markdown",
   "metadata": {},
   "source": [
    "## Question 4 : What are getter and setter in python? Create a class and create a getter and a setter method in this class.\n",
    "---\n"
   ]
  },
  {
   "attachments": {},
   "cell_type": "markdown",
   "metadata": {},
   "source": [
    "## Answer :\n",
    "1. **Getters** : These are the methods used in Object-Oriented Programming (OOPS) which helps to access the private attributes from a **class**.\n",
    "2. **Setters** : These are the methods used in OOPS feature which helps to set the value to private attributes in a **class**."
   ]
  },
  {
   "cell_type": "code",
   "execution_count": null,
   "metadata": {},
   "outputs": [],
   "source": [
    "# Creating a class employee with getter and setter functions for employee_id variable\n",
    "class employee:\n",
    "\n",
    "    def __init__(self,name,employee_id):\n",
    "        \"\"\"\n",
    "        This constructor function creates 2 private vairables \n",
    "        name and employee_id which cannot be directly accessed\n",
    "        \"\"\"\n",
    "        self.__name = name\n",
    "        self.__employee_id = employee_id\n",
    "    \n",
    "    def get_employee_id(self):\n",
    "        \"\"\"\n",
    "        This is getter function gets the employee id of the given employee\n",
    "        \"\"\"\n",
    "        return self.__employee_id\n",
    "    \n",
    "    def set_employee_id(self,new_id):\n",
    "        \"\"\"\n",
    "        This is a setter function and sets the employee id for given employess\n",
    "        \"\"\"\n",
    "        self.__employee_id = new_id"
   ]
  },
  {
   "cell_type": "code",
   "execution_count": null,
   "metadata": {},
   "outputs": [
    {
     "data": {
      "text/plain": [
       "'123'"
      ]
     },
     "metadata": {},
     "output_type": "display_data"
    }
   ],
   "source": [
    "# Example with getter function\n",
    "emp1 = employee('Utkarsh','123')\n",
    "emp1.get_employee_id()"
   ]
  },
  {
   "cell_type": "code",
   "execution_count": null,
   "metadata": {},
   "outputs": [],
   "source": [
    "# Example setter function\n",
    "emp1.set_employee_id('007')"
   ]
  },
  {
   "cell_type": "code",
   "execution_count": null,
   "metadata": {},
   "outputs": [
    {
     "data": {
      "text/plain": [
       "'007'"
      ]
     },
     "metadata": {},
     "output_type": "display_data"
    }
   ],
   "source": [
    "# Checking new employee id\n",
    "emp1.get_employee_id()"
   ]
  },
  {
   "attachments": {},
   "cell_type": "markdown",
   "metadata": {},
   "source": [
    "## Question 5 : What is method overriding in python? Write a python code to demonstrate method overriding\n",
    "---"
   ]
  },
  {
   "attachments": {},
   "cell_type": "markdown",
   "metadata": {},
   "source": [
    "## Answer : Method overriding is a feature of object-oriented programming languages where the subclass or child class can provide the program with specific characteristics or a specific implementation process of data provided that are already defined in the parent class or superclass."
   ]
  },
  {
   "cell_type": "code",
   "execution_count": null,
   "metadata": {},
   "outputs": [],
   "source": [
    "# Showing above example\n",
    "class Animal:\n",
    "    def Walk(self):\n",
    "        print('Hello, I am the parent class Animal')\n",
    "    \n",
    "    def communicate(self):\n",
    "        print('This is how animal communicates.')\n",
    "\n",
    "class Cat(Animal):\n",
    "    def Walk(self):\n",
    "        print('Hello, I am the child class Cat')\n",
    "    \n",
    "    def meow(self):\n",
    "        print('Cat communicates with Meows')       \n"
   ]
  },
  {
   "cell_type": "code",
   "execution_count": null,
   "metadata": {},
   "outputs": [
    {
     "name": "stdout",
     "output_type": "stream",
     "text": [
      "Hello, I am the parent class Animal\n",
      "Hello, I am the child class Cat\n"
     ]
    }
   ],
   "source": [
    "# Here method Walk is overridden\n",
    "\n",
    "#Invoking Parent class through object r\n",
    "r = Animal()\n",
    "r.Walk()\n",
    "\n",
    "#Invoking Child class through object r\n",
    "r = Cat()\n",
    "r.Walk()"
   ]
  }
 ],
 "metadata": {
  "language_info": {
   "name": "python"
  },
  "orig_nbformat": 4
 },
 "nbformat": 4,
 "nbformat_minor": 2
}
