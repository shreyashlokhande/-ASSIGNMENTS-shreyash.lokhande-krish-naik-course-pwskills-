{
 "cells": [
  {
   "attachments": {},
   "cell_type": "markdown",
   "metadata": {},
   "source": [
    "## Assignment 12 # (13 feb)\n",
    "##### Shreyash Lokahdne"
   ]
  },
  {
   "attachments": {},
   "cell_type": "markdown",
   "metadata": {},
   "source": [
    "## Importing logging module to create a log "
   ]
  },
  {
   "cell_type": "code",
   "execution_count": 9,
   "metadata": {},
   "outputs": [],
   "source": [
    "import logging\n",
    "logging.basicConfig(filename='Assignment12.log',level=logging.DEBUG,format= '%(asctime)s - %(name)s - %(levelname)s - %(message)s')"
   ]
  },
  {
   "attachments": {},
   "cell_type": "markdown",
   "metadata": {},
   "source": [
    "## Question 2: Explain why we have to use the Exception class while creating a Custom Exception.\n",
    "## Note: Here Exception class refers to the base class for all the exceptions\n",
    "---"
   ]
  },
  {
   "attachments": {},
   "cell_type": "markdown",
   "metadata": {},
   "source": [
    "## Answer :"
   ]
  },
  {
   "attachments": {},
   "cell_type": "markdown",
   "metadata": {},
   "source": [
    "1. The Exception class is used as the base class for custom exceptions in Python because it provides a standard way of representing and handling errors that occur in a program. When you create a custom exception class, it should inherit from the Exception class in order to be recognized as an exception by the Python runtime.\n",
    "2. By inheriting from the Exception class, your custom exception class automatically gets all the properties and methods of the Exception class, making it easier to use and handle in your code. For example, you can raise your custom exception using the raise statement, and it will be caught by a try-except block just like any other standard exception.\n",
    "3. Additionally, inheriting from the Exception class also makes it possible for other parts of your code to catch your custom exception specifically, if necessary. This allows you to create more specific error handling logic for your custom exceptions, rather than relying on a catch-all approach for all exceptions.\n",
    "4. In summary, using the Exception class as the base class for custom exceptions provides a standard way of representing and handling errors in Python, making it easier to integrate custom exceptions into your code and handle them appropriately.\n",
    "\n",
    "### Consider a below example of Transaction Limit for upi app"
   ]
  },
  {
   "cell_type": "code",
   "execution_count": 2,
   "metadata": {},
   "outputs": [],
   "source": [
    "# Defining Custom Class Transaction Limit Exceeded\n",
    "class TransactionLimitExceeded(Exception):\n",
    "    def __init__(self, message, transaction_amount, limit):\n",
    "        self.message = message\n",
    "        self.transaction_amount = transaction_amount\n",
    "        self.limit = limit\n",
    "        super().__init__(self.message)"
   ]
  },
  {
   "cell_type": "code",
   "execution_count": 7,
   "metadata": {},
   "outputs": [],
   "source": [
    "# Define a process transaction method to reject transaction if above limit \n",
    "def process_transaction(amount):\n",
    "    \"\"\"\n",
    "    This Function Processes the amount then validates the transaction\n",
    "    \"\"\"\n",
    "    logging.info('This is starting of process_transaction definition.')\n",
    "    try:\n",
    "        limit = 1000\n",
    "        if amount > limit:\n",
    "            # If Amount is greater than limit the function will raise error\n",
    "            logging.error('Exception Occured Transaction amount Exceeded the limit')       \n",
    "            raise TransactionLimitExceeded(\"Transaction limit exceeded\", amount, limit)\n",
    "        else:\n",
    "            logging.info(f'Transaction is valid with amount : {amount}')\n",
    "            print('Valid Transaction Amount : ',amount)\n",
    "        logging.info('Try Block executed')\n",
    "    \n",
    "    except TransactionLimitExceeded as e:\n",
    "        logging.info(f'Transaction of Amount : {amount} Exceeded the limit {limit}')\n",
    "        logging.exception(f'Transaction Limit Exceeded , Exception : {e}')\n",
    "        print('Transaction Limit Exceeded , Handled Exception :',e)"
   ]
  },
  {
   "cell_type": "code",
   "execution_count": 8,
   "metadata": {},
   "outputs": [
    {
     "name": "stdout",
     "output_type": "stream",
     "text": [
      "Valid Transaction Amount :  500\n"
     ]
    }
   ],
   "source": [
    "# Test Case 1 : Amount Below 1000\n",
    "process_transaction(500)"
   ]
  },
  {
   "cell_type": "code",
   "execution_count": 9,
   "metadata": {},
   "outputs": [
    {
     "name": "stdout",
     "output_type": "stream",
     "text": [
      "Valid Transaction Amount :  1000\n"
     ]
    }
   ],
   "source": [
    "# Test Case 2: Amount is equal to 1000\n",
    "process_transaction(1000)"
   ]
  },
  {
   "cell_type": "code",
   "execution_count": 10,
   "metadata": {},
   "outputs": [
    {
     "name": "stdout",
     "output_type": "stream",
     "text": [
      "Transaction Limit Exceeded , Handled Exception : Transaction limit exceeded\n"
     ]
    }
   ],
   "source": [
    "# Test Case 3: Amount is above 1000\n",
    "process_transaction(2000)"
   ]
  },
  {
   "attachments": {},
   "cell_type": "markdown",
   "metadata": {},
   "source": [
    "## Question 2: Write a python program to print Python Exception Hierarchy.\n",
    "---"
   ]
  },
  {
   "attachments": {},
   "cell_type": "markdown",
   "metadata": {},
   "source": [
    "## Answer :"
   ]
  },
  {
   "cell_type": "code",
   "execution_count": 11,
   "metadata": {},
   "outputs": [
    {
     "name": "stdout",
     "output_type": "stream",
     "text": [
      "Exception\n",
      "  TypeError\n",
      "    FloatOperation\n",
      "    MultipartConversionError\n",
      "  StopAsyncIteration\n",
      "  StopIteration\n",
      "  ImportError\n",
      "    ModuleNotFoundError\n",
      "      PackageNotFoundError\n",
      "    ZipImportError\n",
      "  OSError\n",
      "    ConnectionError\n",
      "      BrokenPipeError\n",
      "      ConnectionAbortedError\n",
      "      ConnectionRefusedError\n",
      "      ConnectionResetError\n",
      "        RemoteDisconnected\n",
      "    BlockingIOError\n",
      "    ChildProcessError\n",
      "    FileExistsError\n",
      "    FileNotFoundError\n",
      "    IsADirectoryError\n",
      "    NotADirectoryError\n",
      "    InterruptedError\n",
      "      InterruptedSystemCall\n",
      "    PermissionError\n",
      "    ProcessLookupError\n",
      "    TimeoutError\n",
      "    UnsupportedOperation\n",
      "    herror\n",
      "    gaierror\n",
      "    SSLError\n",
      "      SSLCertVerificationError\n",
      "      SSLZeroReturnError\n",
      "      SSLWantWriteError\n",
      "      SSLWantReadError\n",
      "      SSLSyscallError\n",
      "      SSLEOFError\n",
      "    Error\n",
      "      SameFileError\n",
      "    SpecialFileError\n",
      "    ExecError\n",
      "    ReadError\n",
      "    URLError\n",
      "      HTTPError\n",
      "      ContentTooShortError\n",
      "    BadGzipFile\n",
      "  EOFError\n",
      "    IncompleteReadError\n",
      "  RuntimeError\n",
      "    RecursionError\n",
      "    NotImplementedError\n",
      "      ZMQVersionError\n",
      "      StdinNotImplementedError\n",
      "    _DeadlockError\n",
      "    BrokenBarrierError\n",
      "    BrokenExecutor\n",
      "      BrokenThreadPool\n",
      "    SendfileNotAvailableError\n",
      "    ExtractionError\n",
      "    VariableError\n",
      "  NameError\n",
      "    UnboundLocalError\n",
      "  AttributeError\n",
      "    FrozenInstanceError\n",
      "  SyntaxError\n",
      "    IndentationError\n",
      "      TabError\n",
      "  LookupError\n",
      "    IndexError\n",
      "    KeyError\n",
      "      NoSuchKernel\n",
      "      UnknownBackend\n",
      "    CodecRegistryError\n",
      "  ValueError\n",
      "    UnicodeError\n",
      "      UnicodeEncodeError\n",
      "      UnicodeDecodeError\n",
      "      UnicodeTranslateError\n",
      "    UnsupportedOperation\n",
      "    JSONDecodeError\n",
      "    SSLCertVerificationError\n",
      "    Error\n",
      "    UnsupportedDigestmodError\n",
      "    IllegalMonthError\n",
      "    IllegalWeekdayError\n",
      "    ParserError\n",
      "    MessageDefect\n",
      "      NoBoundaryInMultipartDefect\n",
      "      StartBoundaryNotFoundDefect\n",
      "      CloseBoundaryNotFoundDefect\n",
      "      FirstHeaderLineIsContinuationDefect\n",
      "      MisplacedEnvelopeHeaderDefect\n",
      "      MissingHeaderBodySeparatorDefect\n",
      "      MultipartInvariantViolationDefect\n",
      "      InvalidMultipartContentTransferEncodingDefect\n",
      "      UndecodableBytesDefect\n",
      "      InvalidBase64PaddingDefect\n",
      "      InvalidBase64CharactersDefect\n",
      "      InvalidBase64LengthDefect\n",
      "      HeaderDefect\n",
      "        InvalidHeaderDefect\n",
      "        HeaderMissingRequiredValue\n",
      "        NonPrintableDefect\n",
      "        ObsoleteHeaderDefect\n",
      "        NonASCIILocalPartDefect\n",
      "        InvalidDateDefect\n",
      "    ClassNotFound\n",
      "    ClipboardEmpty\n",
      "    MacroToEdit\n",
      "    InvalidFileException\n",
      "    UnequalIterablesError\n",
      "    InvalidVersion\n",
      "    _InvalidELFFileHeader\n",
      "    InvalidWheelFilename\n",
      "    InvalidSdistFilename\n",
      "    InvalidSpecifier\n",
      "    InvalidMarker\n",
      "    UndefinedComparison\n",
      "    UndefinedEnvironmentName\n",
      "    InvalidRequirement\n",
      "      RequirementParseError\n",
      "    InvalidVersion\n",
      "  AssertionError\n",
      "  ArithmeticError\n",
      "    FloatingPointError\n",
      "    OverflowError\n",
      "    ZeroDivisionError\n",
      "      DivisionByZero\n",
      "      DivisionUndefined\n",
      "    DecimalException\n",
      "      Clamped\n",
      "      Rounded\n",
      "        Underflow\n",
      "        Overflow\n",
      "      Inexact\n",
      "        Underflow\n",
      "        Overflow\n",
      "      Subnormal\n",
      "        Underflow\n",
      "      DivisionByZero\n",
      "      FloatOperation\n",
      "      InvalidOperation\n",
      "        ConversionSyntax\n",
      "        DivisionImpossible\n",
      "        DivisionUndefined\n",
      "        InvalidContext\n",
      "  SystemError\n",
      "    CodecRegistryError\n",
      "  ReferenceError\n",
      "  MemoryError\n",
      "  BufferError\n",
      "  Warning\n",
      "    UserWarning\n",
      "      GetPassWarning\n",
      "      FormatterWarning\n",
      "    EncodingWarning\n",
      "    DeprecationWarning\n",
      "      ProvisionalWarning\n",
      "    PendingDeprecationWarning\n",
      "    SyntaxWarning\n",
      "    RuntimeWarning\n",
      "      ProactorSelectorThreadWarning\n",
      "      UnknownTimezoneWarning\n",
      "      PEP440Warning\n",
      "    FutureWarning\n",
      "      ProvisionalCompleterWarning\n",
      "    ImportWarning\n",
      "    UnicodeWarning\n",
      "    BytesWarning\n",
      "    ResourceWarning\n",
      "    DeprecatedTzFormatWarning\n",
      "    PkgResourcesDeprecationWarning\n",
      "  _OptionError\n",
      "  _Error\n",
      "  error\n",
      "  Verbose\n",
      "  Error\n",
      "  SubprocessError\n",
      "    CalledProcessError\n",
      "    TimeoutExpired\n",
      "  ZMQBaseError\n",
      "    ZMQError\n",
      "      ContextTerminated\n",
      "      Again\n",
      "      InterruptedSystemCall\n",
      "    ZMQBindError\n",
      "    NotDone\n",
      "  Error\n",
      "  error\n",
      "  PickleError\n",
      "    PicklingError\n",
      "    UnpicklingError\n",
      "  _Stop\n",
      "  TokenError\n",
      "  StopTokenizing\n",
      "  Error\n",
      "    CancelledError\n",
      "    TimeoutError\n",
      "    InvalidStateError\n",
      "  _GiveupOnSendfile\n",
      "  Incomplete\n",
      "  ClassFoundException\n",
      "  EndOfBlock\n",
      "  TimeoutError\n",
      "  InvalidStateError\n",
      "  LimitOverrunError\n",
      "  QueueEmpty\n",
      "  QueueFull\n",
      "  error\n",
      "  LZMAError\n",
      "  RegistryError\n",
      "  _GiveupOnFastCopy\n",
      "  TraitError\n",
      "  Empty\n",
      "  Full\n",
      "  ArgumentError\n",
      "  COMError\n",
      "  ReturnValueIgnoredError\n",
      "  ArgumentError\n",
      "  ArgumentTypeError\n",
      "  ConfigError\n",
      "    ConfigLoaderError\n",
      "      ArgumentError\n",
      "    ConfigFileNotFound\n",
      "  ConfigurableError\n",
      "    MultipleInstanceError\n",
      "  ApplicationError\n",
      "  InvalidPortNumber\n",
      "  NoIPAddresses\n",
      "  Error\n",
      "  BadZipFile\n",
      "  LargeZipFile\n",
      "  Error\n",
      "  MessageError\n",
      "    MessageParseError\n",
      "      HeaderParseError\n",
      "      BoundaryError\n",
      "    MultipartConversionError\n",
      "    CharsetError\n",
      "  DuplicateKernelError\n",
      "  ErrorDuringImport\n",
      "  NotOneValueFound\n",
      "  CannotEval\n",
      "  OptionError\n",
      "  BdbQuit\n",
      "  Restart\n",
      "  FindCmdError\n",
      "  HomeDirError\n",
      "  ProfileDirError\n",
      "  IPythonCoreError\n",
      "    TryNext\n",
      "    UsageError\n",
      "    StdinNotImplementedError\n",
      "  InputRejected\n",
      "  GetoptError\n",
      "  ErrorToken\n",
      "  PrefilterError\n",
      "  AliasError\n",
      "    InvalidAliasError\n",
      "  Error\n",
      "    InterfaceError\n",
      "    DatabaseError\n",
      "      InternalError\n",
      "      OperationalError\n",
      "      ProgrammingError\n",
      "      IntegrityError\n",
      "      DataError\n",
      "      NotSupportedError\n",
      "  Warning\n",
      "  SpaceInInput\n",
      "  DOMException\n",
      "    IndexSizeErr\n",
      "    DomstringSizeErr\n",
      "    HierarchyRequestErr\n",
      "    WrongDocumentErr\n",
      "    InvalidCharacterErr\n",
      "    NoDataAllowedErr\n",
      "    NoModificationAllowedErr\n",
      "    NotFoundErr\n",
      "    NotSupportedErr\n",
      "    InuseAttributeErr\n",
      "    InvalidStateErr\n",
      "    SyntaxErr\n",
      "    InvalidModificationErr\n",
      "    NamespaceErr\n",
      "    InvalidAccessErr\n",
      "    ValidationErr\n",
      "  ValidationError\n",
      "  EditReadOnlyBuffer\n",
      "  _Retry\n",
      "  InvalidLayoutError\n",
      "  HeightIsUnknownError\n",
      "  GuardRejection\n",
      "  ParserSyntaxError\n",
      "  InternalParseError\n",
      "  _PositionUpdatingFinished\n",
      "  SimpleGetItemNotFound\n",
      "  UncaughtAttributeError\n",
      "  HasNoContext\n",
      "  ParamIssue\n",
      "  _JediError\n",
      "    InternalError\n",
      "    WrongVersion\n",
      "    RefactoringError\n",
      "  OnErrorLeaf\n",
      "  InvalidPythonEnvironment\n",
      "  HTTPException\n",
      "    NotConnected\n",
      "    InvalidURL\n",
      "    UnknownProtocol\n",
      "    UnknownTransferEncoding\n",
      "    UnimplementedFileMode\n",
      "    IncompleteRead\n",
      "    ImproperConnectionState\n",
      "      CannotSendRequest\n",
      "      CannotSendHeader\n",
      "      ResponseNotReady\n",
      "    BadStatusLine\n",
      "      RemoteDisconnected\n",
      "    LineTooLong\n",
      "  InteractivelyDefined\n",
      "  KillEmbedded\n",
      "  Error\n",
      "    NoSuchProcess\n",
      "      ZombieProcess\n",
      "    AccessDenied\n",
      "    TimeoutExpired\n",
      "  Error\n",
      "  TimeoutExpired\n",
      "  TimeoutAbandoned\n",
      "  KeyReuseError\n",
      "  UnknownKeyError\n",
      "  LeakedCallbackError\n",
      "  BadYieldError\n",
      "  ReturnValueIgnoredError\n",
      "  Return\n",
      "  QueueEmpty\n",
      "  QueueFull\n",
      "  DebuggerInitializationError\n",
      "  ExpatError\n",
      "  Error\n",
      "    ProtocolError\n",
      "    ResponseError\n",
      "    Fault\n",
      "  error\n",
      "  com_error\n",
      "  internal_error\n",
      "  ParseBaseException\n",
      "    ParseException\n",
      "    ParseFatalException\n",
      "      ParseSyntaxException\n",
      "  RecursiveGrammarException\n",
      "  ResolutionError\n",
      "    VersionConflict\n",
      "      ContextualVersionConflict\n",
      "    DistributionNotFound\n",
      "    UnknownExtra\n",
      "  _Error\n",
      "  UnableToResolveVariableException\n",
      "  InvalidTypeInArgsException\n",
      "  TransactionLimitExceeded\n"
     ]
    }
   ],
   "source": [
    "def print_exception_hierarchy(exception, level=0):\n",
    "    \"\"\"\n",
    "    This function prints the exception hierarchy\n",
    "    \"\"\"\n",
    "    print(\"  \" * level + exception.__name__)\n",
    "    logging.info(\" \"* level + exception.__name__)\n",
    "    for subclass in exception.__subclasses__():\n",
    "        print_exception_hierarchy(subclass, level + 1)\n",
    "        logging.info(f'Subclass: {subclass},level:{level}')\n",
    "\n",
    "print_exception_hierarchy(Exception)"
   ]
  },
  {
   "attachments": {},
   "cell_type": "markdown",
   "metadata": {},
   "source": [
    "## Question 3: What errors are defined in the ArithmeticError class? Explain any two with an example.\n",
    "---"
   ]
  },
  {
   "attachments": {},
   "cell_type": "markdown",
   "metadata": {},
   "source": [
    "## Answer : The ArithmeticError class is a built-in exception in Python that represents errors that occur during arithmetic operations. Some of the errors that are defined in the ArithmeticError class include:\n",
    "1. OverflowError: This error is raised when a mathematical operation results in a number that is too large to be represented within the available memory.\n",
    "2. ZeroDivisionError: This error is raised when a division operation is attempted with a denominator of zero.\n",
    "3. FloatingPointError: This error is raised when a floating-point operation fails, such as an operation involving infinities or NaNs (Not-a-Number)."
   ]
  },
  {
   "cell_type": "code",
   "execution_count": 15,
   "metadata": {},
   "outputs": [
    {
     "name": "stdout",
     "output_type": "stream",
     "text": [
      "Exception occured and handled :  division by zero\n"
     ]
    }
   ],
   "source": [
    "# Example 1 : ZeroDivisionError\n",
    "logging.info('This is start of Question 3')\n",
    "try :\n",
    "    a = 10\n",
    "    print(a/0)\n",
    "    logging.info('Try block executed')\n",
    "except ZeroDivisionError as e:\n",
    "    print('Exception occured and handled : ',e)\n",
    "    logging.exception(f'Exception occured and Handled : {e}')\n",
    "finally:\n",
    "    logging.info('Example 1 of Question 3 Completed')"
   ]
  },
  {
   "cell_type": "code",
   "execution_count": 10,
   "metadata": {},
   "outputs": [
    {
     "name": "stdout",
     "output_type": "stream",
     "text": [
      "The exponential value is\n",
      "Error Occured and Handled : math range error\n"
     ]
    }
   ],
   "source": [
    "# Example 2: OverflowError - The number is too large to store in System memory \n",
    "import math\n",
    "logging.info('Example 2 Overflow error of Question 3 Started')\n",
    "try :\n",
    "    print(\"The exponential value is\")\n",
    "    print(math.exp(1000))\n",
    "    logging.info('Try Block executed')\n",
    "except OverflowError as e:\n",
    "    print(f'Error Occured and Handled : {e}')\n",
    "    logging.info(f'Error Occured and Handled : {e}')"
   ]
  },
  {
   "attachments": {},
   "cell_type": "markdown",
   "metadata": {},
   "source": [
    "# Question 4: Why LookupError class is used? Explain with an example KeyError and IndexError.\n",
    "---"
   ]
  },
  {
   "attachments": {},
   "cell_type": "markdown",
   "metadata": {},
   "source": [
    "## Answer:\n",
    "The LookupError class is used in Python to represent exceptions that are raised when a key or an index is not found in a data structure such as a dictionary or a list. LookupError is a base class for two more specific exceptions: KeyError and IndexError.\n",
    "1. KeyError is raised when a key is not found in a dictionary\n",
    "2. IndexError is raised when an index is not found in a list."
   ]
  },
  {
   "cell_type": "code",
   "execution_count": 13,
   "metadata": {},
   "outputs": [
    {
     "name": "stdout",
     "output_type": "stream",
     "text": [
      "Error Occured and Handled Key Error : 'key3'\n"
     ]
    }
   ],
   "source": [
    "# Example 1 : Key Error \n",
    "logging.info('This is start of Key Error Example')\n",
    "try :\n",
    "    d = {'key1':'value1','key2':'value2'}\n",
    "    d['key3']\n",
    "    logging.info('Try Block executed')\n",
    "except KeyError as e:\n",
    "    print(f'Error Occured and Handled Key Error : {e}')\n",
    "    logging.exception(f'Error Occured and Handled Key Error : {e}')\n",
    "finally:\n",
    "    logging.info('This is end of Key Error Example')"
   ]
  },
  {
   "cell_type": "code",
   "execution_count": 14,
   "metadata": {},
   "outputs": [
    {
     "name": "stdout",
     "output_type": "stream",
     "text": [
      "Index error occured and Handled : list index out of range\n"
     ]
    }
   ],
   "source": [
    "# Example 2: Index Error\n",
    "logging.info('This is start of Index error example')\n",
    "try:\n",
    "    l = [1,2,3,4,5,True,'sample']\n",
    "    l[21]\n",
    "except IndexError as e:\n",
    "    print(f'Index error occured and Handled : {e}')\n",
    "    logging.exception(f'Index error occured and Handled : {e}')\n",
    "finally:\n",
    "    logging.info('Index Error Example complete')"
   ]
  },
  {
   "attachments": {},
   "cell_type": "markdown",
   "metadata": {},
   "source": [
    "## Question 5 : Explain ImportError. What is ModuleNotFoundError?\n",
    "---"
   ]
  },
  {
   "attachments": {},
   "cell_type": "markdown",
   "metadata": {},
   "source": [
    "## Answer :\n",
    "1. ImportError is a class in Python that represents exceptions raised when a module or package cannot be found or imported. An ImportError is raised when Python encounters a line of code that tries to import a module or package that does not exist or is not accessible due to a file system error, for example.\n",
    "2. ModuleNotFoundError is a subclass of ImportError that is specifically raised when a module cannot be found in the Python path. It was added in Python 3.6 as a more descriptive error message to replace the generic ImportError message."
   ]
  },
  {
   "cell_type": "code",
   "execution_count": 17,
   "metadata": {},
   "outputs": [
    {
     "name": "stdout",
     "output_type": "stream",
     "text": [
      "ImportError Occured and handled : No module named 'calculus'\n"
     ]
    }
   ],
   "source": [
    "# Example 1: ImportError : This is parent class for ModuleNotFoundError\n",
    "logging.info('This is start of example for ImportError')\n",
    "try :\n",
    "    import calculus\n",
    "    logging.info('Module Imported')\n",
    "except ImportError as e:\n",
    "    print(f'ImportError Occured and handled : {e}')\n",
    "    logging.exception(f'ImportError Occured and handled : {e}')\n",
    "finally:\n",
    "    logging.info('ImportError Example Complete')"
   ]
  },
  {
   "cell_type": "code",
   "execution_count": 18,
   "metadata": {},
   "outputs": [
    {
     "name": "stdout",
     "output_type": "stream",
     "text": [
      "ImportError Occured and handled : No module named 'calculus'\n"
     ]
    }
   ],
   "source": [
    "# Example 2: ModuleNotFoundError: This is child class of ImportError\n",
    "logging.info('This is start of example for ModuleNotFoundError')\n",
    "try :\n",
    "    import calculus\n",
    "    logging.info('Module Imported')\n",
    "except ModuleNotFoundError as e:\n",
    "    print(f'ImportError Occured and handled : {e}')\n",
    "    logging.exception(f'ModuleNotFoundError Occured and handled : {e}')\n",
    "finally:\n",
    "    logging.info('ModuleNotFound Example Complete')"
   ]
  },
  {
   "attachments": {},
   "cell_type": "markdown",
   "metadata": {},
   "source": [
    "## Question 6 : List down some best practices for exception handling in python.\n",
    "---"
   ]
  },
  {
   "attachments": {},
   "cell_type": "markdown",
   "metadata": {},
   "source": [
    "# Answer :\n",
    "Here are some best practices for exception handling in Python:\n",
    "\n",
    "1. Be specific in catching exceptions: Instead of catching a broad, generic exception such as Exception, it's better to catch more specific exceptions that correspond to the errors you expect to handle. This way, you can ensure that only the errors you want to handle are caught and other unexpected errors are allowed to propagate.\n",
    "\n",
    "2. Use try-except blocks: try-except blocks are the recommended way to handle exceptions in Python. They allow you to catch exceptions and take appropriate action, without letting the program crash.\n",
    "\n",
    "3. Provide meaningful error messages: When raising exceptions, provide meaningful error messages that can help you diagnose and fix the problem. Avoid using generic error messages like \"Something went wrong\".\n",
    "\n",
    "4. Avoid using bare except blocks: Bare except blocks catch all exceptions and can hide important information about the cause of the error. Instead, use specific exception classes or Exception with a more descriptive error message.\n",
    "\n",
    "5. Use finally blocks wisely: finally blocks are used to execute code that needs to run regardless of whether an exception was raised or not. Use them wisely to clean up resources or close files, for example.\n",
    "\n",
    "6. Don't suppress exceptions: Avoid suppressing exceptions by using a bare except block or catching a broad exception class and not re-raising it. Doing so can hide important information about the cause of the error and make it harder to diagnose and fix.\n",
    "\n",
    "7. Propagate exceptions up the call stack: If you catch an exception and cannot handle it, propagate it up the call stack by re-raising it. This way, the exception can be handled by an enclosing try-except block or reach the top-level of the program where it can be logged or displayed to the user."
   ]
  },
  {
   "cell_type": "code",
   "execution_count": 20,
   "metadata": {},
   "outputs": [],
   "source": [
    "# Example code using some of best practices Divide function\n",
    "def divide(a, b):\n",
    "    logging.info('This is start of divide function')\n",
    "    try:\n",
    "        result = a / b\n",
    "        logging.info('Try Block executed')\n",
    "    except ZeroDivisionError as e:\n",
    "        logging.exception(f'Zero Division Error occured and Handled : {e}')\n",
    "        raise ValueError(\"Cannot divide by zero\") from e\n",
    "    except TypeError as e:\n",
    "        logging.exception(f'Type Error Occured and Handled : {e}')\n",
    "        raise ValueError(\"Both arguments must be numbers\") from e\n",
    "    else:\n",
    "        logging.info('Else Block Executed')\n",
    "        return result\n",
    "    finally:\n",
    "        logging.info('This is end of divide function')"
   ]
  },
  {
   "cell_type": "code",
   "execution_count": 22,
   "metadata": {},
   "outputs": [
    {
     "name": "stdout",
     "output_type": "stream",
     "text": [
      "3.3333333333333335\n"
     ]
    }
   ],
   "source": [
    "# Example 1: Both are numbers\n",
    "try:\n",
    "    print(divide(20,6))    \n",
    "except (ZeroDivisionError, ValueError) as e:\n",
    "    print(f'Error occured and Handled : {e}')    \n",
    "    logging.exception(f'Error occured and Handled : {e}')"
   ]
  },
  {
   "cell_type": "code",
   "execution_count": 23,
   "metadata": {},
   "outputs": [
    {
     "name": "stdout",
     "output_type": "stream",
     "text": [
      "Error occured and Handled : Cannot divide by zero\n"
     ]
    }
   ],
   "source": [
    "# Example 2: Dividing by Zero\n",
    "try:\n",
    "    print(divide(43,0))    \n",
    "except (ZeroDivisionError, ValueError) as e:\n",
    "    print(f'Error occured and Handled : {e}')    \n",
    "    logging.exception(f'Error occured and Handled : {e}')"
   ]
  },
  {
   "cell_type": "code",
   "execution_count": 25,
   "metadata": {},
   "outputs": [
    {
     "name": "stdout",
     "output_type": "stream",
     "text": [
      "Error occured and Handled : Both arguments must be numbers\n"
     ]
    }
   ],
   "source": [
    "# Example 3: Dividing with String\n",
    "try:\n",
    "    print(divide(43,'example'))    \n",
    "except (ZeroDivisionError, ValueError) as e:\n",
    "    print(f'Error occured and Handled : {e}')    \n",
    "    logging.exception(f'Error occured and Handled : {e}')"
   ]
  },
  {
   "cell_type": "code",
   "execution_count": 26,
   "metadata": {},
   "outputs": [],
   "source": [
    "# Shutdown logging first\n",
    "logging.shutdown()"
   ]
  },
  {
   "cell_type": "code",
   "execution_count": 28,
   "metadata": {},
   "outputs": [
    {
     "name": "stdout",
     "output_type": "stream",
     "text": [
      "2023-02-13 22:14:03,916 - root - INFO - This is starting of process_transaction definition.\n",
      "2023-02-13 22:14:03,916 - root - INFO - Transaction is valid with amount : 500\n",
      "2023-02-13 22:14:03,916 - root - INFO - Try Block executed\n",
      "2023-02-13 22:14:29,357 - root - INFO - This is starting of process_transaction definition.\n",
      "2023-02-13 22:14:29,359 - root - INFO - Transaction is valid with amount : 1000\n",
      "2023-02-13 22:14:29,359 - root - INFO - Try Block executed\n",
      "2023-02-13 22:14:45,781 - root - INFO - This is starting of process_transaction definition.\n",
      "2023-02-13 22:14:45,784 - root - ERROR - Exception Occured Transaction amount Exceeded the limit\n",
      "NoneType: None\n",
      "2023-02-13 22:14:45,785 - root - INFO - Transaction of Amount : 2000 Exceeded the limit 1000\n",
      "2023-02-13 22:14:45,789 - root - ERROR - Transaction Limit Exceeded , Exception : Transaction limit exceeded\n",
      "Traceback (most recent call last):\n",
      "  File \"C:\\Users\\Utkarsh Gaikwad\\AppData\\Local\\Temp\\ipykernel_3836\\1560911046.py\", line 12, in process_transaction\n",
      "    raise TransactionLimitExceeded(\"Transaction limit exceeded\", amount, limit)\n",
      "TransactionLimitExceeded: Transaction limit exceeded\n",
      "2023-02-13 22:15:50,255 - root - INFO - This is starting of process_transaction definition.\n",
      "2023-02-13 22:15:50,255 - root - INFO - Transaction is valid with amount : 500\n",
      "2023-02-13 22:15:50,256 - root - INFO - Try Block executed\n",
      "2023-02-13 22:15:52,675 - root - INFO - This is starting of process_transaction definition.\n",
      "2023-02-13 22:15:52,675 - root - INFO - Transaction is valid with amount : 1000\n",
      "2023-02-13 22:15:52,676 - root - INFO - Try Block executed\n",
      "2023-02-13 22:15:53,815 - root - INFO - This is starting of process_transaction definition.\n",
      "2023-02-13 22:15:53,815 - root - ERROR - Exception Occured Transaction amount Exceeded the limit\n",
      "2023-02-13 22:15:53,815 - root - INFO - Transaction of Amount : 2000 Exceeded the limit 1000\n",
      "2023-02-13 22:15:53,815 - root - ERROR - Transaction Limit Exceeded , Exception : Transaction limit exceede\n"
     ]
    }
   ],
   "source": [
    "# Showing a preview of log file\n",
    "with open('Assignment12.log','r') as f:\n",
    "    print(f.read(2000))"
   ]
  },
  {
   "cell_type": "code",
   "execution_count": 29,
   "metadata": {},
   "outputs": [
    {
     "data": {
      "text/plain": [
       "'Assignment12Log.txt'"
      ]
     },
     "execution_count": 29,
     "metadata": {},
     "output_type": "execute_result"
    }
   ],
   "source": [
    "# Copying and saving entire log as txt file\n",
    "import shutil\n",
    "shutil.copy('Assignment12.log','Assignment12Log.txt')"
   ]
  }
 ],
 "metadata": {
  "kernelspec": {
   "display_name": "venv",
   "language": "python",
   "name": "python3"
  },
  "language_info": {
   "codemirror_mode": {
    "name": "ipython",
    "version": 3
   },
   "file_extension": ".py",
   "mimetype": "text/x-python",
   "name": "python",
   "nbconvert_exporter": "python",
   "pygments_lexer": "ipython3",
   "version": "3.10.7"
  },
  "orig_nbformat": 4,
  "vscode": {
   "interpreter": {
    "hash": "27149e82490bdaa27222c4e29544e396278d224a9f42010d392c3451ce079b12"
   }
  }
 },
 "nbformat": 4,
 "nbformat_minor": 2
}
