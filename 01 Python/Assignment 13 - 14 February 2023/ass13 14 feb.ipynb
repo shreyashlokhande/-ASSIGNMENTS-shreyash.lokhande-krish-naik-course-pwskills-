{
 "cells": [
  {
   "attachments": {},
   "cell_type": "markdown",
   "metadata": {},
   "source": [
    "## Assignment 13 # (14 feb)\n",
    "##### Shreyash Lokahdne"
   ]
  },
  {
   "attachments": {},
   "cell_type": "markdown",
   "metadata": {},
   "source": [
    "## Import logging method in custom format"
   ]
  },
  {
   "cell_type": "code",
   "execution_count": 1,
   "metadata": {},
   "outputs": [],
   "source": [
    "import logging\n",
    "logging.basicConfig(filename='Assignment13.log',level=logging.DEBUG,format= '%(asctime)s - %(name)s - %(levelname)s - %(message)s')"
   ]
  },
  {
   "attachments": {},
   "cell_type": "markdown",
   "metadata": {},
   "source": [
    "## Question 1: What is Multi Threading in Python? Why it is used? Name the module used to handle threads in python.\n",
    "---"
   ]
  },
  {
   "attachments": {},
   "cell_type": "markdown",
   "metadata": {},
   "source": [
    "## Answer :\n",
    "1. A thread is a unit of execution within a process. Multithreading refers to concurrently executing multiple threads by rapidly switching the control of the CPU between threads (called context switching).\n",
    "2. Threading in python is used to run multiple threads (tasks, function calls) at the same time. Note that this does not mean that they are executed on different CPUs. Python threads will NOT make your program faster if it already uses 100 % CPU time. In that case, you probably want to look into parallel programming.\n",
    "3. The module used to handle threads in python is \"threading\" module"
   ]
  },
  {
   "attachments": {},
   "cell_type": "markdown",
   "metadata": {},
   "source": [
    "### Below is example of fetching multiple files from url with help of threading"
   ]
  },
  {
   "cell_type": "code",
   "execution_count": 2,
   "metadata": {},
   "outputs": [],
   "source": [
    "#Create a function to download file \n",
    "import urllib.request\n",
    "\n",
    "def file_download(url, filename):\n",
    "    \"\"\"\n",
    "    This function downloads files from url and saves it into given filename\n",
    "    \"\"\"\n",
    "    try: \n",
    "        logging.info('This is start of file_download function')\n",
    "        urllib.request.urlretrieve(url,filename)\n",
    "        logging.info(f'File from url {url} download successfully and saved as {filename}')\n",
    "    except ValueError as e:\n",
    "        logging.error(f'{url} Url entered is incorrect, error occured : {e}')\n",
    "        raise ValueError('Please enter proper url , File not found')\n",
    "    finally:\n",
    "        logging.info('This is end of file_download function')       "
   ]
  },
  {
   "cell_type": "code",
   "execution_count": 3,
   "metadata": {},
   "outputs": [],
   "source": [
    "# Creating a list of URL's and filenames to save\n",
    "url_list = ['https://raw.githubusercontent.com/utkarshg1/PWSkills-Assignments/main/Assignment%2012%20-%2013%20February%202023/Assignment12Log.txt',\n",
    " 'https://raw.githubusercontent.com/utkarshg1/PWSkills-Assignments/main/Assignment%2011%20-%2012%20February%202023/TryExceptLog.txt',\n",
    " 'https://raw.githubusercontent.com/utkarshg1/PWSkills-Assignments/main/Assignment%2010%20-%20%2010%20February%202023/students.txt']\n",
    "\n",
    "data_file_list = ['data1.txt','data2.txt','data3.txt']"
   ]
  },
  {
   "cell_type": "code",
   "execution_count": 4,
   "metadata": {},
   "outputs": [
    {
     "data": {
      "text/plain": [
       "[<Thread(Thread-3 (file_download), initial)>,\n",
       " <Thread(Thread-4 (file_download), initial)>,\n",
       " <Thread(Thread-5 (file_download), initial)>]"
      ]
     },
     "execution_count": 4,
     "metadata": {},
     "output_type": "execute_result"
    }
   ],
   "source": [
    "# Creating Multithreading operation\n",
    "import threading\n",
    "thread = [threading.Thread(target=file_download, args=(url_list[i],data_file_list[i])) for i in range(len(url_list))]\n",
    "logging.info(thread)\n",
    "thread"
   ]
  },
  {
   "cell_type": "code",
   "execution_count": 5,
   "metadata": {},
   "outputs": [
    {
     "name": "stdout",
     "output_type": "stream",
     "text": [
      "CPU times: total: 0 ns\n",
      "Wall time: 4.3 ms\n"
     ]
    }
   ],
   "source": [
    "%%time\n",
    "# Timing the MultiThreading Time\n",
    "try:\n",
    "    logging.info('This is start of Multithreading')\n",
    "    for t in thread:\n",
    "        t.start()\n",
    "    logging.info('All Data Downloaded Successfully')\n",
    "except ValueError as e:\n",
    "    logging.error(f'url not found error occured and handled {e}' )\n",
    "    print('Url not found exception occured and handled :',e)\n",
    "except RuntimeError as e:\n",
    "    logging.error(f'RuntimeError occured : {e}')\n",
    "    print('Threads can only be started once, Error occured :',e)\n",
    "finally:\n",
    "    logging.info('This is end of Multithreading')"
   ]
  },
  {
   "cell_type": "code",
   "execution_count": 6,
   "metadata": {},
   "outputs": [
    {
     "name": "stdout",
     "output_type": "stream",
     "text": [
      "CPU times: total: 46.9 ms\n",
      "Wall time: 248 ms\n"
     ]
    }
   ],
   "source": [
    "%%time\n",
    "# Timing The Normal For loop method to download files sequentially\n",
    "try :\n",
    "    logging.info('This is start of normal looping method')\n",
    "    for i in range(len(url_list)):\n",
    "        file_download(url_list[i],data_file_list[i])\n",
    "    logging.info('All Files Download successfully')\n",
    "except ValueError as e:\n",
    "    logging.error(f'Please enter proper url , Error occured : {e}')\n",
    "    print('Url not found exception occured and handled :',e)\n",
    "finally:\n",
    "    logging.info('This is end of normal looping method')"
   ]
  },
  {
   "attachments": {},
   "cell_type": "markdown",
   "metadata": {},
   "source": [
    "%%time is a magic command in Jupyter Notebook that is used to measure the execution time of a single code cell. When you use this command at the beginning of a cell, Jupyter Notebook will measure the time it takes to execute the entire cell and display the execution time in the output cell."
   ]
  },
  {
   "attachments": {},
   "cell_type": "markdown",
   "metadata": {},
   "source": [
    "The CPU times section shows the amount of CPU time used by the code, while the Wall time section shows the actual time it took to execute the code. This can be helpful for optimizing code and identifying performance bottlenecks."
   ]
  },
  {
   "attachments": {},
   "cell_type": "markdown",
   "metadata": {},
   "source": [
    "### Above shows that Wall Time for Threading is much lesser than Normal for loop for downloading and saving multiple files."
   ]
  },
  {
   "attachments": {},
   "cell_type": "markdown",
   "metadata": {},
   "source": [
    "## Question 2: Why Threading Module is used ? Write the use of following functions\n",
    "1. activeCount()\n",
    "2. currentThread()\n",
    "3. enumerate\n",
    "---"
   ]
  },
  {
   "attachments": {},
   "cell_type": "markdown",
   "metadata": {},
   "source": [
    "## Answer : Python \"threading\" module allows you to have different parts of your program run concurrently and can simplify your design.<br>\n",
    "\n",
    "### Use of below functions :\n",
    "### 1. active_count() -  Returns the number of thread objects that are active.(activeCount is deprecated latest function is active_count)"
   ]
  },
  {
   "cell_type": "code",
   "execution_count": 11,
   "metadata": {},
   "outputs": [
    {
     "name": "stdout",
     "output_type": "stream",
     "text": [
      "Currently active threads are : 6\n"
     ]
    }
   ],
   "source": [
    "# Example 1: active_count() \n",
    "print(f\"Currently active threads are : {threading.active_count()}\")\n",
    "logging.info(f\"Currently active threads are : {threading.active_count()}\")"
   ]
  },
  {
   "attachments": {},
   "cell_type": "markdown",
   "metadata": {},
   "source": [
    "### 2. current_thread() - it returns the current Thread object active at the moment.(currentThread is deprecated latest function is current_thread) "
   ]
  },
  {
   "cell_type": "code",
   "execution_count": 16,
   "metadata": {},
   "outputs": [
    {
     "name": "stdout",
     "output_type": "stream",
     "text": [
      "Current thread is : <_MainThread(MainThread, started 13228)>\n"
     ]
    }
   ],
   "source": [
    "# Example 2: current_thread()\n",
    "print(f\"Current thread is : {threading.current_thread()}\")\n",
    "logging.info(f\"Current thread is : {threading.current_thread()}\")"
   ]
  },
  {
   "attachments": {},
   "cell_type": "markdown",
   "metadata": {},
   "source": [
    "### 3. enumerate() -  Returns a list of all thread objects that are currently active."
   ]
  },
  {
   "cell_type": "code",
   "execution_count": 18,
   "metadata": {},
   "outputs": [
    {
     "name": "stdout",
     "output_type": "stream",
     "text": [
      "List of all active threads is : [<_MainThread(MainThread, started 13228)>, <Thread(IOPub, started daemon 19272)>, <Heartbeat(Heartbeat, started daemon 11364)>, <ControlThread(Control, started daemon 19848)>, <HistorySavingThread(IPythonHistorySavingThread, started 9360)>, <ParentPollerWindows(Thread-2, started daemon 14084)>]\n"
     ]
    }
   ],
   "source": [
    "# Example 3: enumerate()\n",
    "print(f'List of all active threads is : {threading.enumerate()}')\n",
    "logging.info(f'List of all active threads is : {threading.enumerate()}')"
   ]
  },
  {
   "attachments": {},
   "cell_type": "markdown",
   "metadata": {},
   "source": [
    "## Question 3: Explain the following functions:\n",
    "1. run()\n",
    "2. start()\n",
    "3. join()\n",
    "4. isAlive()\n",
    "---"
   ]
  },
  {
   "attachments": {},
   "cell_type": "markdown",
   "metadata": {},
   "source": [
    "## Answer :"
   ]
  },
  {
   "attachments": {},
   "cell_type": "markdown",
   "metadata": {},
   "source": [
    "### 1. run() - The standard run() method invokes the callable object passed to the object’s constructor as the target argument, if any, with positional and keyword arguments taken from the args and kwargs arguments, respectively."
   ]
  },
  {
   "cell_type": "code",
   "execution_count": 19,
   "metadata": {},
   "outputs": [
    {
     "name": "stdout",
     "output_type": "stream",
     "text": [
      "Hello World 1\n"
     ]
    }
   ],
   "source": [
    "# Example 1 run()\n",
    "t = threading.Thread(target=print,args=['Hello World','1'])\n",
    "t.run()\n",
    "logging.info('run() Command executed')"
   ]
  },
  {
   "attachments": {},
   "cell_type": "markdown",
   "metadata": {},
   "source": [
    "### 2. start() - Start the thread’s activity. It must be called at most once per thread object. It arranges for the object’s run() method to be invoked in a separate thread of control.This method will raise a RuntimeError if called more than once on the same thread object.\n",
    "\n",
    "### 3. join() - Wait until the thread terminates. This blocks the calling thread until the thread whose join() method is called terminates – either normally or through an unhandled exception – or until the optional timeout occurs."
   ]
  },
  {
   "cell_type": "code",
   "execution_count": 20,
   "metadata": {},
   "outputs": [
    {
     "name": "stdout",
     "output_type": "stream",
     "text": [
      "Counter Value : 0\n",
      "Counter Value : 1\n",
      "Counter Value : 2\n",
      "Counter Value : 3\n",
      "Counter Value : 4\n",
      "Counter Value : 5\n",
      "Counter Value : 6\n",
      "Counter Value : 7\n",
      "Counter Value : 8\n",
      "Counter Value : 9\n",
      "Thread Finished\n"
     ]
    }
   ],
   "source": [
    "# Example 2,3 start() and join()\n",
    "# function to create threads\n",
    "from time import sleep\n",
    "def counter_function(arg):\n",
    "    for i in range(arg):\n",
    "        print(f\"Counter Value : {i}\")\n",
    "        logging.info(f\"Counter Value : {i}\")\n",
    "    # Wait for 1 second\n",
    "    sleep(1)\n",
    "\n",
    "thread2 = threading.Thread(target=counter_function,args=(10,))\n",
    "thread2.start() # Starts executing the threads seperately\n",
    "thread2.join() # Join will wait until the thread is terminated\n",
    "print('Thread Finished')\n",
    "logging.info('Thread Finished')"
   ]
  },
  {
   "attachments": {},
   "cell_type": "markdown",
   "metadata": {},
   "source": [
    "### 4. is_alive() - (isAlive is deprecated latest function - is_alive) Return whether the thread is alive. This method returns True just before the run() method starts until just after the run() method terminates."
   ]
  },
  {
   "cell_type": "code",
   "execution_count": 25,
   "metadata": {},
   "outputs": [
    {
     "name": "stdout",
     "output_type": "stream",
     "text": [
      "Check for thread2 is alive :  False\n"
     ]
    }
   ],
   "source": [
    "print('Check for thread2 is alive : ',thread2.is_alive())\n",
    "logging.info(f'thread 2 is alive : {thread2.is_alive()}')"
   ]
  },
  {
   "attachments": {},
   "cell_type": "markdown",
   "metadata": {},
   "source": [
    "## Question 4: Write a python program that creates two threads. Thread 1 must print list of squares and Thread 2 must print list of cubes.\n",
    "---"
   ]
  },
  {
   "attachments": {},
   "cell_type": "markdown",
   "metadata": {},
   "source": [
    "## Answer :"
   ]
  },
  {
   "cell_type": "code",
   "execution_count": 29,
   "metadata": {},
   "outputs": [],
   "source": [
    "# Define List Squares method\n",
    "def list_squares(start,end):\n",
    "    \"\"\"\n",
    "    This function prints list of squares\n",
    "    for given start and end numbers\n",
    "    \"\"\"\n",
    "    for i in range(start, end+1):\n",
    "        print(f'Square of {i} is : {i*i}')\n",
    "        logging.info(f'Square of {i} is : {i*i}')"
   ]
  },
  {
   "cell_type": "code",
   "execution_count": 30,
   "metadata": {},
   "outputs": [],
   "source": [
    "# Define List Cubes method\n",
    "def list_cubes(start,end):\n",
    "    \"\"\"\n",
    "    This function prints list of cubes\n",
    "    for given start and end numbers\n",
    "    \"\"\"\n",
    "    for i in range(start, end+1):\n",
    "        print(f'Cube of {i} is : {i*i}')\n",
    "        logging.info(f'Cube of {i} is : {i**3}')"
   ]
  },
  {
   "cell_type": "code",
   "execution_count": 31,
   "metadata": {},
   "outputs": [
    {
     "name": "stdout",
     "output_type": "stream",
     "text": [
      "Square of 1 is : 1\n",
      "Cube of 7 is : 49\n",
      "Square of 2 is : 4\n",
      "Cube of 8 is : 64\n",
      "Square of 3 is : 9\n",
      "Cube of 9 is : 81\n",
      "Square of 4 is : 16\n",
      "Cube of 10 is : 100\n",
      "Square of 5 is : 25\n",
      "Cube of 11 is : 121\n",
      "Square of 6 is : 36\n",
      "Cube of 12 is : 144\n",
      "Square of 7 is : 49\n",
      "Cube of 13 is : 169\n",
      "Square of 8 is : 64\n",
      "Cube of 14 is : 196\n",
      "Square of 9 is : 81\n",
      "Cube of 15 is : 225\n",
      "Square of 10 is : 100\n",
      "Cube of 16 is : 256\n"
     ]
    }
   ],
   "source": [
    "# Defining threads 1 and 2 and executing\n",
    "\n",
    "# create the threads with custom arguments\n",
    "t1 = threading.Thread(target=list_squares, args=(1, 10))\n",
    "t2 = threading.Thread(target=list_cubes, args=(7, 16))\n",
    "\n",
    "# start the threads\n",
    "t1.start()\n",
    "t2.start()\n",
    "\n",
    "# wait for the threads to finish\n",
    "t1.join()\n",
    "t2.join()"
   ]
  },
  {
   "attachments": {},
   "cell_type": "markdown",
   "metadata": {},
   "source": [
    "## Question 5: State advantages and disadvantages of Multithreading.\n",
    "---"
   ]
  },
  {
   "attachments": {},
   "cell_type": "markdown",
   "metadata": {},
   "source": [
    "## Answer : Multithreading is a programming technique that enables a program to perform multiple tasks concurrently. In multithreading, multiple threads are created, and each thread can execute a different part of the program at the same time. There are several advantages and disadvantages of multithreading, which we will discuss below:"
   ]
  },
  {
   "attachments": {},
   "cell_type": "markdown",
   "metadata": {},
   "source": [
    "### Advantages of multithreading:\n",
    "1. Improved performance: Multithreading can improve the performance of a program by allowing different parts of the program to run simultaneously. This can make the program more efficient and reduce the overall execution time.\n",
    "\n",
    "2. Better resource utilization: Multithreading can make better use of available resources such as CPU and memory by distributing the workload across multiple threads.\n",
    "\n",
    "3. Enhanced user experience: Multithreading can improve the user experience by making the program more responsive and interactive.\n",
    "\n",
    "4. Simplified coding: Multithreading can simplify coding by allowing the programmer to break down complex tasks into smaller, more manageable threads.\n",
    "\n",
    "5. Scalability: Multithreading allows the program to scale well as the number of threads can be increased based on the available resources."
   ]
  },
  {
   "attachments": {},
   "cell_type": "markdown",
   "metadata": {},
   "source": [
    "### Disadvantage of Multithreading\n",
    "1. Increased complexity: Multithreading can make the program more complex and harder to debug. It can be challenging to ensure that multiple threads access shared resources in a thread-safe manner, which can lead to synchronization issues.\n",
    "\n",
    "2. Overhead: Multithreading adds overhead to the program as there is additional management overhead for creating, synchronizing, and managing threads.\n",
    "\n",
    "3. Race conditions: Multithreading can lead to race conditions, where multiple threads try to access the same shared resource simultaneously, resulting in unpredictable and incorrect behavior.\n",
    "\n",
    "4. Resource contention: Multithreading can result in resource contention when multiple threads try to access the same resource, such as memory or I/O devices, which can lead to performance degradation.\n",
    "\n",
    "5. Deadlocks: Multithreading can lead to deadlocks, where two or more threads are blocked waiting for each other to release resources, resulting in a program that hangs or crashes."
   ]
  },
  {
   "attachments": {},
   "cell_type": "markdown",
   "metadata": {},
   "source": [
    "### In summary, multithreading can provide several benefits, such as improved performance, better resource utilization, and enhanced user experience. However, it can also introduce several challenges, such as increased complexity, race conditions, and deadlocks, which can make the program harder to maintain and debug. It is essential to carefully design and implement multithreaded programs to avoid these issues."
   ]
  },
  {
   "attachments": {},
   "cell_type": "markdown",
   "metadata": {},
   "source": [
    "## Question 6: Explain deadlocks and race conditions.\n",
    "---"
   ]
  },
  {
   "attachments": {},
   "cell_type": "markdown",
   "metadata": {},
   "source": [
    "## Answer : Deadlocks and race conditions are two common synchronization issues that can occur in multithreaded programs."
   ]
  },
  {
   "attachments": {},
   "cell_type": "markdown",
   "metadata": {},
   "source": [
    "1. Deadlocks : A deadlock is a situation where two or more threads are blocked, waiting for each other to release a resource. In other words, each thread is holding a resource that the other thread needs to proceed, but neither thread can release its resource until it acquires the resource it is waiting for. This results in a situation where both threads are stuck, waiting indefinitely for the other thread to release the resource. Deadlocks can cause a program to hang or crash and are notoriously difficult to debug.\n",
    "2. Race Condition : A race condition occurs when two or more threads access a shared resource simultaneously, and the final outcome depends on the order in which the threads are executed. In other words, the execution of the program depends on the timing of the threads, and if the order of execution is not controlled, it can result in unpredictable behavior. For example, if two threads try to update the same variable simultaneously, the final value of the variable will depend on which thread executed first. This can result in incorrect program behavior, such as data corruption or inconsistency."
   ]
  },
  {
   "attachments": {},
   "cell_type": "markdown",
   "metadata": {},
   "source": [
    "#### To avoid deadlocks and race conditions, it is important to ensure that the threads access shared resources in a thread-safe manner. This can be achieved using synchronization mechanisms such as locks, semaphores, and mutexes, which allow only one thread to access a shared resource at a time. It is also important to design multithreaded programs carefully, avoiding shared resources wherever possible, and minimizing the time that a thread holds a lock to prevent deadlocks. Additionally, techniques such as thread prioritization and thread scheduling can be used to control the order of execution and avoid race conditions."
   ]
  },
  {
   "cell_type": "code",
   "execution_count": 32,
   "metadata": {},
   "outputs": [],
   "source": [
    "# Shutdown logging first\n",
    "logging.shutdown()"
   ]
  },
  {
   "cell_type": "code",
   "execution_count": 33,
   "metadata": {},
   "outputs": [
    {
     "name": "stdout",
     "output_type": "stream",
     "text": [
      "2023-02-15 01:29:35,564 - root - INFO - [<Thread(Thread-3 (file_download), initial)>, <Thread(Thread-4 (file_download), initial)>, <Thread(Thread-5 (file_download), initial)>]\n",
      "2023-02-15 01:29:35,640 - root - INFO - This is start of Multithreading\n",
      "2023-02-15 01:29:35,640 - root - INFO - This is start of file_download function\n",
      "2023-02-15 01:29:35,642 - root - INFO - This is start of file_download function\n",
      "2023-02-15 01:29:35,643 - root - INFO - This is start of file_download function\n",
      "2023-02-15 01:29:35,643 - root - INFO - All Data Downloaded Successfully\n",
      "2023-02-15 01:29:35,644 - root - INFO - This is end of Multithreading\n",
      "2023-02-15 01:29:35,734 - root - INFO - This is start of normal looping method\n",
      "2023-02-15 01:29:35,734 - root - INFO - This is start of file_download function\n",
      "2023-02-15 01:29:35,769 - root - INFO - File from url https://raw.githubusercontent.com/utkarshg1/PWSkills-Assignments/main/Assignment%2010%20-%20%2010%20February%202023/students.txt download successfully and saved as data3.txt\n",
      "2023-02-15 01:29:35,771 - root - INFO - This is end of file_download function\n",
      "2023-02-15 01:29:35,773 - root - INFO - File from url https://raw.githubusercontent.com/utkarshg1/PWSkills-Assignments/main/Assignment%2011%20-%2012%20February%202023/TryExceptLog.txt download successfully and saved as data2.txt\n",
      "2023-02-15 01:29:35,773 - root - INFO - This is end of file_download function\n",
      "2023-02-15 01:29:35,781 - root - INFO - File from url https://raw.githubusercontent.com/utkarshg1/PWSkills-Assignments/main/Assignment%2012%20-%2013%20February%202023/Assignment12Log.txt download successfully and saved as data1.txt\n",
      "2023-02-15 01:29:35,781 - root - INFO - This is end of file_download function\n",
      "2023-02-15 01:29:35,781 - root - INFO - This is start of file_download function\n",
      "2023-02-15 01:29:35,800 - root - INFO - File from url https://raw.githubusercontent.com/utkarshg1/PWSkills-Assignments/main/Assignment%2012%20-%2013%20February%202023/Assignment12Log.txt download successfully and saved as data1.txt\n",
      "2023-02-15 01:29:35,800 - root - INFO - This is end of file_download function\n",
      "2023-02-15 01:29:35,822 - root - INFO - File from url https://raw.githubusercontent.com/utkarshg1/PWSkills-Assignments/main/Assignment%2011%20-%2012%20February%202023/TryExceptLog.txt download successfully and saved as data2.txt\n",
      "2023-02-15 01:29:35,822 - root - INFO - This is end of file_download function\n",
      "2023-02-15 01:29:35,822 - root - INFO - This is start of file_download function\n",
      "2023-02-15 01:29:35,981 - root - INFO - File from url https://raw.githubusercontent.com/utkarshg1/PWSkills-Assignments/main/Assignment%2010%20-%20%2010%20February%202023/students.txt download successfully and saved as data3.txt\n",
      "2023-02-15 01:29:35,981 - root - INFO - This is end of file_download function\n",
      "2023-02-15 01:29:35,981 - root - INFO - All Files Download successfully\n",
      "2023-02-15 01:29:35,981 - root - INFO - This is end of normal looping method\n",
      "2023-02-15 01:46:36,376 - root - INFO - currently active threads are : 6\n",
      "2023-02-15 01:46:44,412 - root - INFO - Currently active threads are : 6\n",
      "2023-02-15 01:50:37,252 - root - INFO - Number of thread objects in caller's threads control : <_MainThread(MainThread, started 13228)>\n",
      "2023-02-15 01:53:13,654 - root - INFO - Current thread is : <_MainThread(MainThread, started 13228)>\n",
      "2023-02-15 01:55:17,612 - root - INFO - List of all active threads is : [<_MainThread(MainThread, started 13228)>, <Thread(IOPub, started daemon 19272)>, <Heartbeat(Heartbeat, started daemon 11364)>, <ControlThread(Control, started daemon 19848)>, <HistorySavingThread(IPythonHistorySavingThread, started 9360)>, <ParentPollerWindows(Thread-2, started daemon 14084)>]\n",
      "2023-02-15 02:05:43,301 - root - INFO - run() Command executed\n",
      "2023-02-15 02:14:46,642 - root - INFO - Counter Value : 0\n",
      "2023-02-15 02:14:46,644 - root - INFO - Counter Value : 1\n",
      "2023-02-15 02:14:46,644 - root - INFO - Counter Value : 2\n",
      "2023-02-15 02:14:46,644 - root - INFO - Counter Value : 3\n",
      "2023-02-15 02:14:46,644 - root - INFO - Counter Value : 4\n",
      "2023-02-15 02:14:46,644 - root - INFO - Counter Value : 5\n",
      "2023-02-15 02:14:46,644 - root - INFO - Counter Value : 6\n",
      "2023-02-15 02:14:46,644 - root - INFO - Counter Value : 7\n",
      "2023-02-15 02:14:46,644 - root - INFO - Counter Value : 8\n",
      "2023-02-15 02:14:46,644 - root - INFO - Counter Value : 9\n",
      "2023-02-15 02:14:47,651 - root - INFO - Thread Finished\n",
      "2023-02-15 02:21:29,826 - root - INFO - thread 2 is alive : <bound method Thread.is_alive of <Thread(Thread-7 (counter_function), stopped 21556)>>\n",
      "2023-02-15 02:22:00,620 - root - INFO - thread 2 is alive : False\n",
      "2023-02-15 02:37:36,315 - root - INFO - Square of 1 is 1\n",
      "2023-02-15 02:37:36,315 - root - INFO - Square of 2 is 4\n",
      "2023-02-15 02:37:36,315 - root - INFO - Square of 3 is 9\n",
      "2023-02-15 02:37:36,315 - root - INFO - Square of 4 is 16\n",
      "2023-02-15 02:37:36,315 - root - INFO - Square of 5 is 25\n",
      "2023-02-15 02:37:36,323 - root - INFO - Square of 6 is 36\n",
      "2023-02-15 02:37:36,323 - root - INFO - Square of 7 is 49\n",
      "2023-02-15 02:37:36,323 - root - INFO - Square of 8 is 64\n",
      "2023-02-15 02:37:36,323 - root - INFO - Square of 9 is 81\n",
      "2023-02-15 02:37:36,323 - root - INFO - Square of 10 is 100\n",
      "2023-02-15 02:37:36,347 - root - INFO - Cube of 7 is : 343\n",
      "2023-02-15 02:37:36,347 - root - INFO - Cube of 8 is : 512\n",
      "2023-02-15 02:37:36,347 - root - INFO - Cube of 9 is : 729\n",
      "2023-02-15 02:37:36,347 - root - INFO - Cube of 10 is : 1000\n",
      "2023-02-15 02:37:36,347 - root - INFO - Cube of 11 is : 1331\n",
      "2023-02-15 02:37:36,347 - root - INFO - Cube of 12 is : 1728\n",
      "2023-02-15 02:37:36,347 - root - INFO - Cube of 13 is : 2197\n",
      "2023-02-15 02:37:36,347 - root - INFO - Cube of 14 is : 2744\n",
      "2023-02-15 02:37:36,347 - root - INFO - Cube of 15 is : 3375\n",
      "2023-02-15 02:37:36,347 - root - INFO - Cube of 16 is : 4096\n",
      "2023-02-15 02:37:57,127 - root - INFO - Square of 1 is : 1\n",
      "2023-02-15 02:37:57,127 - root - INFO - Cube of 7 is : 343\n",
      "2023-02-15 02:37:57,127 - root - INFO - Square of 2 is : 4\n",
      "2023-02-15 02:37:57,128 - root - INFO - Cube of 8 is : 512\n",
      "2023-02-15 02:37:57,128 - root - INFO - Square of 3 is : 9\n",
      "2023-02-15 02:37:57,128 - root - INFO - Cube of 9 is : 729\n",
      "2023-02-15 02:37:57,128 - root - INFO - Square of 4 is : 16\n",
      "2023-02-15 02:37:57,128 - root - INFO - Cube of 10 is : 1000\n",
      "2023-02-15 02:37:57,128 - root - INFO - Square of 5 is : 25\n",
      "2023-02-15 02:37:57,128 - root - INFO - Cube of 11 is : 1331\n",
      "2023-02-15 02:37:57,128 - root - INFO - Square of 6 is : 36\n",
      "2023-02-15 02:37:57,128 - root - INFO - Cube of 12 is : 1728\n",
      "2023-02-15 02:37:57,128 - root - INFO - Square of 7 is : 49\n",
      "2023-02-15 02:37:57,128 - root - INFO - Cube of 13 is : 2197\n",
      "2023-02-15 02:37:57,128 - root - INFO - Square of 8 is : 64\n",
      "2023-02-15 02:37:57,128 - root - INFO - Cube of 14 is : 2744\n",
      "2023-02-15 02:37:57,130 - root - INFO - Square of 9 is : 81\n",
      "2023-02-15 02:37:57,130 - root - INFO - Cube of 15 is : 3375\n",
      "2023-02-15 02:37:57,130 - root - INFO - Square of 10 is : 100\n",
      "2023-02-15 02:37:57,130 - root - INFO - Cube of 16 is : 4096\n",
      "\n"
     ]
    }
   ],
   "source": [
    "# Showing a entire of log file of Assignment 13\n",
    "with open('Assignment13.log','r') as f:\n",
    "    print(f.read())"
   ]
  },
  {
   "cell_type": "code",
   "execution_count": 34,
   "metadata": {},
   "outputs": [
    {
     "data": {
      "text/plain": [
       "'Assignment13Log.txt'"
      ]
     },
     "execution_count": 34,
     "metadata": {},
     "output_type": "execute_result"
    }
   ],
   "source": [
    "# Copying and saving entire log as txt file\n",
    "import shutil\n",
    "shutil.copy('Assignment13.log','Assignment13Log.txt')"
   ]
  }
 ],
 "metadata": {
  "kernelspec": {
   "display_name": "venv",
   "language": "python",
   "name": "python3"
  },
  "language_info": {
   "codemirror_mode": {
    "name": "ipython",
    "version": 3
   },
   "file_extension": ".py",
   "mimetype": "text/x-python",
   "name": "python",
   "nbconvert_exporter": "python",
   "pygments_lexer": "ipython3",
   "version": "3.10.7"
  },
  "orig_nbformat": 4,
  "vscode": {
   "interpreter": {
    "hash": "27149e82490bdaa27222c4e29544e396278d224a9f42010d392c3451ce079b12"
   }
  }
 },
 "nbformat": 4,
 "nbformat_minor": 2
}
