{
 "cells": [
  {
   "attachments": {},
   "cell_type": "markdown",
   "id": "6ab58a40-2e2b-41a2-b122-44e6157b1290",
   "metadata": {},
   "source": [
    "## Assignment 14 # (15 feb)\n",
    "##### Shreyash Lokahdne"
   ]
  },
  {
   "attachments": {},
   "cell_type": "markdown",
   "id": "282531bd-aa46-4c01-a262-9e5863787f37",
   "metadata": {},
   "source": [
    "## Question 1: What is multiprocessing in python? Why is it useful?\n",
    "---"
   ]
  },
  {
   "attachments": {},
   "cell_type": "markdown",
   "id": "417a94a7-f29b-4b8d-88cd-f0262589fcc2",
   "metadata": {},
   "source": [
    "## Answer :\n",
    "\n",
    "### Multiprocessing in Python refers to the ability to execute multiple processes or tasks simultaneously on multiple processors or cores of a computer, as opposed to executing them in a sequential manner.\n",
    "\n",
    "### In simpler terms, multiprocessing allows you to take advantage of the multi-core processors in modern computers to perform CPU-intensive tasks more efficiently, by splitting them into smaller sub-tasks that can be executed simultaneously on different processors. This can significantly reduce the time taken to complete the tasks and improve the overall performance of the program.\n",
    "\n",
    "### In Python, the multiprocessing module provides a way to create and manage multiple processes. It offers several classes and functions to create and control processes, to communicate and share data between them, and to handle exceptions and errors that may occur during their execution."
   ]
  },
  {
   "attachments": {},
   "cell_type": "markdown",
   "id": "8b8dd73d-f736-4465-849c-a57da8006a45",
   "metadata": {},
   "source": [
    "Multiprocessing is useful in various scenarios, such as:\n",
    "\n",
    "1. CPU-intensive tasks: Multiprocessing can speed up the execution of tasks that require a lot of CPU time, such as image processing, machine learning, and scientific computing.\n",
    "\n",
    "2. Parallel programming: Multiprocessing can be used to implement parallel algorithms, where multiple processes work together to solve a problem.\n",
    "\n",
    "3. Scalability: Multiprocessing can help to scale up the performance of a program as the size of the data or the complexity of the problem increases.\n",
    "\n",
    "4. Fault-tolerance: Multiprocessing can improve the reliability of a program by isolating the processes from each other and preventing errors in one process from affecting the others.\n",
    "\n",
    "### Below is small example of multiprocessing"
   ]
  },
  {
   "cell_type": "code",
   "execution_count": 1,
   "id": "31fcd48f-1c21-4fa1-b45d-ee469a6a8efc",
   "metadata": {},
   "outputs": [
    {
     "name": "stdout",
     "output_type": "stream",
     "text": [
      "[0, 1, 4, 9, 16, 25, 36, 49, 64, 81]\n",
      "All squares calculated with multiprocessing\n"
     ]
    }
   ],
   "source": [
    "import multiprocessing\n",
    "\n",
    "def square(n):\n",
    "    \"\"\"\n",
    "    This function returns square of a given number\n",
    "    \"\"\"\n",
    "    return n**2\n",
    "\n",
    "if __name__ == '__main__':\n",
    "    pool = multiprocessing.Pool(processes=5)\n",
    "\n",
    "    # Map the worker function to the numbers 0-3\n",
    "    # The map function will divide the work and distribute it among the processes\n",
    "    # Each process will execute the worker function with its assigned number\n",
    "    results = pool.map(square, range(10))\n",
    "    print(results)\n",
    "\n",
    "    # Close the pool and wait for the worker processes to finish\n",
    "    pool.close()\n",
    "    pool.join()\n",
    "\n",
    "    print('All squares calculated with multiprocessing')\n",
    "    "
   ]
  },
  {
   "attachments": {},
   "cell_type": "markdown",
   "id": "ab97c336-0512-4775-ac9c-ee523420463e",
   "metadata": {},
   "source": [
    "## Question 2: What are the differences between multiprocessing and multithreading?\n",
    "---"
   ]
  },
  {
   "attachments": {},
   "cell_type": "markdown",
   "id": "e9195bba-6f33-40c6-91e2-7e4971404c4d",
   "metadata": {},
   "source": [
    "## Answer : Below Table describes differences between Multiprocessing and Multithreading"
   ]
  },
  {
   "attachments": {},
   "cell_type": "markdown",
   "id": "e975ec00-57e2-40a4-8d3d-f034c8589417",
   "metadata": {},
   "source": [
    "| Feature            | Multiprocessing                              | Multithreading                              |\n",
    "|:-----------------: |:-------------------------------------------- |:------------------------------------------- |\n",
    "| Execution model    | Multiple processes Seperate processor core used for each process      | Multiple threads within a single process    |\n",
    "| Parallelism        | True parallelism                             | Concurrency due to GIL                      |\n",
    "| Resource usage     | Higher resource usage, slower startup times  | Lower resource usage, faster startup times  |\n",
    "| Communication      | IPC mechanisms (pipes, queues, shared memory)| Shared memory, synchronization primitives   |\n",
    "| Debugging          | More complex (multiple memory spaces)        | Easier (shared memory, single memory space) |\n",
    "| Best for           | CPU-bound tasks                              | I/O-bound tasks                             |\n"
   ]
  },
  {
   "attachments": {},
   "cell_type": "markdown",
   "id": "e4db5750-682a-4107-99ad-2acaf9f685cd",
   "metadata": {},
   "source": [
    "## Question 3: Write a python code to create a process using the multiprocessing module.\n",
    "---"
   ]
  },
  {
   "attachments": {},
   "cell_type": "markdown",
   "id": "7c060cab-9367-4f4d-a403-ebdbd439bf43",
   "metadata": {},
   "source": [
    "## Answer : \n",
    "1. Let's say you have a Python program that performs some time-consuming task, such as downloading large files from the internet. \n",
    "2. You want to be able to run this program in parallel, so that multiple downloads can happen at the same time, speeding up the overall process.\n",
    "3. To achieve this, you can use the multiprocessing module to create a separate process for each download, allowing the downloads to happen in parallel."
   ]
  },
  {
   "cell_type": "code",
   "execution_count": 2,
   "id": "400ceab9-03b6-4e7b-b1fa-25c18b8d5eb2",
   "metadata": {},
   "outputs": [
    {
     "name": "stdout",
     "output_type": "stream",
     "text": [
      "Downloaded https://raw.githubusercontent.com/utkarshg1/PWSkills-Assignments/main/Assignment%2013%20-%2014%20February%202023/data1.txt to file1.txt\n",
      "Downloaded https://raw.githubusercontent.com/utkarshg1/PWSkills-Assignments/main/Assignment%2013%20-%2014%20February%202023/data3.txt to file3.txt\n",
      "Downloaded https://raw.githubusercontent.com/utkarshg1/PWSkills-Assignments/main/Assignment%2013%20-%2014%20February%202023/data2.txt to file2.txt\n",
      "All downloads completed\n"
     ]
    }
   ],
   "source": [
    "# Example 1 \n",
    "import multiprocessing\n",
    "import requests\n",
    "\n",
    "def download_file(url, filename):\n",
    "    \"\"\"Download a file from a given URL and save it to disk\"\"\"\n",
    "    response = requests.get(url)\n",
    "    with open(filename, 'wb') as f:\n",
    "        f.write(response.content)\n",
    "    print(f\"Downloaded {url} to {filename}\")\n",
    "\n",
    "if __name__ == '__main__':\n",
    "    # URLs of files to download\n",
    "    urls = [\n",
    "        'https://raw.githubusercontent.com/utkarshg1/PWSkills-Assignments/main/Assignment%2013%20-%2014%20February%202023/data1.txt',\n",
    "        'https://raw.githubusercontent.com/utkarshg1/PWSkills-Assignments/main/Assignment%2013%20-%2014%20February%202023/data2.txt',\n",
    "        'https://raw.githubusercontent.com/utkarshg1/PWSkills-Assignments/main/Assignment%2013%20-%2014%20February%202023/data3.txt'\n",
    "    ]\n",
    "\n",
    "    # Create a new process for each download\n",
    "    processes = []\n",
    "    for i, url in enumerate(urls):\n",
    "        filename = f\"file{i+1}.txt\"\n",
    "        p = multiprocessing.Process(target=download_file, args=(url, filename))\n",
    "        processes.append(p)\n",
    "        p.start()\n",
    "\n",
    "    # Wait for all processes to finish\n",
    "    for p in processes:\n",
    "        p.join()\n",
    "\n",
    "    print(\"All downloads completed\")\n"
   ]
  },
  {
   "cell_type": "code",
   "execution_count": 3,
   "id": "ab07bb67-b02a-49a7-9f63-cd3264370ed4",
   "metadata": {},
   "outputs": [
    {
     "name": "stdout",
     "output_type": "stream",
     "text": [
      "[8, 27, 64, 125, 216, 343, 512, 729, 1000, 1331, 1728, 2197, 2744, 3375, 4096]\n"
     ]
    }
   ],
   "source": [
    "#Example 2 Calculating cubes\n",
    "import multiprocessing\n",
    "\n",
    "def cube(index, value):\n",
    "    \"\"\"\n",
    "    This function returns a cube of given index inside a list\n",
    "    \"\"\"\n",
    "    value[index] = value[index]**3\n",
    "\n",
    "if __name__ == '__main__':\n",
    "    # Creating an example array list to get cubes\n",
    "    arr = multiprocessing.Array('i',[2,3,4,5,6,7,8,9,10,11,12,13,14,15,16])\n",
    "    \n",
    "    # Creating processes list for appeding the processes\n",
    "    process = []\n",
    "    for i in range(15):\n",
    "        m = multiprocessing.Process(target=cube,args=(i,arr))\n",
    "        process.append(m)\n",
    "        m.start()\n",
    "        \n",
    "    # Wait for processes to finish\n",
    "    for j in process:\n",
    "        j.join()\n",
    "    print(list(arr))"
   ]
  },
  {
   "attachments": {},
   "cell_type": "markdown",
   "id": "9ac2bfcf-de5f-42de-809f-84e2c0716d2d",
   "metadata": {},
   "source": [
    "## Question 4: What is a multiprocessing pool in python? Why is it used?\n",
    "---"
   ]
  },
  {
   "attachments": {},
   "cell_type": "markdown",
   "id": "7ef5cbb2-987a-4d35-a22b-8e1a7510dbbb",
   "metadata": {},
   "source": [
    "## Answer :\n",
    "In Python, a multiprocessing pool is a class in the multiprocessing module that provides a way to distribute tasks across multiple CPU cores. The idea is to create a pool of worker processes that can execute tasks in parallel, thereby reducing the time it takes to complete a large number of tasks.\n",
    "\n",
    "Here's how it works:\n",
    "\n",
    "1. You create a Pool object with a specified number of worker processes.\n",
    "2. You submit tasks to the pool using the apply(), apply_async(), map(), or map_async() methods.\n",
    "3. The pool distributes the tasks among the worker processes and runs them in parallel.\n",
    "4. The results of each task are collected and returned to the main process.\n",
    "\n",
    "The advantage of using a multiprocessing pool is that it allows you to take advantage of multiple CPU cores to perform computations in parallel. This can lead to significant speedups for CPU-bound tasks, such as numerical computations, image processing, or machine learning.\n",
    "\n",
    "The Pool class in Python also provides various methods for controlling the number of worker processes, waiting for tasks to complete, and handling errors. Overall, it's a powerful tool for scaling up your Python programs to take advantage of modern hardware."
   ]
  },
  {
   "attachments": {},
   "cell_type": "markdown",
   "id": "e8326520-4cbf-45ad-9cd2-8ee3ed4cfa3a",
   "metadata": {},
   "source": [
    "## Question 5: How can we create a pool of worker processes in python using multiprocessing module?\n",
    "---"
   ]
  },
  {
   "attachments": {},
   "cell_type": "markdown",
   "id": "7b8f9fd2-b213-4019-abe1-b8d7cba72ea4",
   "metadata": {},
   "source": [
    "## Answer : We can create pool with help of multiprocessing.Pool Function\n",
    "1. Example Calculating Gamma Function Values for various elements in a list \n",
    "2. $ \\Gamma(z) = \\int_{0}^{\\infty} t^{z-1} \\cdot e^{-t} , dt $ \n",
    "3. this can be calculated with math.gamma() for single value <br>\n",
    "[Wikipedia Link for Gamma Function Explaination](https://en.wikipedia.org/wiki/Gamma_function)\n"
   ]
  },
  {
   "cell_type": "code",
   "execution_count": 4,
   "id": "6bac9521-4834-4b29-8a97-d567768a0c8e",
   "metadata": {},
   "outputs": [
    {
     "name": "stdout",
     "output_type": "stream",
     "text": [
      "Gamma(0.5) = 1.7724538509055159\n",
      "Gamma(1) = 1.0\n",
      "Gamma(2) = 1.0\n",
      "Gamma(3) = 2.0\n",
      "Gamma(4) = 6.0\n",
      "Gamma(5) = 24.0\n",
      "Gamma(6) = 120.0\n",
      "Gamma(7) = 720.0\n",
      "Gamma(8) = 5040.0\n",
      "Gamma(9) = 40320.0\n",
      "Gamma(10) = 362880.0\n"
     ]
    }
   ],
   "source": [
    "import multiprocessing\n",
    "import math\n",
    "\n",
    "def calc_gamma(x):\n",
    "    \"\"\"Function to be executed by worker processes\"\"\"\n",
    "    result = math.gamma(x)\n",
    "    return result\n",
    "\n",
    "if __name__ == '__main__':\n",
    "    # Create a list of values for which to calculate the gamma function\n",
    "    values = [0.5, 1, 2, 3, 4, 5, 6, 7, 8, 9, 10]\n",
    "\n",
    "    # Create a pool of worker processes\n",
    "    pool = multiprocessing.Pool(processes=4)\n",
    "\n",
    "    # Map the gamma function calculation function to the values\n",
    "    results = pool.map(calc_gamma, values)\n",
    "\n",
    "    # Close the pool and wait for the worker processes to finish\n",
    "    pool.close()\n",
    "    pool.join()\n",
    "\n",
    "    # Print the results\n",
    "    for i in range(len(values)):\n",
    "        print(f\"Gamma({values[i]}) = {results[i]}\")\n"
   ]
  },
  {
   "attachments": {},
   "cell_type": "markdown",
   "id": "17cbde58-7f53-47a8-a371-beddb5cb6ca1",
   "metadata": {},
   "source": [
    "## Question 6 : Write a python program to create 4 processes, each process should print a different number using the multiprocessing module in python.\n",
    "---"
   ]
  },
  {
   "attachments": {},
   "cell_type": "markdown",
   "id": "15d7125d-8573-4713-aab9-3dd826abae01",
   "metadata": {},
   "source": [
    "## Answer :"
   ]
  },
  {
   "cell_type": "code",
   "execution_count": 7,
   "id": "e44a7130-b9e3-4873-b4c5-4cc3d63a0c84",
   "metadata": {},
   "outputs": [
    {
     "name": "stdout",
     "output_type": "stream",
     "text": [
      "Process number 0, random number generated : 19\n",
      "Process number 1, random number generated : 17\n",
      "Process number 2, random number generated : 1\n",
      "Process number 3, random number generated : 49\n"
     ]
    }
   ],
   "source": [
    "import multiprocessing\n",
    "import random\n",
    "\n",
    "def generate_random_number(num):\n",
    "    \"\"\"\n",
    "    This function generates random numbers between 1 to 100\n",
    "    \"\"\"\n",
    "    random_number = random.randint(1, 100)\n",
    "    print(f\"Process number {num}, random number generated : {random_number}\")\n",
    "\n",
    "if __name__ == '__main__':\n",
    "    # Creating a processess list\n",
    "    processes = []\n",
    "    for i in range(4):\n",
    "        p = multiprocessing.Process(target=generate_random_number, args=(i,))\n",
    "        processes.append(p)\n",
    "        p.start()\n",
    "    \n",
    "    # Waiting for processess to complete\n",
    "    for p in processes:\n",
    "        p.join()\n"
   ]
  }
 ],
 "metadata": {
  "kernelspec": {
   "display_name": "venv",
   "language": "python",
   "name": "python3"
  },
  "language_info": {
   "codemirror_mode": {
    "name": "ipython",
    "version": 3
   },
   "file_extension": ".py",
   "mimetype": "text/x-python",
   "name": "python",
   "nbconvert_exporter": "python",
   "pygments_lexer": "ipython3",
   "version": "3.10.7"
  },
  "vscode": {
   "interpreter": {
    "hash": "27149e82490bdaa27222c4e29544e396278d224a9f42010d392c3451ce079b12"
   }
  }
 },
 "nbformat": 4,
 "nbformat_minor": 5
}
