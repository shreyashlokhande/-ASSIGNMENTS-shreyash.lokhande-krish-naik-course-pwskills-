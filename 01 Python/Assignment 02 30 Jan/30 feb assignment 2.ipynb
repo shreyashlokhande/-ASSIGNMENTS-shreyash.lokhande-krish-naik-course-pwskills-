{
 "cells": [
  {
   "attachments": {},
   "cell_type": "markdown",
   "metadata": {},
   "source": [
    "### Q1 Write a Program to accept percentage from user and display grade according to following Criteria\n",
    "| Marks           | Grade       |\n",
    "| :-----------:   | :---------: |\n",
    "| >90             | A           |\n",
    "| >80 and <=90    | B           |\n",
    "| >=60 and <=80   | C           |\n",
    "| below 60        | D           |"
   ]
  },
  {
   "cell_type": "code",
   "execution_count": null,
   "metadata": {},
   "outputs": [],
   "source": [
    "marks = input('Enter Marks of Student : ') #Input Marks of Student\n",
    "\n",
    "try:\n",
    "    if marks.isnumeric()==True: #Checks if Numeric value entered by user and then converts into float\n",
    "        marks = int(marks)    \n",
    "\n",
    "    print(f\"Marks of student are : {marks}\") #Display marks of student\n",
    "\n",
    "    \"\"\"\n",
    "    Below is main Conditions for code\n",
    "    \"\"\"\n",
    "    if marks>90: \n",
    "        print('Grade Obtained : A')\n",
    "    elif (marks>80) and (marks<=90):\n",
    "        print('Grade Obtained : B')\n",
    "    elif (marks>=60) and (marks<=80):\n",
    "        print('Grade Obtained : C')\n",
    "    else:\n",
    "        print('Grade Obtained : D')\n",
    "\n",
    "except: \n",
    "    if marks.isnumeric()==False: #Raises error if numeric value not entered by user\n",
    "        raise Exception('Please enter Numeric value in Marks Characters and string not allowed')\n",
    "\n",
    "finally:\n",
    "    print('')"
   ]
  },
  {
   "cell_type": "markdown",
   "metadata": {},
   "source": []
  },
  {
   "attachments": {},
   "cell_type": "markdown",
   "metadata": {},
   "source": [
    "### Q2 Write a program to accept cost price of bike and display the road tax to be paid according to following criteria\n",
    "| Tax             | Cost Price (in Rs.)  |\n",
    "| :-----------:   | :-----------------:  |\n",
    "| 15%             | >100000              |\n",
    "| 10%             | >50000 and <=100000  |\n",
    "| 5%              | <=50000              |"
   ]
  },
  {
   "cell_type": "code",
   "execution_count": null,
   "metadata": {},
   "outputs": [
    {
     "name": "stdout",
     "output_type": "stream",
     "text": [
      "Price of bike is Rupees 115000.0\n",
      "Tax Applicable is 15% and Tax amount is Rupees 17250.0\n"
     ]
    }
   ],
   "source": [
    "price = float(input('Enter Price of the Bike in Rupees : '))\n",
    "print(f\"Price of bike is Rupees {price}\")\n",
    "\n",
    "if price>100000:\n",
    "    print(f\"Tax Applicable is 15% and Tax amount is Rupees {round(0.15*price,2)}\")\n",
    "elif (price>50000) and (price<=100000):\n",
    "    print(f\"Tax Applicable is 10% and Tax amount is Rupees {round(0.10*price,2)}\")\n",
    "else:\n",
    "    print(f\"Tax Applicable is 5% and Tax amount is Rupees {round(0.05*price,2)}\")"
   ]
  },
  {
   "attachments": {},
   "cell_type": "markdown",
   "metadata": {},
   "source": [
    "### Q3 Accept any city from user and display monuments of that city\n",
    "| City            | Monument       |\n",
    "| :-----------:   | :-----------:  |\n",
    "| Delhi           | Red Fort       |\n",
    "| Agra            | Taj Mahal      |\n",
    "| Jaipur          | Jal Mahal      |"
   ]
  },
  {
   "cell_type": "code",
   "execution_count": null,
   "metadata": {},
   "outputs": [
    {
     "name": "stdout",
     "output_type": "stream",
     "text": [
      "City Entered is : Jaipur\n",
      "Monument of Jaipur is Jal Mahal.\n"
     ]
    }
   ],
   "source": [
    "city = input('Enter City Name : ')\n",
    "print('City Entered is :',city)\n",
    "\n",
    "#In below code i have used .lower() for case unification and then checking\n",
    "if city.lower()=='delhi':\n",
    "    print(f'Monument of {city} is Red Fort.')\n",
    "elif city.lower()=='agra':\n",
    "    print(f'Monument of {city} is Taj Mahal.')\n",
    "elif city.lower()=='jaipur':\n",
    "    print(f'Monument of {city} is Jal Mahal.')\n",
    "else:\n",
    "    print(f'City {city} was entered please enter Delhi, Agra or Jaipur.')  "
   ]
  },
  {
   "attachments": {},
   "cell_type": "markdown",
   "metadata": {},
   "source": [
    "### Q4 Check How many times a given number can be divided by 3 before it is less than equal to 10"
   ]
  },
  {
   "cell_type": "code",
   "execution_count": null,
   "metadata": {},
   "outputs": [
    {
     "name": "stdout",
     "output_type": "stream",
     "text": [
      "1010.0\n",
      "336.6666666666667\n",
      "112.22222222222223\n",
      "37.40740740740741\n",
      "12.469135802469138\n",
      "4.156378600823046\n",
      "Times the Number can be divided by Three : 6 times.\n"
     ]
    }
   ],
   "source": [
    "num = 3030\n",
    "counter = 0 \n",
    "while num >10:\n",
    "    num = num/3\n",
    "    print(num)\n",
    "    counter = counter+1\n",
    "print(f'Times the Number can be divided by Three : {counter} times.')"
   ]
  },
  {
   "attachments": {},
   "cell_type": "markdown",
   "metadata": {},
   "source": [
    "#### Q5 While Loop can be used to solve non linear equations with Newton Rhapsons Method for given decimal accuracy\n",
    "1) Suppose i want to solve equation : $ x^3 - 7*x^2 + 8*x -3 = 0 $\n",
    "2) It is asked that solve this equation with accuracy of $ 10^-6 $\n",
    "3) Here our $ f(x) = x^3 - 7*x^2 + 8*x -3 $ and solve for x until $ |f(x)| < 10^-6 $\n",
    "4) let $ x_0 $ be initial guess i.e. any random guess \n",
    "5) Newton Rhapsons equation give by $ x_n = x_n - f(x_n)/f'(x_n) $\n",
    "6) $ f'(x) = 3*x^2 - 14*x + 8 $\n"
   ]
  },
  {
   "cell_type": "code",
   "execution_count": null,
   "metadata": {},
   "outputs": [],
   "source": [
    "def f(x):\n",
    "    \"\"\"\n",
    "    Defining equation to solve\n",
    "    \"\"\"\n",
    "    return (x**3 - 7*(x**2)+ 8*x -3)"
   ]
  },
  {
   "cell_type": "code",
   "execution_count": null,
   "metadata": {},
   "outputs": [],
   "source": [
    "def der_f(x):\n",
    "    \"\"\"\n",
    "    Derrivative of f(x)\n",
    "    \"\"\"\n",
    "    return (3*x**2 - 14*x + 8)"
   ]
  },
  {
   "cell_type": "code",
   "execution_count": null,
   "metadata": {},
   "outputs": [
    {
     "name": "stdout",
     "output_type": "stream",
     "text": [
      "Iteration 1: xn = 7.755952380952381 , accuracy = 104.52178131917454\n",
      "Iteration 2: xn = 6.447484728483863 , accuracy = 25.611785213511084\n",
      "Iteration 3: xn = 5.844079172698472 , accuracy = 4.2741672359087275\n",
      "Iteration 4: xn = 5.694855431215423 , accuracy = 0.2312060956792834\n",
      "Iteration 5: xn = 5.685811988487806 , accuracy = 0.0008240151136575946\n",
      "Iteration 6: xn = 5.685779526507159 , accuracy = 1.059829202176843e-08\n",
      "\n",
      "Root for equation is : 5.685779526507159\n",
      "Accuracy is : 1.059829202176843e-08\n"
     ]
    }
   ],
   "source": [
    "# Solving Equation with Newton Rhapson method with accuracy of 10^-6\n",
    "xn = 10 #Initial Guess of 10\n",
    "counter = 1 \n",
    "\n",
    "while abs(f(xn))>1e-6:\n",
    "    xn = xn - f(xn)/der_f(xn)\n",
    "    print(f'Iteration {counter}: xn = {xn} , accuracy = {f(xn)}')\n",
    "    counter = counter + 1\n",
    "print(f'\\nRoot for equation is : {xn}')\n",
    "print(f'Accuracy is : {f(xn)}')"
   ]
  },
  {
   "cell_type": "code",
   "execution_count": null,
   "metadata": {},
   "outputs": [],
   "source": [
    "### Q6 Use nested while loop to print 3 different patterns"
   ]
  },
  {
   "cell_type": "code",
   "execution_count": null,
   "metadata": {},
   "outputs": [
    {
     "name": "stdout",
     "output_type": "stream",
     "text": [
      "*\n",
      "**\n",
      "***\n",
      "****\n",
      "*****\n",
      "******\n",
      "*******\n",
      "********\n",
      "*********\n",
      "**********\n"
     ]
    }
   ],
   "source": [
    "# Pattern 1: Right Angled Star pattern\n",
    "i = 1\n",
    "while i <= 10:\n",
    "    j = 1\n",
    "    while j <= i:\n",
    "        print(\"*\", end=\"\")\n",
    "        j += 1\n",
    "    print(\"\")\n",
    "    i += 1"
   ]
  },
  {
   "cell_type": "code",
   "execution_count": null,
   "metadata": {},
   "outputs": [
    {
     "name": "stdout",
     "output_type": "stream",
     "text": [
      "         *\n",
      "        ***\n",
      "       *****\n",
      "      *******\n",
      "     *********\n",
      "    ***********\n",
      "   *************\n",
      "  ***************\n",
      " *****************\n",
      "*******************\n"
     ]
    }
   ],
   "source": [
    "# Pattern 2: Isoceles Triangle Star pattern\n",
    "n = 10\n",
    "i = 1\n",
    "while i <= n:\n",
    "    spaces = n - i\n",
    "    while spaces > 0:\n",
    "        print(\" \", end=\"\")\n",
    "        spaces -= 1\n",
    "    stars = 2 * i - 1\n",
    "    while stars > 0:\n",
    "        print(\"*\", end=\"\")\n",
    "        stars -= 1\n",
    "    print(\"\")\n",
    "    i += 1"
   ]
  },
  {
   "cell_type": "code",
   "execution_count": null,
   "metadata": {},
   "outputs": [
    {
     "name": "stdout",
     "output_type": "stream",
     "text": [
      "    *\n",
      "   ***\n",
      "  *****\n",
      " *******\n",
      "*********\n",
      " *******\n",
      "  *****\n",
      "   ***\n",
      "    *\n"
     ]
    }
   ],
   "source": [
    "#Pattern 3: Diamond\n",
    "n = 5\n",
    "i = 1\n",
    "while i <= n:\n",
    "    spaces = n - i\n",
    "    while spaces > 0:\n",
    "        print(\" \", end=\"\")\n",
    "        spaces -= 1\n",
    "    stars = 2 * i - 1\n",
    "    while stars > 0:\n",
    "        print(\"*\", end=\"\")\n",
    "        stars -= 1\n",
    "    print(\"\")\n",
    "    i += 1\n",
    "\n",
    "i = n - 1\n",
    "while i >= 1:\n",
    "    spaces = n - i\n",
    "    while spaces > 0:\n",
    "        print(\" \", end=\"\")\n",
    "        spaces -= 1\n",
    "    stars = 2 * i - 1\n",
    "    while stars > 0:\n",
    "        print(\"*\", end=\"\")\n",
    "        stars -= 1\n",
    "    print(\"\")\n",
    "    i -= 1\n"
   ]
  },
  {
   "attachments": {},
   "cell_type": "markdown",
   "metadata": {},
   "source": [
    "### Q7 Reverse a while loop to display numbers from 10 to 1"
   ]
  },
  {
   "cell_type": "code",
   "execution_count": null,
   "metadata": {},
   "outputs": [
    {
     "name": "stdout",
     "output_type": "stream",
     "text": [
      "10\n",
      "9\n",
      "8\n",
      "7\n",
      "6\n",
      "5\n",
      "4\n",
      "3\n",
      "2\n",
      "1\n"
     ]
    }
   ],
   "source": [
    "i = 10\n",
    "while i>=1:\n",
    "    print(i)\n",
    "    i = i - 1"
   ]
  },
  {
   "attachments": {},
   "cell_type": "markdown",
   "metadata": {},
   "source": [
    "### Q8 Reverse a while loop to display numbers from 10 to 1"
   ]
  },
  {
   "cell_type": "code",
   "execution_count": null,
   "metadata": {},
   "outputs": [],
   "source": [
    "counter = 10\n",
    "while True:\n",
    "    print(counter)\n",
    "    counter = counter-1\n",
    "    if counter == 0:\n",
    "        break"
   ]
  },
  {
   "cell_type": "code",
   "execution_count": null,
   "metadata": {},
   "outputs": [],
   "source": []
  }
 ],
 "metadata": {
  "kernelspec": {
   "display_name": "base",
   "language": "python",
   "name": "python3"
  },
  "language_info": {
   "name": "python",
   "version": "3.10.11"
  },
  "orig_nbformat": 4
 },
 "nbformat": 4,
 "nbformat_minor": 2
}
