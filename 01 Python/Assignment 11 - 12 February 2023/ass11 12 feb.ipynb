{
 "cells": [
  {
   "attachments": {},
   "cell_type": "markdown",
   "metadata": {},
   "source": [
    "## Assignment 11 # (12 feb)\n",
    "##### Shreyash Lokahdne"
   ]
  },
  {
   "attachments": {},
   "cell_type": "markdown",
   "metadata": {},
   "source": [
    "## Importing logging module to create a log "
   ]
  },
  {
   "cell_type": "code",
   "execution_count": 3,
   "metadata": {},
   "outputs": [],
   "source": [
    "import logging\n",
    "logging.basicConfig(filename='TryExcept.log',level=logging.DEBUG,format= '%(asctime)s - %(name)s - %(levelname)s - %(message)s')"
   ]
  },
  {
   "attachments": {},
   "cell_type": "markdown",
   "metadata": {},
   "source": [
    "## Question 1: What is an exception in python? Write the difference between Exceptions and syntax errors.\n",
    "---"
   ]
  },
  {
   "attachments": {},
   "cell_type": "markdown",
   "metadata": {},
   "source": [
    "## Answer : An exception is an event, which occurs during the execution of a program that disrupts the normal flow of the program's instructions. \n",
    "## In general, when a Python script encounters a situation that it cannot cope with, it raises an exception. \n",
    "## Difference in syntax error and exception : \n",
    "1. Errors cannot be handled, while Python exceptions can be handled at the run time. \n",
    "2. An error can be a syntax (parsing) error, while there can be many types of exceptions that could occur during the execution and are not unconditionally inoperable. "
   ]
  },
  {
   "cell_type": "code",
   "execution_count": 7,
   "metadata": {},
   "outputs": [
    {
     "ename": "ZeroDivisionError",
     "evalue": "division by zero",
     "output_type": "error",
     "traceback": [
      "\u001b[1;31m---------------------------------------------------------------------------\u001b[0m",
      "\u001b[1;31mZeroDivisionError\u001b[0m                         Traceback (most recent call last)",
      "Cell \u001b[1;32mIn[7], line 4\u001b[0m\n\u001b[0;32m      2\u001b[0m logging\u001b[39m.\u001b[39minfo(\u001b[39m'\u001b[39m\u001b[39mThis is Question 1 , Example 1\u001b[39m\u001b[39m'\u001b[39m)\n\u001b[0;32m      3\u001b[0m a \u001b[39m=\u001b[39m \u001b[39m23\u001b[39m\n\u001b[1;32m----> 4\u001b[0m a\u001b[39m/\u001b[39;49m\u001b[39m0\u001b[39;49m \u001b[39m#Division by zero is an exception\u001b[39;00m\n",
      "\u001b[1;31mZeroDivisionError\u001b[0m: division by zero"
     ]
    }
   ],
   "source": [
    "# Example of exception\n",
    "logging.info('This is Question 1 , Example 1')\n",
    "a = 23\n",
    "a/0 #Division by zero is an exception"
   ]
  },
  {
   "cell_type": "code",
   "execution_count": 3,
   "metadata": {},
   "outputs": [
    {
     "ename": "SyntaxError",
     "evalue": "invalid syntax. Perhaps you forgot a comma? (2643927533.py, line 5)",
     "output_type": "error",
     "traceback": [
      "\u001b[1;36m  Cell \u001b[1;32mIn[3], line 5\u001b[1;36m\u001b[0m\n\u001b[1;33m    print(a b) #incorrect syntax here will raise syntax error\u001b[0m\n\u001b[1;37m          ^\u001b[0m\n\u001b[1;31mSyntaxError\u001b[0m\u001b[1;31m:\u001b[0m invalid syntax. Perhaps you forgot a comma?\n"
     ]
    }
   ],
   "source": [
    "# Example of syntax error\n",
    "a = 2\n",
    "b = 3\n",
    "print(a b) #incorrect syntax here will raise syntax error"
   ]
  },
  {
   "attachments": {},
   "cell_type": "markdown",
   "metadata": {},
   "source": [
    "## Question 2: What happens if exception is not handled? Explain with an example.\n",
    "---"
   ]
  },
  {
   "attachments": {},
   "cell_type": "markdown",
   "metadata": {},
   "source": [
    "## Answer : If Exception is not handled the code below the exception will not execute at all. It will stop the program at exception."
   ]
  },
  {
   "cell_type": "code",
   "execution_count": 8,
   "metadata": {},
   "outputs": [
    {
     "ename": "ZeroDivisionError",
     "evalue": "division by zero",
     "output_type": "error",
     "traceback": [
      "\u001b[1;31m---------------------------------------------------------------------------\u001b[0m",
      "\u001b[1;31mZeroDivisionError\u001b[0m                         Traceback (most recent call last)",
      "Cell \u001b[1;32mIn[8], line 3\u001b[0m\n\u001b[0;32m      1\u001b[0m logging\u001b[39m.\u001b[39minfo(\u001b[39m'\u001b[39m\u001b[39mThis is Question 2 start\u001b[39m\u001b[39m'\u001b[39m)\n\u001b[0;32m      2\u001b[0m a \u001b[39m=\u001b[39m \u001b[39m56\u001b[39m\n\u001b[1;32m----> 3\u001b[0m \u001b[39mprint\u001b[39m(a\u001b[39m/\u001b[39;49m\u001b[39m0\u001b[39;49m) \u001b[39m# This will cause Zero Division Error\u001b[39;00m\n\u001b[0;32m      4\u001b[0m \u001b[39mprint\u001b[39m(a\u001b[39m+\u001b[39m\u001b[39m23\u001b[39m) \u001b[39m# None of these code and below lines will not excute because exception was not handled\u001b[39;00m\n\u001b[0;32m      5\u001b[0m \u001b[39mprint\u001b[39m(\u001b[39m'\u001b[39m\u001b[39mThis will not execute\u001b[39m\u001b[39m'\u001b[39m) \u001b[39m# Will not execute because exception not handled\u001b[39;00m\n",
      "\u001b[1;31mZeroDivisionError\u001b[0m: division by zero"
     ]
    }
   ],
   "source": [
    "logging.info('This is Question 2 start')\n",
    "a = 56\n",
    "print(a/0) # This will cause Zero Division Error\n",
    "print(a+23) # None of these code and below lines will not excute because exception was not handled\n",
    "print('This will not execute') # Will not execute because exception not handled"
   ]
  },
  {
   "attachments": {},
   "cell_type": "markdown",
   "metadata": {},
   "source": [
    "## Question 3: Which Python Statements are used to catch and handle exceptions? Explain with an example.\n",
    "---"
   ]
  },
  {
   "attachments": {},
   "cell_type": "markdown",
   "metadata": {},
   "source": [
    "## Answer : The try and except block in Python is used to catch and handle exceptions. "
   ]
  },
  {
   "cell_type": "code",
   "execution_count": 9,
   "metadata": {},
   "outputs": [
    {
     "name": "stdout",
     "output_type": "stream",
     "text": [
      "There is exception in this code: [Errno 2] No such file or directory: 'sample.txt'\n",
      "a=23, b= 45, a*b =1035\n"
     ]
    }
   ],
   "source": [
    "# I'm Creating a file example reading exception handling\n",
    "logging.info('This is Start of Question 3')\n",
    "try:\n",
    "    # This code will be tried for execution\n",
    "    with open('sample.txt','r') as f:\n",
    "        print(f.read())\n",
    "        logging.info('Try block from question 3 executed')\n",
    "\n",
    "except Exception as e:\n",
    "    # Exception will be caught here and message will display\n",
    "    print('There is exception in this code:',e)\n",
    "    logging.exception('Except block from Question 3 executed')\n",
    "finally:\n",
    "    # This code will execute regardless wether try block executes or not\n",
    "    a = 23\n",
    "    b = 45\n",
    "    print(f'a={a}, b= {b}, a*b ={a*b}')\n",
    "    logging.info('Finally Block from Question 3 executed')"
   ]
  },
  {
   "attachments": {},
   "cell_type": "markdown",
   "metadata": {},
   "source": [
    "## Question 4 : Explain with an example:\n",
    "1. Try and else\n",
    "2. finally\n",
    "3. raise\n",
    "---"
   ]
  },
  {
   "attachments": {},
   "cell_type": "markdown",
   "metadata": {},
   "source": [
    "## Answer :\n",
    "1. Try and else : Try block will execute if no exceptions. If no exceptions only then else block is executed. If exception occured except block will get executed"
   ]
  },
  {
   "cell_type": "code",
   "execution_count": 10,
   "metadata": {},
   "outputs": [],
   "source": [
    "# creating a custom function for division with Try, Except ,Else blocks\n",
    "def divide(a,b):\n",
    "    \"\"\"\n",
    "    This is division function with excption handling\n",
    "    \"\"\"\n",
    "    logging.info('This is Start of function divide')\n",
    "    try:\n",
    "        # Try block will execute if there is no exception\n",
    "        result = a/b\n",
    "        print('Try Block Executed.')\n",
    "        logging.info('Try Block executed')\n",
    "    except Exception as e:\n",
    "        # Except block will execute if exception found\n",
    "        print('Exception occured : ',e)\n",
    "        logging.exception('Except block executed')\n",
    "    else:\n",
    "        # This block will execute only if try block executed\n",
    "        print('Else Block Executed')\n",
    "        logging.info('Else Block executed')\n",
    "        return result"
   ]
  },
  {
   "cell_type": "code",
   "execution_count": 11,
   "metadata": {},
   "outputs": [
    {
     "name": "stdout",
     "output_type": "stream",
     "text": [
      "Try Block Executed.\n",
      "Else Block Executed\n"
     ]
    },
    {
     "data": {
      "text/plain": [
       "1.25"
      ]
     },
     "execution_count": 11,
     "metadata": {},
     "output_type": "execute_result"
    }
   ],
   "source": [
    "# Test Case 1 : Both are numbers excluding 0\n",
    "divide(5,4)"
   ]
  },
  {
   "cell_type": "code",
   "execution_count": 12,
   "metadata": {},
   "outputs": [
    {
     "name": "stdout",
     "output_type": "stream",
     "text": [
      "Try Block Executed.\n",
      "Else Block Executed\n"
     ]
    },
    {
     "data": {
      "text/plain": [
       "0.0"
      ]
     },
     "execution_count": 12,
     "metadata": {},
     "output_type": "execute_result"
    }
   ],
   "source": [
    "# Test case 2 : Numerator 0 , Denominator non-zero\n",
    "divide(0,6)"
   ]
  },
  {
   "cell_type": "code",
   "execution_count": 13,
   "metadata": {},
   "outputs": [
    {
     "name": "stdout",
     "output_type": "stream",
     "text": [
      "Exception occured :  division by zero\n"
     ]
    }
   ],
   "source": [
    "# Test Case 3 : Zero in denominator\n",
    "divide(1002,0)"
   ]
  },
  {
   "cell_type": "code",
   "execution_count": 14,
   "metadata": {},
   "outputs": [
    {
     "name": "stdout",
     "output_type": "stream",
     "text": [
      "Exception occured :  unsupported operand type(s) for /: 'str' and 'int'\n"
     ]
    }
   ],
   "source": [
    "# Test Case 3 : String entered in any one\n",
    "divide('1234',123)"
   ]
  },
  {
   "attachments": {},
   "cell_type": "markdown",
   "metadata": {},
   "source": [
    "2. Finally : This code block will always execute .Regardless wether try, except, else blocks are executed"
   ]
  },
  {
   "cell_type": "code",
   "execution_count": 15,
   "metadata": {},
   "outputs": [
    {
     "name": "stdout",
     "output_type": "stream",
     "text": [
      "Exception Occured : unsupported operand type(s) for +: 'int' and 'str'\n",
      "This Finally Block will always be executed\n"
     ]
    }
   ],
   "source": [
    "logging.info('Explaining Finally block code of Question 3')\n",
    "try:\n",
    "    # Try block executes if no exception occurs\n",
    "    a = 1\n",
    "    b = '23'\n",
    "    c = a + b\n",
    "    print(c)\n",
    "    logging.info('Try Block executed')\n",
    "except Exception as e:\n",
    "    # Except block will execute if exception occurs\n",
    "    print('Exception Occured :',e)\n",
    "    logging.exception('Except block executed')\n",
    "finally:\n",
    "    # Finally Block will always execute regardless of exception found or not\n",
    "    print('This Finally Block will always be executed')\n",
    "    logging.info('Finally Block executed')"
   ]
  },
  {
   "cell_type": "code",
   "execution_count": 16,
   "metadata": {},
   "outputs": [
    {
     "name": "stdout",
     "output_type": "stream",
     "text": [
      "55\n",
      "This Finally Block will always be executed\n"
     ]
    }
   ],
   "source": [
    "logging.info('Explaining Finally block code of Question 3 Finally example 2')\n",
    "try:\n",
    "    # Try block executes if no exception occurs\n",
    "    a = 1\n",
    "    b = 54\n",
    "    c = a + b\n",
    "    print(c)\n",
    "    logging.info('Try Block executed')    \n",
    "except Exception as e:\n",
    "    # Except block will execute if exception occurs\n",
    "    print('Exception Occured :',e)\n",
    "    logging.exception('Except block executed')\n",
    "finally:\n",
    "    # Finally Block will always execute regardless of exception found or not\n",
    "    print('This Finally Block will always be executed')\n",
    "    logging.info('Finally block executed')"
   ]
  },
  {
   "attachments": {},
   "cell_type": "markdown",
   "metadata": {},
   "source": [
    "3. raise : Python raise Keyword is used to raise exceptions or errors. The raise keyword raises an error and stops the control flow of the program. It is used to bring up the current exception in an exception handler so that it can be handled further up the call stack."
   ]
  },
  {
   "cell_type": "code",
   "execution_count": 17,
   "metadata": {},
   "outputs": [],
   "source": [
    "# Take input as mobile number and raise error if it is not 10 digits and numeric\n",
    "def mob_num():\n",
    "    logging.info('This is start of mob_num function from Question 3 Raise explaination')\n",
    "    mob = input('Enter Mobile number : ')\n",
    "    print('The moblie number entered is',mob)\n",
    "    # Check if length of mobile number is 10 digits and length is 10 digits\n",
    "    if len(mob)!=10 or mob.isnumeric()!= True:\n",
    "        logging.exception('Exception occured invalid mobile number')\n",
    "        raise Exception('Invalid Mobile number is entered') "
   ]
  },
  {
   "cell_type": "code",
   "execution_count": 18,
   "metadata": {},
   "outputs": [
    {
     "name": "stdout",
     "output_type": "stream",
     "text": [
      "The moblie number entered is 12345\n"
     ]
    },
    {
     "ename": "Exception",
     "evalue": "Invalid Mobile number is entered",
     "output_type": "error",
     "traceback": [
      "\u001b[1;31m---------------------------------------------------------------------------\u001b[0m",
      "\u001b[1;31mException\u001b[0m                                 Traceback (most recent call last)",
      "Cell \u001b[1;32mIn[18], line 2\u001b[0m\n\u001b[0;32m      1\u001b[0m \u001b[39m# Case 1 : Entering digits less than 10\u001b[39;00m\n\u001b[1;32m----> 2\u001b[0m mob_num()\n",
      "Cell \u001b[1;32mIn[17], line 9\u001b[0m, in \u001b[0;36mmob_num\u001b[1;34m()\u001b[0m\n\u001b[0;32m      7\u001b[0m \u001b[39mif\u001b[39;00m \u001b[39mlen\u001b[39m(mob)\u001b[39m!=\u001b[39m\u001b[39m10\u001b[39m \u001b[39mor\u001b[39;00m mob\u001b[39m.\u001b[39misnumeric()\u001b[39m!=\u001b[39m \u001b[39mTrue\u001b[39;00m:\n\u001b[0;32m      8\u001b[0m     logging\u001b[39m.\u001b[39mexception(\u001b[39m'\u001b[39m\u001b[39mException occured invalid mobile number\u001b[39m\u001b[39m'\u001b[39m)\n\u001b[1;32m----> 9\u001b[0m     \u001b[39mraise\u001b[39;00m \u001b[39mException\u001b[39;00m(\u001b[39m'\u001b[39m\u001b[39mInvalid Mobile number is entered\u001b[39m\u001b[39m'\u001b[39m)\n",
      "\u001b[1;31mException\u001b[0m: Invalid Mobile number is entered"
     ]
    }
   ],
   "source": [
    "# Case 1 : Entering digits less than 10\n",
    "mob_num()"
   ]
  },
  {
   "cell_type": "code",
   "execution_count": 19,
   "metadata": {},
   "outputs": [
    {
     "name": "stdout",
     "output_type": "stream",
     "text": [
      "The moblie number entered is 124abcdefg\n"
     ]
    },
    {
     "ename": "Exception",
     "evalue": "Invalid Mobile number is entered",
     "output_type": "error",
     "traceback": [
      "\u001b[1;31m---------------------------------------------------------------------------\u001b[0m",
      "\u001b[1;31mException\u001b[0m                                 Traceback (most recent call last)",
      "Cell \u001b[1;32mIn[19], line 2\u001b[0m\n\u001b[0;32m      1\u001b[0m \u001b[39m# Case 2: Entering 10 digit number but has alphabets\u001b[39;00m\n\u001b[1;32m----> 2\u001b[0m mob_num()\n",
      "Cell \u001b[1;32mIn[17], line 9\u001b[0m, in \u001b[0;36mmob_num\u001b[1;34m()\u001b[0m\n\u001b[0;32m      7\u001b[0m \u001b[39mif\u001b[39;00m \u001b[39mlen\u001b[39m(mob)\u001b[39m!=\u001b[39m\u001b[39m10\u001b[39m \u001b[39mor\u001b[39;00m mob\u001b[39m.\u001b[39misnumeric()\u001b[39m!=\u001b[39m \u001b[39mTrue\u001b[39;00m:\n\u001b[0;32m      8\u001b[0m     logging\u001b[39m.\u001b[39mexception(\u001b[39m'\u001b[39m\u001b[39mException occured invalid mobile number\u001b[39m\u001b[39m'\u001b[39m)\n\u001b[1;32m----> 9\u001b[0m     \u001b[39mraise\u001b[39;00m \u001b[39mException\u001b[39;00m(\u001b[39m'\u001b[39m\u001b[39mInvalid Mobile number is entered\u001b[39m\u001b[39m'\u001b[39m)\n",
      "\u001b[1;31mException\u001b[0m: Invalid Mobile number is entered"
     ]
    }
   ],
   "source": [
    "# Case 2: Entering 10 digit number but has alphabets\n",
    "mob_num()"
   ]
  },
  {
   "cell_type": "code",
   "execution_count": 20,
   "metadata": {},
   "outputs": [
    {
     "name": "stdout",
     "output_type": "stream",
     "text": [
      "The moblie number entered is 1234567890\n"
     ]
    }
   ],
   "source": [
    "# Case 3 : Entering all 10 digit mob number\n",
    "mob_num()"
   ]
  },
  {
   "attachments": {},
   "cell_type": "markdown",
   "metadata": {},
   "source": [
    "## Question 5 : What are custom Exceptions in python ? Why do we need Custom Exceptions? Explain with an Example.\n",
    "---"
   ]
  },
  {
   "attachments": {},
   "cell_type": "markdown",
   "metadata": {},
   "source": [
    "## Answer: Built-in exceptions offer information about Python-related problems, and custom exceptions will add information about project-related problems. Example percentage value should always be between 0 to 100"
   ]
  },
  {
   "attachments": {},
   "cell_type": "markdown",
   "metadata": {},
   "source": [
    "Python detects all the critical errors that occur during Compile-time and Runtime. It stops the program's execution if the error occurs and raises an exception. Some commonly raised Exceptions are ArithmeticError, AttributeError, ImportError, IOError, FileNotFoundError, etc.\n",
    "\n",
    "Sometimes we must enforce constraints on the values that specific program variables can take or save the program from running into an undesired state. In such situations, Python allows programmers to create User-defined Exceptions. To create a User-defined Exception, we need to create a class directly or indirectly derived from the built-in Exception class."
   ]
  },
  {
   "cell_type": "code",
   "execution_count": 1,
   "metadata": {},
   "outputs": [],
   "source": [
    "# Creating a custom class for custom exception\n",
    "class pcterror(Exception):\n",
    "    def __init__(self,msg):\n",
    "        self.msg = msg"
   ]
  },
  {
   "cell_type": "code",
   "execution_count": 4,
   "metadata": {},
   "outputs": [
    {
     "name": "stdout",
     "output_type": "stream",
     "text": [
      "Percentage marks of student is :  85\n"
     ]
    }
   ],
   "source": [
    "# Check if percentage marks of entered is valid or not\n",
    "# Case 1 : Percentage between 0 and 100\n",
    "logging.info('Question 5 , case 1 started')\n",
    "pct = 85\n",
    "# Below is custom exception which checks if percentage is in between 0 and 100\n",
    "if pct<0 or pct>100:\n",
    "    logging.error('Percentage not in range')\n",
    "    raise pcterror('Invalid percentage entered') \n",
    "else:\n",
    "    print('Percentage marks of student is : ',pct)\n",
    "    logging.info('No Error occured')"
   ]
  },
  {
   "cell_type": "code",
   "execution_count": 7,
   "metadata": {},
   "outputs": [
    {
     "ename": "pcterror",
     "evalue": "Invalid percentage entered",
     "output_type": "error",
     "traceback": [
      "\u001b[1;31m---------------------------------------------------------------------------\u001b[0m",
      "\u001b[1;31mpcterror\u001b[0m                                  Traceback (most recent call last)",
      "Cell \u001b[1;32mIn[7], line 7\u001b[0m\n\u001b[0;32m      5\u001b[0m \u001b[39mif\u001b[39;00m pct\u001b[39m<\u001b[39m\u001b[39m0\u001b[39m \u001b[39mor\u001b[39;00m pct\u001b[39m>\u001b[39m\u001b[39m100\u001b[39m:\n\u001b[0;32m      6\u001b[0m     logging\u001b[39m.\u001b[39merror(\u001b[39m'\u001b[39m\u001b[39mPercentage not in range\u001b[39m\u001b[39m'\u001b[39m)\n\u001b[1;32m----> 7\u001b[0m     \u001b[39mraise\u001b[39;00m pcterror(\u001b[39m'\u001b[39m\u001b[39mInvalid percentage entered\u001b[39m\u001b[39m'\u001b[39m) \n\u001b[0;32m      8\u001b[0m \u001b[39melse\u001b[39;00m:\n\u001b[0;32m      9\u001b[0m     \u001b[39mprint\u001b[39m(\u001b[39m'\u001b[39m\u001b[39mPercentage marks of student is : \u001b[39m\u001b[39m'\u001b[39m,pct)\n",
      "\u001b[1;31mpcterror\u001b[0m: Invalid percentage entered"
     ]
    }
   ],
   "source": [
    "# Case 2 : Negative Percentage\n",
    "logging.info('Question 5 , case 2 started')\n",
    "pct = -20\n",
    "# Below is custom exception which checks if percentage is in between 0 and 100\n",
    "if pct<0 or pct>100:\n",
    "    logging.error('Percentage not in range')\n",
    "    raise pcterror('Invalid percentage entered') \n",
    "else:\n",
    "    print('Percentage marks of student is : ',pct)\n",
    "    logging.info('no error occured')"
   ]
  },
  {
   "cell_type": "code",
   "execution_count": 8,
   "metadata": {},
   "outputs": [
    {
     "ename": "pcterror",
     "evalue": "Invalid percentage entered",
     "output_type": "error",
     "traceback": [
      "\u001b[1;31m---------------------------------------------------------------------------\u001b[0m",
      "\u001b[1;31mpcterror\u001b[0m                                  Traceback (most recent call last)",
      "Cell \u001b[1;32mIn[8], line 7\u001b[0m\n\u001b[0;32m      5\u001b[0m \u001b[39mif\u001b[39;00m pct\u001b[39m<\u001b[39m\u001b[39m0\u001b[39m \u001b[39mor\u001b[39;00m pct\u001b[39m>\u001b[39m\u001b[39m100\u001b[39m:\n\u001b[0;32m      6\u001b[0m     logging\u001b[39m.\u001b[39merror(\u001b[39m'\u001b[39m\u001b[39mPercentage not in range\u001b[39m\u001b[39m'\u001b[39m)\n\u001b[1;32m----> 7\u001b[0m     \u001b[39mraise\u001b[39;00m pcterror(\u001b[39m'\u001b[39m\u001b[39mInvalid percentage entered\u001b[39m\u001b[39m'\u001b[39m) \n\u001b[0;32m      8\u001b[0m \u001b[39melse\u001b[39;00m:\n\u001b[0;32m      9\u001b[0m     \u001b[39mprint\u001b[39m(\u001b[39m'\u001b[39m\u001b[39mPercentage marks of student is : \u001b[39m\u001b[39m'\u001b[39m,pct)\n",
      "\u001b[1;31mpcterror\u001b[0m: Invalid percentage entered"
     ]
    }
   ],
   "source": [
    "# Case 3 : Percentage > 100\n",
    "logging.info('Question 5 , case 3 started')\n",
    "pct = 135\n",
    "# Below is custom exception which checks if percentage is in between 0 and 100\n",
    "if pct<0 or pct>100:\n",
    "    logging.error('Percentage not in range')\n",
    "    raise pcterror('Invalid percentage entered') \n",
    "else:\n",
    "    print('Percentage marks of student is : ',pct)\n",
    "    logging.info('No error in code')"
   ]
  },
  {
   "attachments": {},
   "cell_type": "markdown",
   "metadata": {},
   "source": [
    "## Question 6 : Create a custom exception class . Use this class to handle exception\n",
    "---"
   ]
  },
  {
   "attachments": {},
   "cell_type": "markdown",
   "metadata": {},
   "source": [
    "## Answer : I'm Creating a custom exception to validate PAN Card number Below are rules\n",
    "1. Length of Characters must be 10\n",
    "2. First 5 characters string out of which first 3 are random\n",
    "3. The fourth character of PAN represents the status of the PAN holder must be from ['P','C','H', 'F', 'A', 'T', 'B', 'L', 'J', 'G']\n",
    "4. 5th Character must be same as First Letter of surname\n",
    "6. Next 4 characters (from 6 to 9) should be number\n",
    "7. Last character should be a alphabet <br>"
   ]
  },
  {
   "attachments": {},
   "cell_type": "markdown",
   "metadata": {},
   "source": []
  },
  {
   "cell_type": "code",
   "execution_count": 25,
   "metadata": {},
   "outputs": [],
   "source": [
    "#Creating a custom exception class to validate PAN Card number\n",
    "\n",
    "class validatePAN(Exception):\n",
    "    # This class ValidatePAN is child of Parent class Exception\n",
    "    def __init__(self, msg):\n",
    "        self.msg = msg"
   ]
  },
  {
   "cell_type": "code",
   "execution_count": 26,
   "metadata": {},
   "outputs": [],
   "source": [
    "\n",
    "# Custon Definition to validate pan number\n",
    "def validate_pan_number(surname,pan):\n",
    "\n",
    "    logging.info('Validate pan function started')\n",
    "    \n",
    "    # Condition 1 Check if Surname is entered alphabetic\n",
    "    if not surname.isalpha():\n",
    "        logging.error('Surname error , Surname cannot have numbers')\n",
    "        raise validatePAN('Surname cannot consist of numbers')\n",
    "    \n",
    "    # Condition 2 Check PAN Card Length it must be = 10\n",
    "    elif len(pan)!=10:\n",
    "        logging.error('PAN Number length is not equal to 10')\n",
    "        raise validatePAN('Length of PAN Card should be 10 digits')\n",
    "    \n",
    "    # Condition 3 first 3 charaters should be letters\n",
    "    elif not pan[0:2].isalpha():\n",
    "        logging.error('First 3 letters of PAN Number are not characters')\n",
    "        raise validatePAN('First Three characters of Pan Card Must be Letters')\n",
    "    \n",
    "    # Condition 4 Fourth letters must belong in ['P','C','H', 'F', 'A', 'T', 'B', 'L', 'J', 'G'] \n",
    "    elif pan[3] not in ['P','C','H', 'F', 'A', 'T', 'B', 'L', 'J', 'G']:\n",
    "        logging.error('PAN Category invalid')\n",
    "        raise validatePAN(\"4th Letter must be any of ['P','C','H', 'F', 'A', 'T', 'B', 'L', 'J', 'G']\")\n",
    "    \n",
    "    # Condition 5 Fifth letter of PAN Card must match with 1st letter of surname \n",
    "    # Case Unification done if characters enterd in different case\n",
    "    elif surname[0].upper()!=pan[4].upper():\n",
    "        logging.error('1st Letter of Surname and 5th Letter of PAN not matching')\n",
    "        raise validatePAN(\"First Digit of surname not matching with 5th Letter of pan\")\n",
    "    \n",
    "    # Condition 6 Next 4 characters should be numeric \n",
    "    elif not pan[5:9].isnumeric():\n",
    "        logging.error('Characters 6 to 9 not numeric')\n",
    "        raise validatePAN(\"Characters from 6 to 9 should be numbers\")\n",
    "    \n",
    "    # Condition 7 Last Character must be alphabet\n",
    "    elif not pan[-1].isalpha():\n",
    "        logging.error('Last character in not an alphabet')\n",
    "        raise validatePAN(\"Last Character of PAN must be a Alphabet\")\n",
    "    \n",
    "    # If all above condition satisfy Pan Number is valid\n",
    "    else:\n",
    "        print('PAN Number is valid')\n",
    "        logging.info('PAN Card number is Valid')"
   ]
  },
  {
   "cell_type": "code",
   "execution_count": 27,
   "metadata": {},
   "outputs": [
    {
     "name": "stdout",
     "output_type": "stream",
     "text": [
      "PAN Number is valid\n"
     ]
    }
   ],
   "source": [
    "# Test Case 1 : Checking a Valid pan number and surname\n",
    "logging.info('Test Case 1 , Question 6')\n",
    "try:\n",
    "    surname = 'gaikwad'\n",
    "    pan = 'AAAPG1234F'\n",
    "    validate_pan_number(surname,pan)\n",
    "    logging.info('Try Block executed')\n",
    "except validatePAN as e:\n",
    "    print(e)\n",
    "    logging.exception('Except block executed')"
   ]
  },
  {
   "cell_type": "code",
   "execution_count": 28,
   "metadata": {},
   "outputs": [
    {
     "name": "stdout",
     "output_type": "stream",
     "text": [
      "Surname cannot consist of numbers\n"
     ]
    }
   ],
   "source": [
    "# Test case 2 : Entering invalid surname\n",
    "logging.info('Test Case 2 , Question 6')\n",
    "try:\n",
    "    surname = '123skfm'\n",
    "    pan = 'AAAPG1234F'\n",
    "    validate_pan_number(surname,pan)\n",
    "    logging.info('Try Block executed')\n",
    "except validatePAN as e:\n",
    "    print(e)\n",
    "    logging.exception('Except block executed')"
   ]
  },
  {
   "cell_type": "code",
   "execution_count": 29,
   "metadata": {},
   "outputs": [
    {
     "name": "stdout",
     "output_type": "stream",
     "text": [
      "Length of PAN Card should be 10 digits\n"
     ]
    }
   ],
   "source": [
    "# Test Case 3 : Entering Pan Number Less than 10 numbers\n",
    "logging.info('Test Case 3 , Question 6')\n",
    "try:\n",
    "    surname = 'gaikwad'\n",
    "    pan = 'AAAPG12'\n",
    "    validate_pan_number(surname,pan)\n",
    "    logging.info('Try Block executed')\n",
    "except validatePAN as e:\n",
    "    print(e)\n",
    "    logging.exception('Except block executed')"
   ]
  },
  {
   "cell_type": "code",
   "execution_count": 30,
   "metadata": {},
   "outputs": [
    {
     "name": "stdout",
     "output_type": "stream",
     "text": [
      "First Three characters of Pan Card Must be Letters\n"
     ]
    }
   ],
   "source": [
    "# Test Case 4 : Entering Pan Number Less than 10 numbers First 3 letters of pancard is not alphabet\n",
    "logging.info('Test Case 4 , Question 6')\n",
    "try:\n",
    "    surname = 'gaikwad'\n",
    "    pan = 'A2APG1234F'\n",
    "    validate_pan_number(surname,pan)\n",
    "    logging.info('Try Block executed')\n",
    "except validatePAN as e:\n",
    "    print(e)\n",
    "    logging.exception('Except block executed')"
   ]
  },
  {
   "cell_type": "code",
   "execution_count": 31,
   "metadata": {},
   "outputs": [
    {
     "name": "stdout",
     "output_type": "stream",
     "text": [
      "4th Letter must be any of ['P','C','H', 'F', 'A', 'T', 'B', 'L', 'J', 'G']\n"
     ]
    }
   ],
   "source": [
    "# Test Case 4: Letter 4 not belonging from ['P','C','H', 'F', 'A', 'T', 'B', 'L', 'J', 'G']\n",
    "logging.info('Test Case 4 , Question 6') \n",
    "try:\n",
    "    surname = 'gaikwad'\n",
    "    pan = 'AAAZG1234F'\n",
    "    validate_pan_number(surname,pan)\n",
    "    logging.info('Try Block executed')\n",
    "except validatePAN as e:\n",
    "    print(e)\n",
    "    logging.exception('Except block executed')"
   ]
  },
  {
   "cell_type": "code",
   "execution_count": 32,
   "metadata": {},
   "outputs": [
    {
     "name": "stdout",
     "output_type": "stream",
     "text": [
      "First Digit of surname not matching with 5th Letter of pan\n"
     ]
    }
   ],
   "source": [
    "# Test Case 5: First letter of surname and 5th character of PAN Number not matching\n",
    "logging.info('Test Case 5 , Question 6')\n",
    "try:\n",
    "    surname = 'gaikwad'\n",
    "    pan = 'AAAPX1234F'\n",
    "    validate_pan_number(surname,pan)\n",
    "    logging.info('Try Block executed')\n",
    "except validatePAN as e:\n",
    "    print(e)\n",
    "    logging.exception('Except block executed')"
   ]
  },
  {
   "cell_type": "code",
   "execution_count": 33,
   "metadata": {},
   "outputs": [
    {
     "name": "stdout",
     "output_type": "stream",
     "text": [
      "Characters from 6 to 9 should be numbers\n"
     ]
    }
   ],
   "source": [
    "# Test Case 6: Characters from 6 to 9 are not numbers\n",
    "logging.info('Test Case 6 , Question 6')\n",
    "try:\n",
    "    surname = 'gaikwad'\n",
    "    pan = 'AAAPG12N4F'\n",
    "    validate_pan_number(surname,pan)\n",
    "    logging.info('Try Block executed')\n",
    "except validatePAN as e:\n",
    "    print(e)\n",
    "    logging.exception('Except block executed')"
   ]
  },
  {
   "cell_type": "code",
   "execution_count": 34,
   "metadata": {},
   "outputs": [
    {
     "name": "stdout",
     "output_type": "stream",
     "text": [
      "Last Character of PAN must be a Alphabet\n"
     ]
    }
   ],
   "source": [
    "# Test Case 7: Last Character must be Alphabet\n",
    "logging.info('Test Case 7 , Question 6')\n",
    "try:\n",
    "    surname = 'gaikwad'\n",
    "    pan = 'AAAPG12345'\n",
    "    validate_pan_number(surname,pan)\n",
    "    logging.info('Try Block executed')\n",
    "except validatePAN as e:\n",
    "    print(e)\n",
    "    logging.exception('Except Block executed')"
   ]
  },
  {
   "cell_type": "code",
   "execution_count": 35,
   "metadata": {},
   "outputs": [
    {
     "name": "stdout",
     "output_type": "stream",
     "text": [
      "PAN Number is valid\n"
     ]
    }
   ],
   "source": [
    "# Test Case 8 : Random Test case\n",
    "logging.info('Test Case 8 , Question 6')\n",
    "try:\n",
    "    surname ='Naik'\n",
    "    pan = 'ACXPN4567D'\n",
    "    validate_pan_number(surname,pan)\n",
    "    logging.info('Try Block executed')\n",
    "except validatePAN as e:\n",
    "    print(e)\n",
    "    logging.exception('Except Block executed')"
   ]
  },
  {
   "cell_type": "code",
   "execution_count": 9,
   "metadata": {},
   "outputs": [],
   "source": [
    "# Shutdown logging first\n",
    "logging.shutdown()"
   ]
  },
  {
   "cell_type": "code",
   "execution_count": 10,
   "metadata": {},
   "outputs": [
    {
     "name": "stdout",
     "output_type": "stream",
     "text": [
      "2023-02-13 11:49:40,624 - root - INFO - This is Question 1 , Example 1\n",
      "2023-02-13 11:50:12,765 - root - INFO - This is Question 2 start\n",
      "2023-02-13 11:54:00,804 - root - INFO - This is Start of Question 3\n",
      "2023-02-13 11:54:00,805 - root - ERROR - Except block from Question 3 executed\n",
      "Traceback (most recent call last):\n",
      "  File \"C:\\Users\\Utkarsh Gaikwad\\AppData\\Local\\Temp\\ipykernel_19784\\3002810753.py\", line 5, in <module>\n",
      "    with open('sample.txt','r') as f:\n",
      "  File \"e:\\PWSkills Assignments\\venv\\lib\\site-packages\\IPython\\core\\interactiveshell.py\", line 282, in _modified_open\n",
      "    return io_open(file, *args, **kwargs)\n",
      "FileNotFoundError: [Errno 2] No such file or directory: 'sample.txt'\n",
      "2023-02-13 11:54:00,806 - root - INFO - Finally Block from Question 3 executed\n",
      "2023-02-13 11:55:48,061 - root - INFO - This is Start of function divide\n",
      "2023-02-13 11:55:48,061 - root - INFO - Try Block executed\n",
      "2023-02-13 11:55:48,061 - root - INFO - Else Block executed\n",
      "2023-02-13 11:56:07,250 - root - INFO - This is Start of function divide\n",
      "2023-02-13 11:56:07,250 - root - INFO - Try Block executed\n",
      "2023-02-13 11:56:07,251 - root - INFO - Else Block executed\n",
      "2023-02-13 11:56:11,386 - root - INFO - This is Start of function divide\n",
      "2023-02-13 11:56:11,386 - root - ERROR - Except block executed\n",
      "Traceback (most recent call last):\n",
      "  File \"C:\\Users\\Utkarsh Gaikwad\\AppData\\Local\\Temp\\ipykernel_19784\\3619439627.py\", line 9, in divide\n",
      "    result = a/b\n",
      "ZeroDivisionError: division by zero\n",
      "2023-02-13 11:56:32,647 - root - INFO - This is Start of function divide\n",
      "2023-02-13 11:56:32,647 - root - ERROR - Except block executed\n",
      "Traceback (most recent call last):\n",
      "  File \"C:\\Users\\Utkarsh Gaikwad\\AppData\\Local\\Temp\\ipykernel_19784\\3619439627.py\", line 9, in divide\n",
      "    result = a/b\n",
      "TypeError: unsupported operand type(s) for /: 'str' and 'int'\n",
      "2023-02-13 11:58:11,454 - root - INFO - Explaining Finally block code of Question 3\n",
      "2023-02-13 11:58:11,454 - root - ERROR - Except block executed\n",
      "Traceback (most recent call last):\n",
      "  File \"C:\\Users\\Utkarsh Gaikwad\\AppData\\Local\\Temp\\ipykernel_19784\\2074260654.py\", line 6, in <module>\n",
      "    c = a + b\n",
      "TypeError: unsupported operand type(s) for +: 'int' and 'str'\n",
      "2023-02-13 11:58:11,454 - root - INFO - Finally Block executed\n",
      "2023-02-13 11:59:39,940 - root - INFO - Explaining Finally block code of Question 3 Finally example 2\n",
      "2023-02-13 11:59:39,941 - root - INFO - Try Block executed\n",
      "2023-02-13 11:59:39,941 - root - INFO - Finally block executed\n",
      "2023-02-13 12:01:39,797 - root - INFO - This is start of mob_num function from Question 3 Raise explaination\n",
      "2023-02-13 12:01:42,591 - root - ERROR - Exception occured invalid mobile number\n",
      "NoneType: None\n",
      "2023-02-13 12:01:55,913 - root - INFO - This is start of mob_num function from Question 3 Raise explaination\n",
      "2023-02-13 12:02:12,914 - root - ERROR - Exception occured invalid mobile number\n",
      "NoneType: None\n",
      "2023-02-13 12:02:16,522 - root - INFO - This is start of mob_num function from Question 3 Raise explaination\n",
      "2023-02-13 12:05:49,280 - root - INFO - Question 5 , case 1 started\n",
      "2023-02-13 12:05:49,281 - root - INFO - No Error occured\n",
      "2023-02-13 12:06:35,733 - root - INFO - Question 5 , case 2 started\n",
      "2023-02-13 12:06:35,733 - root - ERROR - Percentage not in range\n",
      "2023-02-13 12:07:54,039 - root - INFO - Question 5 , case 3 started\n",
      "2023-02-13 12:07:54,040 - root - ERROR - Percentage not in range\n",
      "2023-02-13 12:15:56,066 - root - INFO - Test Case 1 , Question 6\n",
      "2023-02-13 12:15:56,066 - root - INFO - Validate pan function started\n",
      "2023-02-13 12:15:56,068 - root - INFO - PAN Card number is Valid\n",
      "2023-02-13 12:15:56,068 - root - INFO - Try Block executed\n",
      "2023-02-13 12:16:40,789 - root - INFO - Test Case 2 , Question 6\n",
      "2023-02-13 12:16:40,789 - root - INFO - Validate pan function started\n",
      "2023-02-13 12:16:40,789 - root - ERROR - Surname error , Surname cannot have numbers\n",
      "2023-02-13 12:16:40,790 - root - ERROR - Except block executed\n",
      "Traceback (most recent call last):\n",
      "  File \"C:\\Users\\Utkarsh Gaikwad\\AppData\\Local\\Temp\\ipykernel_19784\\2302266496.py\", line 6, in <module>\n",
      "    validate_pan_number(surname,pan)\n",
      "  File \"C:\\Users\\Utkarsh Gaikwad\\AppData\\Local\\Temp\\ipykernel_19784\\2058743615.py\", line 9, in validate_pan_number\n",
      "    raise validatePAN('Surname cannot consist of numbers')\n",
      "validatePAN: Surname cannot consist of numbers\n",
      "2023-02-13 12:17:31,369 - root - INFO - Test Case 3 , Question 6\n",
      "2023-02-13 12:17:31,369 - root - INFO - Validate pan function started\n",
      "2023-02-13 12:17:31,369 - root - ERROR - PAN Number length is not equal to 10\n",
      "2023-02-13 12:17:31,369 - root - ERROR - Except block executed\n",
      "Traceback (most recent call last):\n",
      "  File \"C:\\Users\\Utkarsh Gaikwad\\AppData\\Local\\Temp\\ipykernel_19784\\3688708175.py\", line 6, in <module>\n",
      "    validate_pan_number(surname,pan)\n",
      "  File \"C:\\Users\\Utkarsh Gaikwad\\AppData\\Local\\Temp\\ipykernel_19784\\2058743615.py\", line 14, in validate_pan_number\n",
      "    raise validatePAN('Length of PAN Card should be 10 digits')\n",
      "validatePAN: Length of PAN Card should be 10 digits\n",
      "2023-02-13 12:18:54,208 - root - INFO - Test Case 4 , Question 6\n",
      "2023-02-13 12:18:54,209 - root - INFO - Validate pan function started\n",
      "2023-02-13 12:18:54,209 - root - ERROR - First 3 letters of PAN Number are not characters\n",
      "2023-02-13 12:18:54,209 - root - ERROR - Except block executed\n",
      "Traceback (most recent call last):\n",
      "  File \"C:\\Users\\Utkarsh Gaikwad\\AppData\\Local\\Temp\\ipykernel_19784\\868844381.py\", line 6, in <module>\n",
      "    validate_pan_number(surname,pan)\n",
      "  File \"C:\\Users\\Utkarsh Gaikwad\\AppData\\Local\\Temp\\ipykernel_19784\\2058743615.py\", line 19, in validate_pan_number\n",
      "    raise validatePAN('First Three characters of Pan Card Must be Letters')\n",
      "validatePAN: First Three characters of Pan Card Must be Letters\n",
      "2023-02-13 12:19:31,446 - root - INFO - Test Case 4 , Question 6\n",
      "2023-02-13 12:19:31,446 - root - INFO - Validate pan function started\n",
      "2023-02-13 12:19:31,446 - root - ERROR - PAN Category invalid\n",
      "2023-02-13 12:19:31,447 - root - ERROR - Except block executed\n",
      "Traceback (most recent call last):\n",
      "  File \"C:\\Users\\Utkarsh Gaikwad\\AppData\\Local\\Temp\\ipykernel_19784\\3542145984.py\", line 6, in <module>\n",
      "    validate_pan_number(surname,pan)\n",
      "  File \"C:\\Users\\Utkarsh Gaikwad\\AppData\\Local\\Temp\\ipykernel_19784\\2058743615.py\", line 24, in validate_pan_number\n",
      "    raise validatePAN(\"4th Letter must be any of ['P','C','H', 'F', 'A', 'T', 'B', 'L', 'J', 'G']\")\n",
      "validatePAN: 4th Letter must be any of ['P','C','H', 'F', 'A', 'T', 'B', 'L', 'J', 'G']\n",
      "2023-02-13 12:20:02,532 - root - INFO - Test Case 5 , Question 6\n",
      "2023-02-13 12:20:02,532 - root - INFO - Validate pan function started\n",
      "2023-02-13 12:20:02,532 - root - ERROR - 1st Letter of Surname and 5th Letter of PAN not matching\n",
      "2023-02-13 12:20:02,532 - root - ERROR - Except block executed\n",
      "Traceback (most recent call last):\n",
      "  File \"C:\\Users\\Utkarsh Gaikwad\\AppData\\Local\\Temp\\ipykernel_19784\\2808962196.py\", line 6, in <module>\n",
      "    validate_pan_number(surname,pan)\n",
      "  File \"C:\\Users\\Utkarsh Gaikwad\\AppData\\Local\\Temp\\ipykernel_19784\\2058743615.py\", line 30, in validate_pan_number\n",
      "    raise validatePAN(\"First Digit of surname not matching with 5th Letter of pan\")\n",
      "validatePAN: First Digit of surname not matching with 5th Letter of pan\n",
      "2023-02-13 12:20:54,251 - root - INFO - Test Case 6 , Question 6\n",
      "2023-02-13 12:20:54,251 - root - INFO - Validate pan function started\n",
      "2023-02-13 12:20:54,251 - root - ERROR - Characters 6 to 9 not numeric\n",
      "2023-02-13 12:20:54,251 - root - ERROR - Except block executed\n",
      "Traceback (most recent call last):\n",
      "  File \"C:\\Users\\Utkarsh Gaikwad\\AppData\\Local\\Temp\\ipykernel_19784\\3642342128.py\", line 6, in <module>\n",
      "    validate_pan_number(surname,pan)\n",
      "  File \"C:\\Users\\Utkarsh Gaikwad\\AppData\\Local\\Temp\\ipykernel_19784\\2058743615.py\", line 35, in validate_pan_number\n",
      "    raise validatePAN(\"Characters from 6 to 9 should be numbers\")\n",
      "validatePAN: Characters from 6 to 9 should be numbers\n",
      "2023-02-13 12:22:03,560 - root - INFO - Test Case 7 , Question 6\n",
      "2023-02-13 12:22:03,560 - root - INFO - Validate pan function started\n",
      "2023-02-13 12:22:03,560 - root - ERROR - Last character in not an alphabet\n",
      "2023-02-13 12:22:03,561 - root - ERROR - Except Block executed\n",
      "Traceback (most recent call last):\n",
      "  File \"C:\\Users\\Utkarsh Gaikwad\\AppData\\Local\\Temp\\ipykernel_19784\\1685226048.py\", line 6, in <module>\n",
      "    validate_pan_number(surname,pan)\n",
      "  File \"C:\\Users\\Utkarsh Gaikwad\\AppData\\Local\\Temp\\ipykernel_19784\\2058743615.py\", line 40, in validate_pan_number\n",
      "    raise validatePAN(\"Last Character of PAN must be a Alphabet\")\n",
      "validatePAN: Last Character of PAN must be a Alphabet\n",
      "2023-02-13 12:22:45,688 - root - INFO - Test Case 8 , Question 6\n",
      "2023-02-13 12:22:45,688 - root - INFO - Validate pan function started\n",
      "2023-02-13 12:22:45,689 - root - INFO - PAN Card number is Valid\n",
      "2023-02-13 12:22:45,689 - root - INFO - Try Block executed\n",
      "2023-02-13 14:50:10,132 - root - INFO - Question 5 , case 1 started\n",
      "2023-02-13 14:50:10,141 - root - INFO - No Error occured\n",
      "2023-02-13 14:52:57,014 - root - INFO - Question 5 , case 2 started\n",
      "2023-02-13 14:52:57,018 - root - ERROR - Percentage not in range\n",
      "2023-02-13 14:53:25,190 - root - INFO - Question 5 , case 3 started\n",
      "2023-02-13 14:53:25,190 - root - ERROR - Percentage not in range\n",
      "\n"
     ]
    }
   ],
   "source": [
    "with open('TryExcept.log','r') as f:\n",
    "    print(f.read())"
   ]
  },
  {
   "cell_type": "code",
   "execution_count": 11,
   "metadata": {},
   "outputs": [
    {
     "data": {
      "text/plain": [
       "'TryExceptLog.txt'"
      ]
     },
     "execution_count": 11,
     "metadata": {},
     "output_type": "execute_result"
    }
   ],
   "source": [
    "# Copying log and saving as text file\n",
    "import shutil\n",
    "shutil.copy('TryExcept.log','TryExceptLog.txt')"
   ]
  }
 ],
 "metadata": {
  "kernelspec": {
   "display_name": "venv",
   "language": "python",
   "name": "python3"
  },
  "language_info": {
   "codemirror_mode": {
    "name": "ipython",
    "version": 3
   },
   "file_extension": ".py",
   "mimetype": "text/x-python",
   "name": "python",
   "nbconvert_exporter": "python",
   "pygments_lexer": "ipython3",
   "version": "3.10.7"
  },
  "orig_nbformat": 4,
  "vscode": {
   "interpreter": {
    "hash": "27149e82490bdaa27222c4e29544e396278d224a9f42010d392c3451ce079b12"
   }
  }
 },
 "nbformat": 4,
 "nbformat_minor": 2
}
