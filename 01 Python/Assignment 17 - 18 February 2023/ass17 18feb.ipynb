{
 "cells": [
  {
   "attachments": {},
   "cell_type": "markdown",
   "metadata": {},
   "source": [
    "## Assignment 17 # (18 feb)\n",
    "##### Shreyash Lokahdne"
   ]
  },
  {
   "attachments": {},
   "cell_type": "markdown",
   "metadata": {},
   "source": [
    "## Question 1: What is an API? Give an example, where an API is used in real life.\n",
    "---"
   ]
  },
  {
   "attachments": {},
   "cell_type": "markdown",
   "metadata": {},
   "source": [
    "## Answer:\n",
    "\n",
    "### API stands for Application Programming Interface. It is a set of protocols, routines, and tools for building software applications. APIs allow different software systems to communicate with each other and exchange information, even if they are built using different programming languages, operating systems, or platforms.\n",
    "\n",
    "### Real Life Example of one stock market API is the Alpha Vantage API. This API provides real-time and historical stock market data, as well as technical indicators and other financial data, for stocks, ETFs, mutual funds, and cryptocurrencies.\n",
    "\n",
    "### Developers can use the Alpha Vantage API to build financial applications that require stock market data, such as stock trading platforms, portfolio trackers, and investment research tools. The API provides various endpoints to retrieve different types of data, including real-time stock quotes, intraday stock prices, daily stock prices, and stock performance metrics like moving averages, relative strength index (RSI), and Bollinger Bands.\n",
    "\n",
    "### Other examples of stock market APIs include the Yahoo Finance API, IEX Cloud API, and the Google Finance API (although this one is no longer actively maintained). These APIs provide similar functionality, allowing developers to access financial data for use in their applications.\n",
    "\n",
    "### Link for Alpha Vantage Documentation Link: [https://www.alphavantage.co/documentation/](https://www.alphavantage.co/documentation/)\n",
    "\n",
    "### Generating API Key for Alpha Vantege: [https://www.alphavantage.co/support/#api-key](https://www.alphavantage.co/support/#api-key)"
   ]
  },
  {
   "cell_type": "code",
   "execution_count": 13,
   "metadata": {},
   "outputs": [
    {
     "name": "stdout",
     "output_type": "stream",
     "text": [
      "Requirement already satisfied: requests in e:\\pwskills assignments\\venv\\lib\\site-packages (2.28.2)\n",
      "Requirement already satisfied: charset-normalizer<4,>=2 in e:\\pwskills assignments\\venv\\lib\\site-packages (from requests) (3.0.1)\n",
      "Requirement already satisfied: idna<4,>=2.5 in e:\\pwskills assignments\\venv\\lib\\site-packages (from requests) (3.4)\n",
      "Requirement already satisfied: certifi>=2017.4.17 in e:\\pwskills assignments\\venv\\lib\\site-packages (from requests) (2022.12.7)\n",
      "Requirement already satisfied: urllib3<1.27,>=1.21.1 in e:\\pwskills assignments\\venv\\lib\\site-packages (from requests) (1.26.14)\n",
      "Note: you may need to restart the kernel to use updated packages.\n"
     ]
    }
   ],
   "source": [
    "%pip install requests"
   ]
  },
  {
   "attachments": {},
   "cell_type": "markdown",
   "metadata": {},
   "source": [
    "### I have used Alpha Vantage REST API to fetch SBI Banks (BSE) stock share prices in below code"
   ]
  },
  {
   "cell_type": "code",
   "execution_count": 14,
   "metadata": {},
   "outputs": [
    {
     "name": "stdout",
     "output_type": "stream",
     "text": [
      "{'Meta Data': {'1. Information': 'Daily Time Series with Splits and Dividend Events', '2. Symbol': 'SBIN.BSE', '3. Last Refreshed': '2023-02-17', '4. Output Size': 'Compact', '5. Time Zone': 'US/Eastern'}, 'Time Series (Daily)': {'2023-02-17': {'1. open': '539.15', '2. high': '539.5', '3. low': '527.8', '4. close': '530.9', '5. adjusted close': '530.9', '6. volume': '771672', '7. dividend amount': '0.0000', '8. split coefficient': '1.0'}, '2023-02-16': {'1. open': '546.05', '2. high': '546.75', '3. low': '539.0', '4. close': '540.1', '5. adjusted close': '540.1', '6. volume': '263883', '7. dividend amount': '0.0000', '8. split coefficient': '1.0'}, '2023-02-15': {'1. open': '541.45', '2. high': '544.65', '3. low': '537.0', '4. close': '542.2', '5. adjusted close': '542.2', '6. volume': '294189', '7. dividend amount': '0.0000', '8. split coefficient': '1.0'}, '2023-02-14': {'1. open': '539.7', '2. high': '544.6', '3. low': '530.8', '4. close': '540.65', '5. adjusted close': '540.65', '6. volume': '330324', '7. dividend amount': '0.0000', '8. split coefficient': '1.0'}, '2023-02-13': {'1. open': '554.7', '2. high': '556.8', '3. low': '533.4', '4. close': '537.3', '5. adjusted close': '537.3', '6. volume': '577180', '7. dividend amount': '0.0000', '8. split coefficient': '1.0'}, '2023-02-10': {'1. open': '547.45', '2. high': '557.05', '3. low': '546.65', '4. close': '552.95', '5. adjusted close': '552.95', '6. volume': '361598', '7. dividend amount': '0.0000', '8. split coefficient': '1.0'}, '2023-02-09': {'1. open': '553.0', '2. high': '553.0', '3. low': '542.8', '4. close': '550.65', '5. adjusted close': '550.65', '6. volume': '674156', '7. dividend amount': '0.0000', '8. split coefficient': '1.0'}, '2023-02-08': {'1. open': '548.15', '2. high': '554.65', '3. low': '545.55', '4. close': '549.55', '5. adjusted close': '549.55', '6. volume': '738413', '7. dividend amount': '0.0000', '8. split coefficient': '1.0'}, '2023-02-07': {'1. open': '548.0', '2. high': '551.65', '3. low': '541.25', '4. close': '547.1', '5. adjusted close': '547.1', '6. volume': '647852', '7. dividend amount': '0.0000', '8. split coefficient': '1.0'}, '2023-02-06': {'1. open': '554.0', '2. high': '558.25', '3. low': '536.75', '4. close': '545.35', '5. adjusted close': '545.35', '6. volume': '1473575', '7. dividend amount': '0.0000', '8. split coefficient': '1.0'}, '2023-02-03': {'1. open': '535.0', '2. high': '546.0', '3. low': '519.4', '4. close': '544.45', '5. adjusted close': '544.45', '6. volume': '1735194', '7. dividend amount': '0.0000', '8. split coefficient': '1.0'}, '2023-02-02': {'1. open': '516.8', '2. high': '532.7', '3. low': '502.55', '4. close': '528.0', '5. adjusted close': '528.0', '6. volume': '1602831', '7. dividend amount': '0.0000', '8. split coefficient': '1.0'}, '2023-02-01': {'1. open': '562.85', '2. high': '564.95', '3. low': '499.35', '4. close': '527.1', '5. adjusted close': '527.1', '6. volume': '2394144', '7. dividend amount': '0.0000', '8. split coefficient': '1.0'}, '2023-01-31': {'1. open': '545.75', '2. high': '556.95', '3. low': '538.0', '4. close': '553.7', '5. adjusted close': '553.7', '6. volume': '1085214', '7. dividend amount': '0.0000', '8. split coefficient': '1.0'}, '2023-01-30': {'1. open': '530.35', '2. high': '554.5', '3. low': '525.05', '4. close': '538.35', '5. adjusted close': '538.35', '6. volume': '1702096', '7. dividend amount': '0.0000', '8. split coefficient': '1.0'}, '2023-01-27': {'1. open': '572.15', '2. high': '572.15', '3. low': '532.35', '4. close': '540.2', '5. adjusted close': '540.2', '6. volume': '1346646', '7. dividend amount': '0.0000', '8. split coefficient': '1.0'}, '2023-01-25': {'1. open': '595.05', '2. high': '595.85', '3. low': '567.3', '4. close': '568.8', '5. adjusted close': '568.8', '6. volume': '936393', '7. dividend amount': '0.0000', '8. split coefficient': '1.0'}, '2023-01-24': {'1. open': '602.45', '2. high': '604.6', '3. low': '593.0', '4. close': '594.35', '5. adjusted close': '594.35', '6. volume': '217501', '7. dividend amount': '0.0000', '8. split coefficient': '1.0'}, '2023-01-23': {'1. open': '598.15', '2. high': '601.5', '3. low': '592.5', '4. close': '600.45', '5. adjusted close': '600.45', '6. volume': '138245', '7. dividend amount': '0.0000', '8. split coefficient': '1.0'}, '2023-01-20': {'1. open': '592.0', '2. high': '596.5', '3. low': '590.5', '4. close': '592.1', '5. adjusted close': '592.1', '6. volume': '259570', '7. dividend amount': '0.0000', '8. split coefficient': '1.0'}, '2023-01-19': {'1. open': '591.5', '2. high': '591.5', '3. low': '587.8', '4. close': '589.9', '5. adjusted close': '589.9', '6. volume': '168181', '7. dividend amount': '0.0000', '8. split coefficient': '1.0'}, '2023-01-18': {'1. open': '596.85', '2. high': '597.1', '3. low': '587.85', '4. close': '591.4', '5. adjusted close': '591.4', '6. volume': '322537', '7. dividend amount': '0.0000', '8. split coefficient': '1.0'}, '2023-01-17': {'1. open': '603.4', '2. high': '606.0', '3. low': '586.2', '4. close': '592.95', '5. adjusted close': '592.95', '6. volume': '408441', '7. dividend amount': '0.0000', '8. split coefficient': '1.0'}, '2023-01-16': {'1. open': '601.15', '2. high': '606.0', '3. low': '600.7', '4. close': '603.0', '5. adjusted close': '603.0', '6. volume': '245456', '7. dividend amount': '0.0000', '8. split coefficient': '1.0'}, '2023-01-13': {'1. open': '596.6', '2. high': '602.7', '3. low': '593.7', '4. close': '600.05', '5. adjusted close': '600.05', '6. volume': '284458', '7. dividend amount': '0.0000', '8. split coefficient': '1.0'}, '2023-01-12': {'1. open': '597.8', '2. high': '597.8', '3. low': '590.3', '4. close': '595.0', '5. adjusted close': '595.0', '6. volume': '405611', '7. dividend amount': '0.0000', '8. split coefficient': '1.0'}, '2023-01-11': {'1. open': '596.0', '2. high': '599.4', '3. low': '592.35', '4. close': '596.55', '5. adjusted close': '596.55', '6. volume': '332770', '7. dividend amount': '0.0000', '8. split coefficient': '1.0'}, '2023-01-10': {'1. open': '607.85', '2. high': '608.8', '3. low': '590.7', '4. close': '595.15', '5. adjusted close': '595.15', '6. volume': '599806', '7. dividend amount': '0.0000', '8. split coefficient': '1.0'}, '2023-01-09': {'1. open': '605.95', '2. high': '609.0', '3. low': '600.5', '4. close': '607.85', '5. adjusted close': '607.85', '6. volume': '477133', '7. dividend amount': '0.0000', '8. split coefficient': '1.0'}, '2023-01-06': {'1. open': '606.1', '2. high': '607.45', '3. low': '597.0', '4. close': '600.6', '5. adjusted close': '600.6', '6. volume': '362496', '7. dividend amount': '0.0000', '8. split coefficient': '1.0'}, '2023-01-05': {'1. open': '607.9', '2. high': '611.5', '3. low': '602.05', '4. close': '605.2', '5. adjusted close': '605.2', '6. volume': '319390', '7. dividend amount': '0.0000', '8. split coefficient': '1.0'}, '2023-01-04': {'1. open': '612.35', '2. high': '615.0', '3. low': '603.8', '4. close': '605.25', '5. adjusted close': '605.25', '6. volume': '212339', '7. dividend amount': '0.0000', '8. split coefficient': '1.0'}, '2023-01-03': {'1. open': '612.55', '2. high': '616.65', '3. low': '610.05', '4. close': '612.35', '5. adjusted close': '612.35', '6. volume': '322698', '7. dividend amount': '0.0000', '8. split coefficient': '1.0'}, '2023-01-02': {'1. open': '615.0', '2. high': '619.25', '3. low': '611.5', '4. close': '612.25', '5. adjusted close': '612.25', '6. volume': '189984', '7. dividend amount': '0.0000', '8. split coefficient': '1.0'}, '2022-12-30': {'1. open': '615.7', '2. high': '620.5', '3. low': '611.5', '4. close': '613.2', '5. adjusted close': '613.2', '6. volume': '544009', '7. dividend amount': '0.0000', '8. split coefficient': '1.0'}, '2022-12-29': {'1. open': '601.2', '2. high': '616.35', '3. low': '597.35', '4. close': '612.3', '5. adjusted close': '612.3', '6. volume': '621617', '7. dividend amount': '0.0000', '8. split coefficient': '1.0'}, '2022-12-28': {'1. open': '602.0', '2. high': '606.95', '3. low': '598.85', '4. close': '601.2', '5. adjusted close': '601.2', '6. volume': '258405', '7. dividend amount': '0.0000', '8. split coefficient': '1.0'}, '2022-12-27': {'1. open': '600.9', '2. high': '603.1', '3. low': '593.35', '4. close': '601.85', '5. adjusted close': '601.85', '6. volume': '343276', '7. dividend amount': '0.0000', '8. split coefficient': '1.0'}, '2022-12-26': {'1. open': '573.6', '2. high': '601.75', '3. low': '570.7', '4. close': '596.75', '5. adjusted close': '596.75', '6. volume': '368995', '7. dividend amount': '0.0000', '8. split coefficient': '1.0'}, '2022-12-23': {'1. open': '590.0', '2. high': '590.45', '3. low': '572.0', '4. close': '573.95', '5. adjusted close': '573.95', '6. volume': '439245', '7. dividend amount': '0.0000', '8. split coefficient': '1.0'}, '2022-12-22': {'1. open': '595.2', '2. high': '599.05', '3. low': '587.5', '4. close': '593.35', '5. adjusted close': '593.35', '6. volume': '523610', '7. dividend amount': '0.0000', '8. split coefficient': '1.0'}, '2022-12-21': {'1. open': '604.65', '2. high': '609.15', '3. low': '589.7', '4. close': '593.4', '5. adjusted close': '593.4', '6. volume': '450475', '7. dividend amount': '0.0000', '8. split coefficient': '1.0'}, '2022-12-20': {'1. open': '603.5', '2. high': '606.6', '3. low': '599.45', '4. close': '604.6', '5. adjusted close': '604.6', '6. volume': '383924', '7. dividend amount': '0.0000', '8. split coefficient': '1.0'}, '2022-12-19': {'1. open': '608.3', '2. high': '609.45', '3. low': '602.9', '4. close': '604.95', '5. adjusted close': '604.95', '6. volume': '207743', '7. dividend amount': '0.0000', '8. split coefficient': '1.0'}, '2022-12-16': {'1. open': '612.8', '2. high': '615.5', '3. low': '593.6', '4. close': '603.3', '5. adjusted close': '603.3', '6. volume': '331847', '7. dividend amount': '0.0000', '8. split coefficient': '1.0'}, '2022-12-15': {'1. open': '625.0', '2. high': '629.65', '3. low': '614.0', '4. close': '615.5', '5. adjusted close': '615.5', '6. volume': '494386', '7. dividend amount': '0.0000', '8. split coefficient': '1.0'}, '2022-12-14': {'1. open': '619.4', '2. high': '626.5', '3. low': '617.35', '4. close': '625.55', '5. adjusted close': '625.55', '6. volume': '657396', '7. dividend amount': '0.0000', '8. split coefficient': '1.0'}, '2022-12-13': {'1. open': '614.4', '2. high': '617.25', '3. low': '612.6', '4. close': '616.65', '5. adjusted close': '616.65', '6. volume': '2344503', '7. dividend amount': '0.0000', '8. split coefficient': '1.0'}, '2022-12-12': {'1. open': '615.85', '2. high': '618.65', '3. low': '611.05', '4. close': '613.05', '5. adjusted close': '613.05', '6. volume': '281485', '7. dividend amount': '0.0000', '8. split coefficient': '1.0'}, '2022-12-09': {'1. open': '614.0', '2. high': '618.0', '3. low': '609.0', '4. close': '616.45', '5. adjusted close': '616.45', '6. volume': '628573', '7. dividend amount': '0.0000', '8. split coefficient': '1.0'}, '2022-12-08': {'1. open': '610.0', '2. high': '613.9', '3. low': '607.3', '4. close': '611.7', '5. adjusted close': '611.7', '6. volume': '379325', '7. dividend amount': '0.0000', '8. split coefficient': '1.0'}, '2022-12-07': {'1. open': '610.1', '2. high': '612.9', '3. low': '604.7', '4. close': '607.0', '5. adjusted close': '607.0', '6. volume': '346921', '7. dividend amount': '0.0000', '8. split coefficient': '1.0'}, '2022-12-06': {'1. open': '614.7', '2. high': '619.8', '3. low': '608.0', '4. close': '609.0', '5. adjusted close': '609.0', '6. volume': '298737', '7. dividend amount': '0.0000', '8. split coefficient': '1.0'}, '2022-12-05': {'1. open': '605.05', '2. high': '618.0', '3. low': '605.05', '4. close': '617.15', '5. adjusted close': '617.15', '6. volume': '585041', '7. dividend amount': '0.0000', '8. split coefficient': '1.0'}, '2022-12-02': {'1. open': '608.0', '2. high': '609.6', '3. low': '604.55', '4. close': '607.55', '5. adjusted close': '607.55', '6. volume': '176480', '7. dividend amount': '0.0000', '8. split coefficient': '1.0'}, '2022-12-01': {'1. open': '607.5', '2. high': '609.7', '3. low': '601.6', '4. close': '608.05', '5. adjusted close': '608.05', '6. volume': '564599', '7. dividend amount': '0.0000', '8. split coefficient': '1.0'}, '2022-11-30': {'1. open': '609.3', '2. high': '611.5', '3. low': '598.4', '4. close': '602.5', '5. adjusted close': '602.5', '6. volume': '291093', '7. dividend amount': '0.0000', '8. split coefficient': '1.0'}, '2022-11-29': {'1. open': '609.95', '2. high': '611.65', '3. low': '607.15', '4. close': '608.4', '5. adjusted close': '608.4', '6. volume': '390586', '7. dividend amount': '0.0000', '8. split coefficient': '1.0'}, '2022-11-28': {'1. open': '605.05', '2. high': '610.95', '3. low': '602.55', '4. close': '608.7', '5. adjusted close': '608.7', '6. volume': '315208', '7. dividend amount': '0.0000', '8. split coefficient': '1.0'}, '2022-11-25': {'1. open': '610.1', '2. high': '613.5', '3. low': '606.45', '4. close': '607.45', '5. adjusted close': '607.45', '6. volume': '437639', '7. dividend amount': '0.0000', '8. split coefficient': '1.0'}, '2022-11-24': {'1. open': '610.0', '2. high': '611.2', '3. low': '605.65', '4. close': '609.35', '5. adjusted close': '609.35', '6. volume': '410001', '7. dividend amount': '0.0000', '8. split coefficient': '1.0'}, '2022-11-23': {'1. open': '603.0', '2. high': '609.35', '3. low': '601.05', '4. close': '607.75', '5. adjusted close': '607.75', '6. volume': '511676', '7. dividend amount': '0.0000', '8. split coefficient': '1.0'}, '2022-11-22': {'1. open': '598.05', '2. high': '600.7', '3. low': '596.2', '4. close': '599.1', '5. adjusted close': '599.1', '6. volume': '156754', '7. dividend amount': '0.0000', '8. split coefficient': '1.0'}, '2022-11-21': {'1. open': '602.0', '2. high': '602.0', '3. low': '595.6', '4. close': '598.05', '5. adjusted close': '598.05', '6. volume': '143937', '7. dividend amount': '0.0000', '8. split coefficient': '1.0'}, '2022-11-18': {'1. open': '600.25', '2. high': '605.5', '3. low': '597.3', '4. close': '602.65', '5. adjusted close': '602.65', '6. volume': '571317', '7. dividend amount': '0.0000', '8. split coefficient': '1.0'}, '2022-11-17': {'1. open': '598.1', '2. high': '602.8', '3. low': '596.4', '4. close': '599.15', '5. adjusted close': '599.15', '6. volume': '247446', '7. dividend amount': '0.0000', '8. split coefficient': '1.0'}, '2022-11-16': {'1. open': '600.9', '2. high': '603.45', '3. low': '595.85', '4. close': '599.6', '5. adjusted close': '599.6', '6. volume': '546720', '7. dividend amount': '0.0000', '8. split coefficient': '1.0'}, '2022-11-15': {'1. open': '593.25', '2. high': '602.0', '3. low': '592.75', '4. close': '600.9', '5. adjusted close': '600.9', '6. volume': '423802', '7. dividend amount': '0.0000', '8. split coefficient': '1.0'}, '2022-11-14': {'1. open': '604.0', '2. high': '604.0', '3. low': '591.6', '4. close': '592.55', '5. adjusted close': '592.55', '6. volume': '344882', '7. dividend amount': '0.0000', '8. split coefficient': '1.0'}, '2022-11-11': {'1. open': '616.0', '2. high': '618.3', '3. low': '598.75', '4. close': '601.1', '5. adjusted close': '601.1', '6. volume': '579483', '7. dividend amount': '0.0000', '8. split coefficient': '1.0'}, '2022-11-10': {'1. open': '610.1', '2. high': '615.0', '3. low': '602.2', '4. close': '605.7', '5. adjusted close': '605.7', '6. volume': '605727', '7. dividend amount': '0.0000', '8. split coefficient': '1.0'}, '2022-11-09': {'1. open': '620.0', '2. high': '620.55', '3. low': '610.7', '4. close': '615.55', '5. adjusted close': '615.55', '6. volume': '935161', '7. dividend amount': '0.0000', '8. split coefficient': '1.0'}, '2022-11-07': {'1. open': '614.0', '2. high': '622.9', '3. low': '607.85', '4. close': '614.2', '5. adjusted close': '614.2', '6. volume': '1680075', '7. dividend amount': '0.0000', '8. split coefficient': '1.0'}, '2022-11-04': {'1. open': '586.0', '2. high': '596.75', '3. low': '580.6', '4. close': '593.75', '5. adjusted close': '593.75', '6. volume': '797243', '7. dividend amount': '0.0000', '8. split coefficient': '1.0'}, '2022-11-03': {'1. open': '568.8', '2. high': '587.9', '3. low': '568.8', '4. close': '584.8', '5. adjusted close': '584.8', '6. volume': '777934', '7. dividend amount': '0.0000', '8. split coefficient': '1.0'}, '2022-11-02': {'1. open': '575.1', '2. high': '578.95', '3. low': '570.0', '4. close': '573.95', '5. adjusted close': '573.95', '6. volume': '281391', '7. dividend amount': '0.0000', '8. split coefficient': '1.0'}, '2022-11-01': {'1. open': '575.2', '2. high': '585.5', '3. low': '574.5', '4. close': '576.75', '5. adjusted close': '576.75', '6. volume': '876313', '7. dividend amount': '0.0000', '8. split coefficient': '1.0'}, '2022-10-31': {'1. open': '573.4', '2. high': '577.1', '3. low': '568.4', '4. close': '573.8', '5. adjusted close': '573.8', '6. volume': '507867', '7. dividend amount': '0.0000', '8. split coefficient': '1.0'}, '2022-10-28': {'1. open': '579.75', '2. high': '582.5', '3. low': '567.0', '4. close': '570.75', '5. adjusted close': '570.75', '6. volume': '299442', '7. dividend amount': '0.0000', '8. split coefficient': '1.0'}, '2022-10-27': {'1. open': '582.5', '2. high': '584.95', '3. low': '577.75', '4. close': '579.55', '5. adjusted close': '579.55', '6. volume': '643193', '7. dividend amount': '0.0000', '8. split coefficient': '1.0'}, '2022-10-25': {'1. open': '571.2', '2. high': '586.1', '3. low': '568.05', '4. close': '578.15', '5. adjusted close': '578.15', '6. volume': '1011296', '7. dividend amount': '0.0000', '8. split coefficient': '1.0'}, '2022-10-24': {'1. open': '566.25', '2. high': '572.4', '3. low': '566.25', '4. close': '570.35', '5. adjusted close': '570.35', '6. volume': '139821', '7. dividend amount': '0.0000', '8. split coefficient': '1.0'}, '2022-10-21': {'1. open': '557.9', '2. high': '565.55', '3. low': '556.95', '4. close': '560.8', '5. adjusted close': '560.8', '6. volume': '718300', '7. dividend amount': '0.0000', '8. split coefficient': '1.0'}, '2022-10-20': {'1. open': '555.65', '2. high': '556.75', '3. low': '545.4', '4. close': '555.4', '5. adjusted close': '555.4', '6. volume': '366493', '7. dividend amount': '0.0000', '8. split coefficient': '1.0'}, '2022-10-19': {'1. open': '562.45', '2. high': '563.4', '3. low': '551.45', '4. close': '553.2', '5. adjusted close': '553.2', '6. volume': '458561', '7. dividend amount': '0.0000', '8. split coefficient': '1.0'}, '2022-10-18': {'1. open': '546.1', '2. high': '563.4', '3. low': '546.1', '4. close': '562.45', '5. adjusted close': '562.45', '6. volume': '940655', '7. dividend amount': '0.0000', '8. split coefficient': '1.0'}, '2022-10-17': {'1. open': '526.05', '2. high': '544.8', '3. low': '524.95', '4. close': '543.9', '5. adjusted close': '543.9', '6. volume': '402075', '7. dividend amount': '0.0000', '8. split coefficient': '1.0'}, '2022-10-14': {'1. open': '530.0', '2. high': '534.7', '3. low': '525.95', '4. close': '527.05', '5. adjusted close': '527.05', '6. volume': '216543', '7. dividend amount': '0.0000', '8. split coefficient': '1.0'}, '2022-10-13': {'1. open': '533.0', '2. high': '533.7', '3. low': '520.35', '4. close': '521.35', '5. adjusted close': '521.35', '6. volume': '379867', '7. dividend amount': '0.0000', '8. split coefficient': '1.0'}, '2022-10-12': {'1. open': '528.15', '2. high': '535.1', '3. low': '526.05', '4. close': '533.95', '5. adjusted close': '533.95', '6. volume': '187354', '7. dividend amount': '0.0000', '8. split coefficient': '1.0'}, '2022-10-11': {'1. open': '530.3', '2. high': '533.6', '3. low': '525.6', '4. close': '527.2', '5. adjusted close': '527.2', '6. volume': '227126', '7. dividend amount': '0.0000', '8. split coefficient': '1.0'}, '2022-10-10': {'1. open': '525.0', '2. high': '533.9', '3. low': '522.15', '4. close': '530.3', '5. adjusted close': '530.3', '6. volume': '408969', '7. dividend amount': '0.0000', '8. split coefficient': '1.0'}, '2022-10-07': {'1. open': '535.8', '2. high': '535.8', '3. low': '526.65', '4. close': '530.35', '5. adjusted close': '530.35', '6. volume': '301605', '7. dividend amount': '0.0000', '8. split coefficient': '1.0'}, '2022-10-06': {'1. open': '533.05', '2. high': '541.7', '3. low': '533.05', '4. close': '537.25', '5. adjusted close': '537.25', '6. volume': '408934', '7. dividend amount': '0.0000', '8. split coefficient': '1.0'}, '2022-10-04': {'1. open': '531.0', '2. high': '535.8', '3. low': '528.0', '4. close': '532.7', '5. adjusted close': '532.7', '6. volume': '283557', '7. dividend amount': '0.0000', '8. split coefficient': '1.0'}, '2022-10-03': {'1. open': '528.7', '2. high': '531.4', '3. low': '518.3', '4. close': '519.65', '5. adjusted close': '519.65', '6. volume': '444614', '7. dividend amount': '0.0000', '8. split coefficient': '1.0'}, '2022-09-30': {'1. open': '524.0', '2. high': '536.95', '3. low': '516.3', '4. close': '531.05', '5. adjusted close': '531.05', '6. volume': '906209', '7. dividend amount': '0.0000', '8. split coefficient': '1.0'}, '2022-09-29': {'1. open': '528.0', '2. high': '535.55', '3. low': '519.65', '4. close': '521.95', '5. adjusted close': '521.95', '6. volume': '1020982', '7. dividend amount': '0.0000', '8. split coefficient': '1.0'}, '2022-09-28': {'1. open': '533.0', '2. high': '539.75', '3. low': '520.7', '4. close': '525.3', '5. adjusted close': '525.3', '6. volume': '1189112', '7. dividend amount': '0.0000', '8. split coefficient': '1.0'}, '2022-09-27': {'1. open': '544.0', '2. high': '550.75', '3. low': '533.2', '4. close': '536.25', '5. adjusted close': '536.25', '6. volume': '675627', '7. dividend amount': '0.0000', '8. split coefficient': '1.0'}}}\n"
     ]
    }
   ],
   "source": [
    "import requests\n",
    "\n",
    "ticker = 'SBIN.BSE'\n",
    "url = 'https://www.alphavantage.co/query?function=TIME_SERIES_DAILY_ADJUSTED&symbol='+ ticker +'&apikey=HZ8QGOLXW2U01N2E'\n",
    "r = requests.get(url)\n",
    "data = r.json()\n",
    "\n",
    "print(data)"
   ]
  },
  {
   "cell_type": "code",
   "execution_count": 15,
   "metadata": {},
   "outputs": [
    {
     "data": {
      "text/plain": [
       "['2023-02-17', '2023-02-16', '2023-02-15', '2023-02-14', '2023-02-13']"
      ]
     },
     "execution_count": 15,
     "metadata": {},
     "output_type": "execute_result"
    }
   ],
   "source": [
    "# Getting dates from Time Series Daily\n",
    "dates = list(data['Time Series (Daily)'].keys())\n",
    "dates[0:5]"
   ]
  },
  {
   "cell_type": "code",
   "execution_count": 16,
   "metadata": {},
   "outputs": [
    {
     "data": {
      "text/plain": [
       "[{'1. open': '539.15',\n",
       "  '2. high': '539.5',\n",
       "  '3. low': '527.8',\n",
       "  '4. close': '530.9',\n",
       "  '5. adjusted close': '530.9',\n",
       "  '6. volume': '771672',\n",
       "  '7. dividend amount': '0.0000',\n",
       "  '8. split coefficient': '1.0'},\n",
       " {'1. open': '546.05',\n",
       "  '2. high': '546.75',\n",
       "  '3. low': '539.0',\n",
       "  '4. close': '540.1',\n",
       "  '5. adjusted close': '540.1',\n",
       "  '6. volume': '263883',\n",
       "  '7. dividend amount': '0.0000',\n",
       "  '8. split coefficient': '1.0'}]"
      ]
     },
     "execution_count": 16,
     "metadata": {},
     "output_type": "execute_result"
    }
   ],
   "source": [
    "prices = list(data['Time Series (Daily)'].values())\n",
    "prices[0:2]"
   ]
  },
  {
   "cell_type": "code",
   "execution_count": 17,
   "metadata": {},
   "outputs": [],
   "source": [
    "open = []\n",
    "high = []\n",
    "low = []\n",
    "close = []\n",
    "adj_close = []\n",
    "volume = []\n",
    "for i in prices:\n",
    "    open.append(float(i['1. open']))\n",
    "    high.append(float(i['2. high']))\n",
    "    low.append(float(i['3. low']))\n",
    "    close.append(float(i['4. close']))\n",
    "    adj_close.append(float(i['5. adjusted close']))\n",
    "    volume.append(float(i['6. volume']))"
   ]
  },
  {
   "cell_type": "code",
   "execution_count": 18,
   "metadata": {},
   "outputs": [],
   "source": [
    "# Saving into Dataframe\n",
    "import pandas as pd\n",
    "df_sbin = pd.DataFrame({'open':open,'high':high, 'low':low, 'close':close,'adj_close':adj_close, 'volume':volume})\n",
    "df_sbin.index = dates\n",
    "df_sbin = df_sbin.iloc[::-1]"
   ]
  },
  {
   "cell_type": "code",
   "execution_count": 19,
   "metadata": {},
   "outputs": [
    {
     "data": {
      "text/html": [
       "<div>\n",
       "<style scoped>\n",
       "    .dataframe tbody tr th:only-of-type {\n",
       "        vertical-align: middle;\n",
       "    }\n",
       "\n",
       "    .dataframe tbody tr th {\n",
       "        vertical-align: top;\n",
       "    }\n",
       "\n",
       "    .dataframe thead th {\n",
       "        text-align: right;\n",
       "    }\n",
       "</style>\n",
       "<table border=\"1\" class=\"dataframe\">\n",
       "  <thead>\n",
       "    <tr style=\"text-align: right;\">\n",
       "      <th></th>\n",
       "      <th>open</th>\n",
       "      <th>high</th>\n",
       "      <th>low</th>\n",
       "      <th>close</th>\n",
       "      <th>adj_close</th>\n",
       "      <th>volume</th>\n",
       "    </tr>\n",
       "  </thead>\n",
       "  <tbody>\n",
       "    <tr>\n",
       "      <th>2022-09-27</th>\n",
       "      <td>544.0</td>\n",
       "      <td>550.75</td>\n",
       "      <td>533.20</td>\n",
       "      <td>536.25</td>\n",
       "      <td>536.25</td>\n",
       "      <td>675627.0</td>\n",
       "    </tr>\n",
       "    <tr>\n",
       "      <th>2022-09-28</th>\n",
       "      <td>533.0</td>\n",
       "      <td>539.75</td>\n",
       "      <td>520.70</td>\n",
       "      <td>525.30</td>\n",
       "      <td>525.30</td>\n",
       "      <td>1189112.0</td>\n",
       "    </tr>\n",
       "    <tr>\n",
       "      <th>2022-09-29</th>\n",
       "      <td>528.0</td>\n",
       "      <td>535.55</td>\n",
       "      <td>519.65</td>\n",
       "      <td>521.95</td>\n",
       "      <td>521.95</td>\n",
       "      <td>1020982.0</td>\n",
       "    </tr>\n",
       "    <tr>\n",
       "      <th>2022-09-30</th>\n",
       "      <td>524.0</td>\n",
       "      <td>536.95</td>\n",
       "      <td>516.30</td>\n",
       "      <td>531.05</td>\n",
       "      <td>531.05</td>\n",
       "      <td>906209.0</td>\n",
       "    </tr>\n",
       "    <tr>\n",
       "      <th>2022-10-03</th>\n",
       "      <td>528.7</td>\n",
       "      <td>531.40</td>\n",
       "      <td>518.30</td>\n",
       "      <td>519.65</td>\n",
       "      <td>519.65</td>\n",
       "      <td>444614.0</td>\n",
       "    </tr>\n",
       "  </tbody>\n",
       "</table>\n",
       "</div>"
      ],
      "text/plain": [
       "             open    high     low   close  adj_close     volume\n",
       "2022-09-27  544.0  550.75  533.20  536.25     536.25   675627.0\n",
       "2022-09-28  533.0  539.75  520.70  525.30     525.30  1189112.0\n",
       "2022-09-29  528.0  535.55  519.65  521.95     521.95  1020982.0\n",
       "2022-09-30  524.0  536.95  516.30  531.05     531.05   906209.0\n",
       "2022-10-03  528.7  531.40  518.30  519.65     519.65   444614.0"
      ]
     },
     "execution_count": 19,
     "metadata": {},
     "output_type": "execute_result"
    }
   ],
   "source": [
    "df_sbin.head()"
   ]
  },
  {
   "cell_type": "code",
   "execution_count": 20,
   "metadata": {},
   "outputs": [
    {
     "data": {
      "text/html": [
       "<div>\n",
       "<style scoped>\n",
       "    .dataframe tbody tr th:only-of-type {\n",
       "        vertical-align: middle;\n",
       "    }\n",
       "\n",
       "    .dataframe tbody tr th {\n",
       "        vertical-align: top;\n",
       "    }\n",
       "\n",
       "    .dataframe thead th {\n",
       "        text-align: right;\n",
       "    }\n",
       "</style>\n",
       "<table border=\"1\" class=\"dataframe\">\n",
       "  <thead>\n",
       "    <tr style=\"text-align: right;\">\n",
       "      <th></th>\n",
       "      <th>open</th>\n",
       "      <th>high</th>\n",
       "      <th>low</th>\n",
       "      <th>close</th>\n",
       "      <th>adj_close</th>\n",
       "      <th>volume</th>\n",
       "    </tr>\n",
       "  </thead>\n",
       "  <tbody>\n",
       "    <tr>\n",
       "      <th>2023-02-13</th>\n",
       "      <td>554.70</td>\n",
       "      <td>556.80</td>\n",
       "      <td>533.4</td>\n",
       "      <td>537.30</td>\n",
       "      <td>537.30</td>\n",
       "      <td>577180.0</td>\n",
       "    </tr>\n",
       "    <tr>\n",
       "      <th>2023-02-14</th>\n",
       "      <td>539.70</td>\n",
       "      <td>544.60</td>\n",
       "      <td>530.8</td>\n",
       "      <td>540.65</td>\n",
       "      <td>540.65</td>\n",
       "      <td>330324.0</td>\n",
       "    </tr>\n",
       "    <tr>\n",
       "      <th>2023-02-15</th>\n",
       "      <td>541.45</td>\n",
       "      <td>544.65</td>\n",
       "      <td>537.0</td>\n",
       "      <td>542.20</td>\n",
       "      <td>542.20</td>\n",
       "      <td>294189.0</td>\n",
       "    </tr>\n",
       "    <tr>\n",
       "      <th>2023-02-16</th>\n",
       "      <td>546.05</td>\n",
       "      <td>546.75</td>\n",
       "      <td>539.0</td>\n",
       "      <td>540.10</td>\n",
       "      <td>540.10</td>\n",
       "      <td>263883.0</td>\n",
       "    </tr>\n",
       "    <tr>\n",
       "      <th>2023-02-17</th>\n",
       "      <td>539.15</td>\n",
       "      <td>539.50</td>\n",
       "      <td>527.8</td>\n",
       "      <td>530.90</td>\n",
       "      <td>530.90</td>\n",
       "      <td>771672.0</td>\n",
       "    </tr>\n",
       "  </tbody>\n",
       "</table>\n",
       "</div>"
      ],
      "text/plain": [
       "              open    high    low   close  adj_close    volume\n",
       "2023-02-13  554.70  556.80  533.4  537.30     537.30  577180.0\n",
       "2023-02-14  539.70  544.60  530.8  540.65     540.65  330324.0\n",
       "2023-02-15  541.45  544.65  537.0  542.20     542.20  294189.0\n",
       "2023-02-16  546.05  546.75  539.0  540.10     540.10  263883.0\n",
       "2023-02-17  539.15  539.50  527.8  530.90     530.90  771672.0"
      ]
     },
     "execution_count": 20,
     "metadata": {},
     "output_type": "execute_result"
    }
   ],
   "source": [
    "df_sbin.tail()"
   ]
  },
  {
   "cell_type": "code",
   "execution_count": 21,
   "metadata": {},
   "outputs": [
    {
     "data": {
      "text/plain": [
       "(100, 6)"
      ]
     },
     "execution_count": 21,
     "metadata": {},
     "output_type": "execute_result"
    }
   ],
   "source": [
    "df_sbin.shape"
   ]
  },
  {
   "cell_type": "code",
   "execution_count": 22,
   "metadata": {},
   "outputs": [],
   "source": [
    "## Saving Data to csv file\n",
    "df_sbin.to_csv('SBIN.csv',index=True)"
   ]
  },
  {
   "attachments": {},
   "cell_type": "markdown",
   "metadata": {},
   "source": [
    "[Link to SBIN.csv](SBIN.csv)"
   ]
  },
  {
   "cell_type": "code",
   "execution_count": 23,
   "metadata": {},
   "outputs": [
    {
     "data": {
      "text/plain": [
       "<AxesSubplot: title={'center': 'SBIN (BSE) Close price'}>"
      ]
     },
     "execution_count": 23,
     "metadata": {},
     "output_type": "execute_result"
    },
    {
     "data": {
      "image/png": "[encoded data removed]",
      "text/plain": [
       "<Figure size 1600x500 with 1 Axes>"
      ]
     },
     "metadata": {},
     "output_type": "display_data"
    }
   ],
   "source": [
    "# Plotting close value of SBI from BSE\n",
    "df_sbin['close'].plot(kind='line',figsize=(16,5),title='SBIN (BSE) Close price')"
   ]
  },
  {
   "attachments": {},
   "cell_type": "markdown",
   "metadata": {},
   "source": [
    "### Ticker Finder in AlphaVantage "
   ]
  },
  {
   "cell_type": "code",
   "execution_count": 24,
   "metadata": {},
   "outputs": [
    {
     "name": "stdout",
     "output_type": "stream",
     "text": [
      "{'bestMatches': [{'1. symbol': 'RELIANCE.BSE', '2. name': 'RELIANCE INDUSTRIES LTD.', '3. type': 'Equity', '4. region': 'India/Bombay', '5. marketOpen': '09:15', '6. marketClose': '15:30', '7. timezone': 'UTC+5.5', '8. currency': 'INR', '9. matchScore': '0.8421'}, {'1. symbol': 'RELI', '2. name': 'Reliance Global Group Inc', '3. type': 'Equity', '4. region': 'United States', '5. marketOpen': '09:30', '6. marketClose': '16:00', '7. timezone': 'UTC-04', '8. currency': 'USD', '9. matchScore': '0.6667'}, {'1. symbol': 'RELIW', '2. name': 'Reliance Global Group Inc - Warrants - Series A (01/02/2026)', '3. type': 'Equity', '4. region': 'United States', '5. marketOpen': '09:30', '6. marketClose': '16:00', '7. timezone': 'UTC-04', '8. currency': 'USD', '9. matchScore': '0.6154'}, {'1. symbol': 'RELCAPITAL.BSE', '2. name': 'RELIANCE CAPITAL LTD.', '3. type': 'Equity', '4. region': 'India/Bombay', '5. marketOpen': '09:15', '6. marketClose': '15:30', '7. timezone': 'UTC+5.5', '8. currency': 'INR', '9. matchScore': '0.5517'}, {'1. symbol': 'RELCHEMQ.BSE', '2. name': 'RELIANCE CHEMOTEX INDUSTRIES LTD.-$', '3. type': 'Equity', '4. region': 'India/Bombay', '5. marketOpen': '09:15', '6. marketClose': '15:30', '7. timezone': 'UTC+5.5', '8. currency': 'INR', '9. matchScore': '0.5263'}, {'1. symbol': 'RLBS', '2. name': 'Reliance Bancshares Inc', '3. type': 'Equity', '4. region': 'United States', '5. marketOpen': '09:30', '6. marketClose': '16:00', '7. timezone': 'UTC-04', '8. currency': 'USD', '9. matchScore': '0.5161'}, {'1. symbol': '500111.BSE', '2. name': 'Reliance Capital Limited', '3. type': 'Equity', '4. region': 'India/Bombay', '5. marketOpen': '09:15', '6. marketClose': '15:30', '7. timezone': 'UTC+5.5', '8. currency': 'INR', '9. matchScore': '0.5000'}, {'1. symbol': 'RCOM.BSE', '2. name': 'RELIANCE COMMUNICATIONS LTD.', '3. type': 'Equity', '4. region': 'India/Bombay', '5. marketOpen': '09:15', '6. marketClose': '15:30', '7. timezone': 'UTC+5.5', '8. currency': 'INR', '9. matchScore': '0.4444'}, {'1. symbol': '532712.BSE', '2. name': 'Reliance Communications Limited', '3. type': 'Equity', '4. region': 'India/Bombay', '5. marketOpen': '09:15', '6. marketClose': '15:30', '7. timezone': 'UTC+5.5', '8. currency': 'INR', '9. matchScore': '0.4103'}, {'1. symbol': '503162.BSE', '2. name': 'Reliance Chemotex Industries Limited', '3. type': 'Equity', '4. region': 'India/Bombay', '5. marketOpen': '09:15', '6. marketClose': '15:30', '7. timezone': 'UTC+5.5', '8. currency': 'INR', '9. matchScore': '0.3636'}]}\n"
     ]
    }
   ],
   "source": [
    "# This is used to find ticker symbol for reliance in alpha vantege\n",
    "import requests\n",
    "\n",
    "search_query = \"reliance\"\n",
    "\n",
    "url = 'https://www.alphavantage.co/query?function=SYMBOL_SEARCH&keywords='+search_query+'&apikey=HZ8QGOLXW2U01N2E'\n",
    "r = requests.get(url)\n",
    "data = r.json()\n",
    "\n",
    "print(data)"
   ]
  },
  {
   "attachments": {},
   "cell_type": "markdown",
   "metadata": {},
   "source": [
    "## Question 2: Give advantages and disadvantages of using API.\n",
    "---"
   ]
  },
  {
   "attachments": {},
   "cell_type": "markdown",
   "metadata": {},
   "source": [
    "## Answer :\n",
    "\n",
    "### Advantages of using API:\n",
    "\n",
    "1. Interoperability: APIs enable different software systems to interact with each other seamlessly, regardless of their underlying technologies or programming languages. This allows for greater interoperability between systems and can lead to more efficient and effective software development.\n",
    "\n",
    "2. Flexibility: APIs allow developers to create applications that are flexible and customizable. Developers can choose the specific functionality they need from an API and incorporate it into their applications, rather than building that functionality from scratch.\n",
    "\n",
    "3. Time and cost savings: APIs can save time and money for developers and organizations by providing ready-made solutions that can be easily integrated into existing systems. This can reduce the amount of time and resources needed to build new software applications.\n",
    "\n",
    "4. Innovation: APIs can spur innovation by allowing developers to create new applications that integrate with existing systems. This can lead to the development of new products and services that might not have been possible without APIs.\n",
    "\n",
    "\n",
    "### Disadvantages of using API:\n",
    "\n",
    "1. Complexity: APIs can be complex to use and require technical expertise to implement and maintain. This can make it challenging for non-technical users to integrate with them.\n",
    "\n",
    "2. Security Risks: APIs can introduce security risks, such as data breaches or unauthorized access to sensitive data, if not implemented properly or if security protocols are not followed.\n",
    "\n",
    "3. Dependency: When an application relies heavily on a third-party API, it can create a dependency on that API. Any changes or disruptions to the API can have a significant impact on the application, leading to downtime or other issues.\n",
    "\n",
    "4. Limited functionality: APIs may not always provide all the functionality needed for a particular application. In such cases, developers may need to build custom solutions, which can be time-consuming and costly.\n",
    "\n",
    "Overall, APIs offer significant advantages for software development and integration, but it's important to consider the potential drawbacks and risks associated with their use. Developers should carefully evaluate the pros and cons of using APIs and choose the best approach for their particular needs."
   ]
  },
  {
   "attachments": {},
   "cell_type": "markdown",
   "metadata": {},
   "source": [
    "## Question 3: What is a Web API? Differentiate between API and Web API.\n",
    "---"
   ]
  },
  {
   "attachments": {},
   "cell_type": "markdown",
   "metadata": {},
   "source": [
    "## Answer :\n",
    "\n",
    "### A Web API, also known as a web service, is a type of API that is accessed over the web using HTTP requests and responses. Web APIs allow applications to exchange data with web servers and access resources such as databases, file systems, or other services.\n",
    "\n",
    "### The main difference between an API and a Web API is that APIs can be accessed through different channels, including desktop applications, mobile apps, and embedded systems, whereas Web APIs are specifically designed to be accessed over the web using HTTP.\n",
    "\n",
    "### Another difference is that Web APIs often use standard web technologies such as REST (Representational State Transfer) or SOAP (Simple Object Access Protocol) to exchange data between systems, while APIs may use a variety of communication protocols and data formats depending on their design.\n",
    "\n",
    "### Differences between API and Web API are as per below:\n",
    "|Features        | API                           | Web API                      |\n",
    "|:------:|:------------------------------|:----------------------------|\n",
    "| Access | Can be accessed through various channels, including desktop applications, mobile apps, and embedded systems | Specifically designed to be accessed over the web using HTTP |\n",
    "| Protocol | May use different communication protocols and data formats depending on their design | Typically use standard web technologies such as REST or SOAP |\n",
    "| Resource | Can provide access to various types of services and resources, such as operating system functions, hardware devices, or databases | Provide access to web-based services and resources such as databases, file systems, or other web services |\n",
    "| Integration | Can be integrated with a wide range of software systems and applications | Often integrated with web-based software systems and applications |\n",
    "| Security | Security protocols can vary depending on the design and implementation of the API | Typically use standard web security protocols such as OAuth or SSL/TLS |\n",
    "| Examples | Operating system APIs, hardware APIs, database APIs, etc. | AlphaVantage API, Google Maps API, Twitter API, Facebook API, etc. |\n"
   ]
  },
  {
   "attachments": {},
   "cell_type": "markdown",
   "metadata": {},
   "source": [
    "## Question 4: Explain REST and SOAP Architecture. Mention shortcomings of SOAP.\n",
    "---"
   ]
  },
  {
   "attachments": {},
   "cell_type": "markdown",
   "metadata": {},
   "source": [
    "## Answer :\n",
    "\n",
    "### REST and SOAP are two different architectural styles for designing web services.\n",
    "\n",
    "1. REST (Representational State Transfer) is an architectural style that emphasizes the use of HTTP methods and resource URIs (Uniform Resource Identifiers) to represent and manipulate web resources. RESTful APIs typically use standard HTTP methods such as GET, POST, PUT, and DELETE to retrieve, create, update, and delete resources. REST is lightweight and scalable, and can be easily implemented using simple HTTP protocols.\n",
    "\n",
    "2. SOAP (Simple Object Access Protocol), on the other hand, is a protocol that defines a standard format for exchanging structured data between applications over the internet. SOAP relies on XML (Extensible Markup Language) as its messaging format, and typically uses the HTTP or SMTP (Simple Mail Transfer Protocol) protocols for communication. SOAP is highly structured and can be used for complex operations, but can also be more cumbersome to implement and use than RESTful APIs.\n",
    "\n",
    "### Shortcomings of SOAP\n",
    "\n",
    "1. One of the main shortcomings of SOAP is its complexity. SOAP relies on a complex XML schema that can be difficult to read and understand, and the protocol itself can be cumbersome to implement and use. SOAP also tends to be more resource-intensive than RESTful APIs, which can make it less suitable for high-volume or low-bandwidth environments.\n",
    "\n",
    "2. Additionally, SOAP can be less flexible than REST, as it requires a strict adherence to a predefined interface and message format. This can make it difficult to customize or extend SOAP-based APIs to suit specific use cases or applications."
   ]
  },
  {
   "attachments": {},
   "cell_type": "markdown",
   "metadata": {},
   "source": [
    "![REST vs SOAP Analogy](SOAP-vs-REST.jpg)"
   ]
  },
  {
   "attachments": {},
   "cell_type": "markdown",
   "metadata": {},
   "source": [
    "Credits for above image : [Upwork](https://www.upwork.com/resources/soap-vs-rest-a-look-at-two-different-api-styles)"
   ]
  },
  {
   "attachments": {},
   "cell_type": "markdown",
   "metadata": {},
   "source": [
    "## Question 5: Differentiate between REST and SOAP.\n",
    "---"
   ]
  },
  {
   "attachments": {},
   "cell_type": "markdown",
   "metadata": {},
   "source": [
    "## Answer :\n",
    "\n",
    "### Difference between REST and SOAP As below:\n",
    "\n",
    "|Feature         | REST                                         | SOAP                                         |\n",
    "|:-------:|:---------------------------------------------|:---------------------------------------------|\n",
    "| Protocol | Uses HTTP                                    | Can use HTTP, SMTP, and others                |\n",
    "| Data format | Typically uses JSON or XML              | Always uses XML                              |\n",
    "| Communication style | Stateless, each request contains all information needed | Can be stateful or stateless |\n",
    "| Message structure | Doesn't define a specific message structure | Has a standardized message structure defined by XML schema |\n",
    "| Performance | Generally faster and more lightweight       | Can be more resource-intensive and slower     |\n",
    "| Flexibility | Generally more flexible                     | Often more rigid and requires more planning and design |\n",
    "\n",
    "### Overall, the choice between REST and SOAP depends on the specific needs of the application or service being developed. REST is often preferred for smaller, high-performance applications with a smaller data footprint, while SOAP may be more appropriate for larger, enterprise-level applications that require more robust messaging capabilities.\n"
   ]
  }
 ],
 "metadata": {
  "kernelspec": {
   "display_name": "venv",
   "language": "python",
   "name": "python3"
  },
  "language_info": {
   "codemirror_mode": {
    "name": "ipython",
    "version": 3
   },
   "file_extension": ".py",
   "mimetype": "text/x-python",
   "name": "python",
   "nbconvert_exporter": "python",
   "pygments_lexer": "ipython3",
   "version": "3.10.7"
  },
  "orig_nbformat": 4,
  "vscode": {
   "interpreter": {
    "hash": "27149e82490bdaa27222c4e29544e396278d224a9f42010d392c3451ce079b12"
   }
  }
 },
 "nbformat": 4,
 "nbformat_minor": 2
}
