{
 "cells": [
  {
   "attachments": {},
   "cell_type": "markdown",
   "metadata": {},
   "source": [
    "\n",
    "\n",
    "\n",
    "\n"
   ]
  },
  {
   "cell_type": "code",
   "execution_count": null,
   "metadata": {},
   "outputs": [],
   "source": []
  },
  {
   "attachments": {},
   "cell_type": "markdown",
   "metadata": {},
   "source": [
    "Q1. What are the characteristics of the tuples? Is tuple immutable?\n",
    "\n",
    "-> Tuple items are ordered, unchangeable, indexed(0),and allow duplicate values.\n",
    "    Yes, Tuple is  immutable\n"
   ]
  },
  {
   "attachments": {},
   "cell_type": "markdown",
   "metadata": {},
   "source": [
    "Q2. What are the two tuple methods in python? Give an example of each method. Give a reason why tuples have only two in-built methods as compared to Lists?\n",
    "\n",
    "-> count() ,  index()\n",
    "As a tuple is an immutable, elements in  tuple cnannot be changed once declared hence, there are limited method as tuples cannot me modefied."
   ]
  },
  {
   "attachments": {},
   "cell_type": "markdown",
   "metadata": {},
   "source": [
    "Q3.  Which collection datatypes in python do not allow duplicate items? Write a code using a set to remove \n",
    "duplicates from the given list.\n",
    "\n",
    "-> Set\n"
   ]
  },
  {
   "cell_type": "code",
   "execution_count": 11,
   "metadata": {},
   "outputs": [],
   "source": [
    "List = [1, 1, 1, 2, 1, 3, 1, 4, 2, 1, 2, 2, 2, 3, 2, 4, 3, 1, 3, 2, 3, 3, 3, 4, 4, 1, 4, 2, 4, 3, 4, 4]"
   ]
  },
  {
   "cell_type": "code",
   "execution_count": 12,
   "metadata": {},
   "outputs": [],
   "source": [
    "def Dup(a):\n",
    "    unique=[]\n",
    "    for i in a:\n",
    "     if i not in unique:\n",
    "        unique.append(i)\n",
    "    return  unique   "
   ]
  },
  {
   "cell_type": "code",
   "execution_count": 14,
   "metadata": {},
   "outputs": [
    {
     "data": {
      "text/plain": [
       "[1, 2, 3, 4]"
      ]
     },
     "execution_count": 14,
     "metadata": {},
     "output_type": "execute_result"
    }
   ],
   "source": [
    "Dup(List)"
   ]
  },
  {
   "attachments": {},
   "cell_type": "markdown",
   "metadata": {},
   "source": [
    "Q4. Explain the difference between the union() and update() methods for a set. Give an example of \n",
    "each method.\n",
    "\n",
    "->set.update() adds all elements in an iterable such as a set, whereas set.add() only adds a single element."
   ]
  },
  {
   "cell_type": "code",
   "execution_count": 21,
   "metadata": {},
   "outputs": [
    {
     "data": {
      "text/plain": [
       "{1, 2, 3, 4, 5}"
      ]
     },
     "execution_count": 21,
     "metadata": {},
     "output_type": "execute_result"
    }
   ],
   "source": [
    "a = {1, 2, 3, 4}\n",
    "a.update({4, 5})\n",
    "a"
   ]
  },
  {
   "cell_type": "code",
   "execution_count": 26,
   "metadata": {},
   "outputs": [
    {
     "data": {
      "text/plain": [
       "{1, 2, 4}"
      ]
     },
     "execution_count": 26,
     "metadata": {},
     "output_type": "execute_result"
    }
   ],
   "source": [
    "#example for add\n",
    "b = {1, 2,}\n",
    "b.add(4)\n",
    "b\n"
   ]
  },
  {
   "cell_type": "code",
   "execution_count": 25,
   "metadata": {},
   "outputs": [
    {
     "ename": "TypeError",
     "evalue": "unhashable type: 'set'",
     "output_type": "error",
     "traceback": [
      "\u001b[1;31m---------------------------------------------------------------------------\u001b[0m",
      "\u001b[1;31mTypeError\u001b[0m                                 Traceback (most recent call last)",
      "\u001b[1;32md:\\PW skills Data Scince\\Assignment\\Incomplete\\04 feb assignment copy 2.ipynb Cell 12\u001b[0m in \u001b[0;36m<cell line: 2>\u001b[1;34m()\u001b[0m\n\u001b[0;32m      <a href='vscode-notebook-cell:/d%3A/PW%20skills%20Data%20Scince/Assignment/Incomplete/04%20feb%20assignment%20copy%202.ipynb#X21sZmlsZQ%3D%3D?line=0'>1</a>\u001b[0m b \u001b[39m=\u001b[39m {\u001b[39m1\u001b[39m, \u001b[39m2\u001b[39m,}\n\u001b[1;32m----> <a href='vscode-notebook-cell:/d%3A/PW%20skills%20Data%20Scince/Assignment/Incomplete/04%20feb%20assignment%20copy%202.ipynb#X21sZmlsZQ%3D%3D?line=1'>2</a>\u001b[0m b\u001b[39m.\u001b[39;49madd({\u001b[39m4\u001b[39;49m,\u001b[39m5\u001b[39;49m})\n\u001b[0;32m      <a href='vscode-notebook-cell:/d%3A/PW%20skills%20Data%20Scince/Assignment/Incomplete/04%20feb%20assignment%20copy%202.ipynb#X21sZmlsZQ%3D%3D?line=2'>3</a>\u001b[0m b\n",
      "\u001b[1;31mTypeError\u001b[0m: unhashable type: 'set'"
     ]
    }
   ],
   "source": [
    "b = {1, 2,}\n",
    "b.add({4,5})\n",
    "b\n"
   ]
  },
  {
   "attachments": {},
   "cell_type": "markdown",
   "metadata": {},
   "source": [
    "Q5. What is a dictionary? Give an example. Also, state whether a dictionary is ordered or unordered.\n",
    "\n",
    "-> Directory in python is a collection data type in python , which  can  store data in key: value pair.\n",
    " Dictionary is ordered."
   ]
  },
  {
   "cell_type": "code",
   "execution_count": 27,
   "metadata": {},
   "outputs": [
    {
     "data": {
      "text/plain": [
       "{'key1': 'value1', 'key2': 'value2', 'key3': 'value3'}"
      ]
     },
     "execution_count": 27,
     "metadata": {},
     "output_type": "execute_result"
    }
   ],
   "source": [
    "#example\n",
    "dict1={\"key1\":\"value1\",\n",
    "       \"key2\":\"value2\",\n",
    "       \"key3\":\"value3\"}\n",
    "\n",
    "dict1"
   ]
  },
  {
   "attachments": {},
   "cell_type": "markdown",
   "metadata": {},
   "source": [
    "Q6. Can we create a nested dictionary? If so, please give an example by creating a simple one-level \n",
    "nested dictionary.\n",
    "\n",
    "-> yes"
   ]
  },
  {
   "cell_type": "code",
   "execution_count": 1,
   "metadata": {},
   "outputs": [],
   "source": [
    "Dict2={\n",
    "    \"k1\":\"v1\",\n",
    "    \"k2\":\"v2\",\n",
    "    \"k3\":\"v3\",\n",
    "    \"k4\":{\"k1\":\"v1\",\n",
    "    \"k2\":\"v2\",\n",
    "    \"k3\":\"v3\",}\n",
    "\n",
    "}"
   ]
  },
  {
   "attachments": {},
   "cell_type": "markdown",
   "metadata": {},
   "source": [
    "Q7. Using setdefault() method, create key named topics in the given dictionary and also add the value of \n",
    "the key as this list ['Python', 'Machine Learning’, 'Deep Learning']\n",
    "\n",
    "\n",
    "dict1 = {'language' : 'Python', 'course': 'Data Science Masters'}"
   ]
  },
  {
   "cell_type": "code",
   "execution_count": 3,
   "metadata": {},
   "outputs": [
    {
     "data": {
      "text/plain": [
       "{'language': 'Python', 'course': 'Data Science Masters'}"
      ]
     },
     "execution_count": 3,
     "metadata": {},
     "output_type": "execute_result"
    }
   ],
   "source": [
    "Dict3 = {'language' : 'Python', 'course': 'Data Science Masters'}\n",
    "Dict3"
   ]
  },
  {
   "cell_type": "code",
   "execution_count": 4,
   "metadata": {},
   "outputs": [
    {
     "data": {
      "text/plain": [
       "{'language': 'Python',\n",
       " 'course': 'Data Science Masters',\n",
       " 'topics': ['Python', 'Machine Learning', 'Deep Learning']}"
      ]
     },
     "execution_count": 4,
     "metadata": {},
     "output_type": "execute_result"
    }
   ],
   "source": [
    "Dict3.setdefault('topics', ['Python', 'Machine Learning', 'Deep Learning'])\n",
    "Dict3"
   ]
  },
  {
   "attachments": {},
   "cell_type": "markdown",
   "metadata": {},
   "source": [
    "Q8. What are the three view objects in dictionaries? Use the three in-built methods in python to display \n",
    "these three view objects for the given dictionary.\n",
    "\n",
    "\n",
    "dict1 = {'Sport': 'Cricket' , 'Teams': ['India', 'Australia', 'England', 'South Africa', 'Sri Lanka', 'New Zealand']}\n",
    "\n",
    "-->1.get()\n",
    "    2.reverse()\n",
    "      3.keys()"
   ]
  },
  {
   "cell_type": "code",
   "execution_count": 26,
   "metadata": {},
   "outputs": [
    {
     "name": "stdout",
     "output_type": "stream",
     "text": [
      "1. get() Example:\n",
      "['India', 'Australia', 'England', 'South Africa', 'Sri Lanka', 'New Zealand']\n",
      "\n",
      "2.reverse() Example:\n",
      "<dict_reversekeyiterator object at 0x000001E297B3C7C0>\n",
      "Teams\n",
      "Sport\n",
      "\n",
      "\n",
      "Sport\n",
      "Teams\n",
      "\n",
      "3.keys() Example:\n"
     ]
    },
    {
     "data": {
      "text/plain": [
       "dict_keys(['Sport', 'Teams'])"
      ]
     },
     "execution_count": 26,
     "metadata": {},
     "output_type": "execute_result"
    }
   ],
   "source": [
    "#Examples\n",
    "\n",
    "dict1 = {'Sport': 'Cricket' , 'Teams': ['India', 'Australia', 'England', 'South Africa', 'Sri Lanka', 'New Zealand']}\n",
    "#1.get()\n",
    "print(\"1. get() Example:\")\n",
    "\n",
    "print(dict1.get('Teams'))\n",
    "\n",
    "#2.reverse()\n",
    "print(\"\\n2.reverse() Example:\")\n",
    "\n",
    "print(reversed(dict1))\n",
    "\n",
    "for i in reversed(dict1):\n",
    "    print(i)\n",
    "print(\"\\n\")\n",
    "for i in (dict1):##without reversed\n",
    "    print(i)\n",
    "\n",
    "#3.keys()\n",
    "print(\"\\n3.keys() Example:\")\n",
    "\n",
    "dict1.keys()"
   ]
  },
  {
   "cell_type": "code",
   "execution_count": null,
   "metadata": {},
   "outputs": [],
   "source": []
  }
 ],
 "metadata": {
  "kernelspec": {
   "display_name": "Python 3",
   "language": "python",
   "name": "python3"
  },
  "language_info": {
   "codemirror_mode": {
    "name": "ipython",
    "version": 3
   },
   "file_extension": ".py",
   "mimetype": "text/x-python",
   "name": "python",
   "nbconvert_exporter": "python",
   "pygments_lexer": "ipython3",
   "version": "3.10.11"
  },
  "orig_nbformat": 4
 },
 "nbformat": 4,
 "nbformat_minor": 2
}
