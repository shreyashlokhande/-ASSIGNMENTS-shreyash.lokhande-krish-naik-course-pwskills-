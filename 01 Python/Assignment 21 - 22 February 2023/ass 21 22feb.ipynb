{
 "cells": [
  {
   "attachments": {},
   "cell_type": "markdown",
   "metadata": {},
   "source": [
    "## Assignment 21 # (22 feb)\n",
    "##### Shreyash Lokahdne"
   ]
  },
  {
   "attachments": {},
   "cell_type": "markdown",
   "metadata": {},
   "source": [
    "## Question 1 : Write a python program to extract the video URL of the first five videos.\n",
    "---"
   ]
  },
  {
   "attachments": {},
   "cell_type": "markdown",
   "metadata": {},
   "source": [
    "## Answer:\n",
    "\n",
    "### Youtube is a dynamic website which is created with JavaScript . \n",
    "\n",
    "### Beautiful Soup will fail in scraping of given url.\n",
    "\n",
    "### Using Selenium to extract the data"
   ]
  },
  {
   "attachments": {},
   "cell_type": "markdown",
   "metadata": {},
   "source": [
    "### Step 1: Import Selenium and dependencies in Headless mode"
   ]
  },
  {
   "cell_type": "code",
   "execution_count": 2,
   "metadata": {},
   "outputs": [],
   "source": [
    "from selenium import webdriver\n",
    "from selenium.webdriver.common.by import By\n",
    "from selenium.webdriver.chrome.service import Service\n",
    "\n",
    "# Importing Selenium webdriver in headless mode\n",
    "user_agent = \"Mozilla/5.0 (Windows NT 10.0; Win64; x64) AppleWebKit/537.36 (KHTML, like Gecko) Chrome/85.0.4183.83 Safari/537.36\"\n",
    "\n",
    "options = webdriver.ChromeOptions()\n",
    "options.add_argument('--headless')\n",
    "options.add_argument(f'user-agent={user_agent}')\n",
    "options.add_argument(\"--window-size=1920,1080\")\n",
    "options.add_argument('--ignore-certificate-errors')\n",
    "options.add_argument('--allow-running-insecure-content')\n",
    "options.add_argument(\"--disable-extensions\")\n",
    "options.add_argument(\"--proxy-server='direct://'\")\n",
    "options.add_argument(\"--proxy-bypass-list=*\")\n",
    "options.add_argument(\"--start-maximized\")\n",
    "options.add_argument('--disable-gpu')\n",
    "options.add_argument('--disable-dev-shm-usage')\n",
    "options.add_argument('--no-sandbox')\n",
    "s = Service(executable_path='./Assignment 21 - 22 February 2023/chromedriver.exe')\n",
    "driver = webdriver.Chrome(service=s, options=options)"
   ]
  },
  {
   "attachments": {},
   "cell_type": "markdown",
   "metadata": {},
   "source": [
    "### Step 2: Defining a function to get top5 urls from the channel "
   ]
  },
  {
   "cell_type": "code",
   "execution_count": 3,
   "metadata": {},
   "outputs": [],
   "source": [
    "def get_top5_urls(url):\n",
    "    driver.get(url)\n",
    "    driver.execute_script(\"window.scrollTo(0, 200)\")\n",
    "    url_elems = driver.find_elements(By.XPATH,\"//a[@id='video-title-link']\")    \n",
    "    url_elms5 = url_elems[0:5]\n",
    "    top5url = []\n",
    "    for i in url_elms5:\n",
    "        top5url.append(i.get_attribute('href'))   \n",
    "    return top5url   "
   ]
  },
  {
   "attachments": {},
   "cell_type": "markdown",
   "metadata": {},
   "source": [
    "### Step 3: Executing the function to get top5 URL's"
   ]
  },
  {
   "cell_type": "code",
   "execution_count": 4,
   "metadata": {},
   "outputs": [
    {
     "data": {
      "text/plain": [
       "['https://www.youtube.com/watch?v=nX5ONgCdLcc',\n",
       " 'https://www.youtube.com/watch?v=AM2Dt7cNebw',\n",
       " 'https://www.youtube.com/watch?v=7nMJVhey9TM',\n",
       " 'https://www.youtube.com/watch?v=FSVVlcFUCMk',\n",
       " 'https://www.youtube.com/watch?v=vKxdTuOirnI']"
      ]
     },
     "execution_count": 4,
     "metadata": {},
     "output_type": "execute_result"
    }
   ],
   "source": [
    "url = \"https://www.youtube.com/@PW-Foundation/videos\"\n",
    "top5url = get_top5_urls(url)\n",
    "top5url"
   ]
  },
  {
   "attachments": {},
   "cell_type": "markdown",
   "metadata": {},
   "source": [
    "## Question 2: Write a python program to extract the URL of the video thumbnails of the first five videos.\n",
    "---"
   ]
  },
  {
   "attachments": {},
   "cell_type": "markdown",
   "metadata": {},
   "source": [
    "## Answer:"
   ]
  },
  {
   "cell_type": "code",
   "execution_count": 76,
   "metadata": {},
   "outputs": [],
   "source": [
    "import time\n",
    "def thumbnail_urls(url):\n",
    "    driver.get(url)\n",
    "    time.sleep(2)    \n",
    "    images = driver.find_elements(By.TAG_NAME,'img')\n",
    "    img_links = []\n",
    "    for i in images:    \n",
    "        link = i.get_attribute('src')\n",
    "        if str(link).find('i.ytimg.com')>0:\n",
    "            img_links.append(link)    \n",
    "    return img_links[0:5]"
   ]
  },
  {
   "cell_type": "code",
   "execution_count": 79,
   "metadata": {},
   "outputs": [
    {
     "data": {
      "text/plain": [
       "['https://i.ytimg.com/vi/nX5ONgCdLcc/hqdefault.jpg?sqp=-oaymwEcCNACELwBSFXyq4qpAw4IARUAAIhCGAFwAcABBg==&rs=AOn4CLBaa_KLfKyYbUYRsb5xf0YCp1YrlQ',\n",
       " 'https://i.ytimg.com/vi/AM2Dt7cNebw/hqdefault.jpg?sqp=-oaymwEcCNACELwBSFXyq4qpAw4IARUAAIhCGAFwAcABBg==&rs=AOn4CLBJHWHabeJ94dcUDlDDNfvQxnUfJg',\n",
       " 'https://i.ytimg.com/vi/7nMJVhey9TM/hqdefault.jpg?sqp=-oaymwEcCNACELwBSFXyq4qpAw4IARUAAIhCGAFwAcABBg==&rs=AOn4CLDHikOj7gH4eQNudv7c1qNbwcMWyA',\n",
       " 'https://i.ytimg.com/vi/FSVVlcFUCMk/hqdefault.jpg?sqp=-oaymwEcCNACELwBSFXyq4qpAw4IARUAAIhCGAFwAcABBg==&rs=AOn4CLAadJS9mLtZptLHtKHEefPgqk3NCg',\n",
       " 'https://i.ytimg.com/vi/vKxdTuOirnI/hqdefault.jpg?sqp=-oaymwEcCNACELwBSFXyq4qpAw4IARUAAIhCGAFwAcABBg==&rs=AOn4CLBonfyIr0oe5WzFo2o2hoU5Yxbv8w']"
      ]
     },
     "execution_count": 79,
     "metadata": {},
     "output_type": "execute_result"
    }
   ],
   "source": [
    "top5thumbnails = thumbnail_urls(url)\n",
    "top5thumbnails"
   ]
  },
  {
   "attachments": {},
   "cell_type": "markdown",
   "metadata": {},
   "source": [
    "## Question 3: Write a python program to extract the title of the first five videos.\n",
    "---"
   ]
  },
  {
   "attachments": {},
   "cell_type": "markdown",
   "metadata": {},
   "source": [
    "## Answer :"
   ]
  },
  {
   "cell_type": "code",
   "execution_count": 5,
   "metadata": {},
   "outputs": [],
   "source": [
    "def title_finder(url):\n",
    "    driver.get(url)\n",
    "    url_elems = driver.find_elements(By.XPATH,\"//a[@id='video-title-link']\")\n",
    "    url_elems5 = url_elems[0:5] \n",
    "    title_text = []\n",
    "    for i in url_elems5:\n",
    "        title_text.append(i.get_attribute('title'))\n",
    "    return(title_text)"
   ]
  },
  {
   "cell_type": "code",
   "execution_count": 7,
   "metadata": {},
   "outputs": [
    {
     "data": {
      "text/plain": [
       "['How to Attempt English Board Exam ????',\n",
       " 'Best technique to attempt SST paper in Board exam || Class 10th',\n",
       " 'Last Minute Strategy To Score More Than 98% || ICSE Boards || Class-10th',\n",
       " 'Why You Should Choose Commerce After 10th? || Complete Information💯',\n",
       " \"Follow This Plan To Score More Than 95% in Boards || Topper's Strategy\"]"
      ]
     },
     "execution_count": 7,
     "metadata": {},
     "output_type": "execute_result"
    }
   ],
   "source": [
    "top5titles = title_finder(url)\n",
    "top5titles"
   ]
  },
  {
   "attachments": {},
   "cell_type": "markdown",
   "metadata": {},
   "source": [
    "## Question 4: Write a python program to extract the number of views of the first five videos.\n",
    "---"
   ]
  },
  {
   "attachments": {},
   "cell_type": "markdown",
   "metadata": {},
   "source": [
    "## Answer:"
   ]
  },
  {
   "cell_type": "code",
   "execution_count": 18,
   "metadata": {},
   "outputs": [],
   "source": [
    "def views_finder(url):\n",
    "    driver.get(url)\n",
    "    views_elements = driver.find_elements(By.XPATH,\"//span[@class='inline-metadata-item style-scope ytd-video-meta-block']\")\n",
    "    view_count = []\n",
    "    for i in views_elements:  \n",
    "        meta_string = i.text      \n",
    "        if meta_string.find('views')>0:      \n",
    "            view_count.append(meta_string)\n",
    "    return view_count[0:5] "
   ]
  },
  {
   "cell_type": "code",
   "execution_count": 20,
   "metadata": {},
   "outputs": [
    {
     "data": {
      "text/plain": [
       "['96K views', '53K views', '21K views', '28K views', '310K views']"
      ]
     },
     "execution_count": 20,
     "metadata": {},
     "output_type": "execute_result"
    }
   ],
   "source": [
    "top5views = views_finder(url)\n",
    "top5views"
   ]
  },
  {
   "attachments": {},
   "cell_type": "markdown",
   "metadata": {},
   "source": [
    "## Question 5: Write a python program to extract the time of posting of video for the first five videos.\n",
    "---"
   ]
  },
  {
   "cell_type": "code",
   "execution_count": 71,
   "metadata": {},
   "outputs": [],
   "source": [
    "import time\n",
    "def get_video_upload_time(url):\n",
    "    driver.get(url)\n",
    "    time.sleep(2)\n",
    "    views_elements = driver.find_elements(By.XPATH,\"//span[@class='inline-metadata-item style-scope ytd-video-meta-block']\")\n",
    "    time_relative = []\n",
    "    for i in views_elements:  \n",
    "        meta_string = i.text             \n",
    "        if meta_string.find('ago')>0:      \n",
    "            time_relative.append(meta_string)\n",
    "        \n",
    "    return time_relative[0:5]"
   ]
  },
  {
   "cell_type": "code",
   "execution_count": 72,
   "metadata": {},
   "outputs": [
    {
     "data": {
      "text/plain": [
       "['22 hours ago', '1 day ago', '2 days ago', '3 days ago', '8 days ago']"
      ]
     },
     "execution_count": 72,
     "metadata": {},
     "output_type": "execute_result"
    }
   ],
   "source": [
    "rel_time = get_video_upload_time(url)\n",
    "rel_time"
   ]
  },
  {
   "cell_type": "code",
   "execution_count": 69,
   "metadata": {},
   "outputs": [],
   "source": [
    "## Creating function to get date from relative time\n",
    "from datetime import datetime\n",
    "import pandas as pd\n",
    "from dateutil.relativedelta import relativedelta\n",
    "def get_absolute_date(relative_time):\n",
    "    absolute_time = []\n",
    "    for i in relative_time:        \n",
    "        if i.find('hours')>0:\n",
    "            hours = int(i.split(\" \")[0])\n",
    "            tm_absolute = datetime.now() - pd.Timedelta(hours=hours)\n",
    "            dt_string = tm_absolute.strftime(\"%d %b %Y\")\n",
    "            absolute_time.append(dt_string)\n",
    "        elif i.find('day')>0:\n",
    "            days = int(i.split(\" \")[0])\n",
    "            tm_absolute = datetime.now() - pd.Timedelta(days=days)\n",
    "            dt_string = tm_absolute.strftime(\"%d %b %Y\")\n",
    "            absolute_time.append(dt_string)\n",
    "        elif i.find('week')>0:\n",
    "            weeks = int(i.split(\" \")[0])\n",
    "            tm_absolute = datetime.now() - pd.Timedelta(weeks=weeks)\n",
    "            dt_string = tm_absolute.strftime(\"%d %b %Y\")\n",
    "            absolute_time.append(dt_string)\n",
    "        elif i.find('month')>0:\n",
    "            months = int(i.split(\" \")[0])\n",
    "            tm_absolute = datetime.now() - relativedelta(months=months)\n",
    "            dt_string = tm_absolute.strftime(\"%d %b %Y\")\n",
    "            absolute_time.append(dt_string)\n",
    "        elif i.find('year')>0:\n",
    "            years = int(i.split(\" \")[0])\n",
    "            tm_absolute = datetime.now() - relativedelta(years=years)\n",
    "            dt_string = tm_absolute.strftime(\"%d %b %Y\")\n",
    "            absolute_time.append(dt_string)\n",
    "\n",
    "    return absolute_time"
   ]
  },
  {
   "cell_type": "code",
   "execution_count": 73,
   "metadata": {},
   "outputs": [
    {
     "data": {
      "text/plain": [
       "['23 Feb 2023', '23 Feb 2023', '22 Feb 2023', '21 Feb 2023', '16 Feb 2023']"
      ]
     },
     "execution_count": 73,
     "metadata": {},
     "output_type": "execute_result"
    }
   ],
   "source": [
    "abs_date = get_absolute_date(rel_time)\n",
    "abs_date"
   ]
  },
  {
   "cell_type": "code",
   "execution_count": 80,
   "metadata": {},
   "outputs": [
    {
     "data": {
      "text/html": [
       "<div>\n",
       "<style scoped>\n",
       "    .dataframe tbody tr th:only-of-type {\n",
       "        vertical-align: middle;\n",
       "    }\n",
       "\n",
       "    .dataframe tbody tr th {\n",
       "        vertical-align: top;\n",
       "    }\n",
       "\n",
       "    .dataframe thead th {\n",
       "        text-align: right;\n",
       "    }\n",
       "</style>\n",
       "<table border=\"1\" class=\"dataframe\">\n",
       "  <thead>\n",
       "    <tr style=\"text-align: right;\">\n",
       "      <th></th>\n",
       "      <th>title</th>\n",
       "      <th>uploadDate</th>\n",
       "      <th>views</th>\n",
       "      <th>videoURL</th>\n",
       "      <th>thumbnailURL</th>\n",
       "    </tr>\n",
       "  </thead>\n",
       "  <tbody>\n",
       "    <tr>\n",
       "      <th>0</th>\n",
       "      <td>How to Attempt English Board Exam ????</td>\n",
       "      <td>23 Feb 2023</td>\n",
       "      <td>96K views</td>\n",
       "      <td>https://www.youtube.com/watch?v=nX5ONgCdLcc</td>\n",
       "      <td>https://i.ytimg.com/vi/nX5ONgCdLcc/hqdefault.j...</td>\n",
       "    </tr>\n",
       "    <tr>\n",
       "      <th>1</th>\n",
       "      <td>Best technique to attempt SST paper in Board e...</td>\n",
       "      <td>23 Feb 2023</td>\n",
       "      <td>53K views</td>\n",
       "      <td>https://www.youtube.com/watch?v=AM2Dt7cNebw</td>\n",
       "      <td>https://i.ytimg.com/vi/AM2Dt7cNebw/hqdefault.j...</td>\n",
       "    </tr>\n",
       "    <tr>\n",
       "      <th>2</th>\n",
       "      <td>Last Minute Strategy To Score More Than 98% ||...</td>\n",
       "      <td>22 Feb 2023</td>\n",
       "      <td>21K views</td>\n",
       "      <td>https://www.youtube.com/watch?v=7nMJVhey9TM</td>\n",
       "      <td>https://i.ytimg.com/vi/7nMJVhey9TM/hqdefault.j...</td>\n",
       "    </tr>\n",
       "    <tr>\n",
       "      <th>3</th>\n",
       "      <td>Why You Should Choose Commerce After 10th? || ...</td>\n",
       "      <td>21 Feb 2023</td>\n",
       "      <td>28K views</td>\n",
       "      <td>https://www.youtube.com/watch?v=FSVVlcFUCMk</td>\n",
       "      <td>https://i.ytimg.com/vi/FSVVlcFUCMk/hqdefault.j...</td>\n",
       "    </tr>\n",
       "    <tr>\n",
       "      <th>4</th>\n",
       "      <td>Follow This Plan To Score More Than 95% in Boa...</td>\n",
       "      <td>16 Feb 2023</td>\n",
       "      <td>310K views</td>\n",
       "      <td>https://www.youtube.com/watch?v=vKxdTuOirnI</td>\n",
       "      <td>https://i.ytimg.com/vi/vKxdTuOirnI/hqdefault.j...</td>\n",
       "    </tr>\n",
       "  </tbody>\n",
       "</table>\n",
       "</div>"
      ],
      "text/plain": [
       "                                               title   uploadDate       views  \\\n",
       "0             How to Attempt English Board Exam ????  23 Feb 2023   96K views   \n",
       "1  Best technique to attempt SST paper in Board e...  23 Feb 2023   53K views   \n",
       "2  Last Minute Strategy To Score More Than 98% ||...  22 Feb 2023   21K views   \n",
       "3  Why You Should Choose Commerce After 10th? || ...  21 Feb 2023   28K views   \n",
       "4  Follow This Plan To Score More Than 95% in Boa...  16 Feb 2023  310K views   \n",
       "\n",
       "                                      videoURL  \\\n",
       "0  https://www.youtube.com/watch?v=nX5ONgCdLcc   \n",
       "1  https://www.youtube.com/watch?v=AM2Dt7cNebw   \n",
       "2  https://www.youtube.com/watch?v=7nMJVhey9TM   \n",
       "3  https://www.youtube.com/watch?v=FSVVlcFUCMk   \n",
       "4  https://www.youtube.com/watch?v=vKxdTuOirnI   \n",
       "\n",
       "                                        thumbnailURL  \n",
       "0  https://i.ytimg.com/vi/nX5ONgCdLcc/hqdefault.j...  \n",
       "1  https://i.ytimg.com/vi/AM2Dt7cNebw/hqdefault.j...  \n",
       "2  https://i.ytimg.com/vi/7nMJVhey9TM/hqdefault.j...  \n",
       "3  https://i.ytimg.com/vi/FSVVlcFUCMk/hqdefault.j...  \n",
       "4  https://i.ytimg.com/vi/vKxdTuOirnI/hqdefault.j...  "
      ]
     },
     "execution_count": 80,
     "metadata": {},
     "output_type": "execute_result"
    }
   ],
   "source": [
    "import pandas as pd\n",
    "df = pd.DataFrame({'title':top5titles,'uploadDate':abs_date,'views':top5views,'videoURL':top5url,'thumbnailURL':top5thumbnails})\n",
    "df"
   ]
  },
  {
   "cell_type": "code",
   "execution_count": 81,
   "metadata": {},
   "outputs": [],
   "source": [
    "df.to_csv('YoutubeData.csv',index=False)"
   ]
  },
  {
   "attachments": {},
   "cell_type": "markdown",
   "metadata": {},
   "source": [
    "[Link to YoutubeData.csv](YoutubeData.csv)"
   ]
  },
  {
   "cell_type": "code",
   "execution_count": 104,
   "metadata": {},
   "outputs": [],
   "source": [
    "import pandas as pd\n",
    "import time\n",
    "def get_yt_data(url):\n",
    "    driver.get(url)\n",
    "    time.sleep(2)\n",
    "    driver.execute_script(\"window.scrollTo(0, 200)\")    \n",
    "    \n",
    "    # First Get Titles and URL    \n",
    "    url_elems = driver.find_elements(By.XPATH,\"//a[@id='video-title-link']\")\n",
    "    url_elems5 = url_elems[0:5] \n",
    "    top5titles = []\n",
    "    top5urls = []\n",
    "    for i in url_elems5:\n",
    "        top5titles.append(i.get_attribute('title'))\n",
    "        top5urls.append(i.get_attribute('href'))\n",
    "\n",
    "    # Get Thumbnail URL's\n",
    "    images = driver.find_elements(By.TAG_NAME,'img')\n",
    "    img_links = []    \n",
    "    for i in images:    \n",
    "        link = i.get_attribute('src')\n",
    "        if str(link).find('i.ytimg.com')>0:\n",
    "            img_links.append(link)\n",
    "    top5thumbnails = img_links[0:5]\n",
    "\n",
    "    # Get Views and Relative time\n",
    "    views_elements = driver.find_elements(By.XPATH,\"//span[@class='inline-metadata-item style-scope ytd-video-meta-block']\")\n",
    "    view_count = []\n",
    "    rel_time = []\n",
    "    for i in views_elements:  \n",
    "        meta_string = i.text      \n",
    "        if meta_string.find('views')>0:      \n",
    "            view_count.append(meta_string)\n",
    "        elif meta_string.find('ago')>0:\n",
    "            rel_time.append(meta_string)\n",
    "    \n",
    "    top5views = view_count[0:5]\n",
    "    top5_reltime = rel_time[0:5]\n",
    "\n",
    "    # converting relative time to absolute dates with custom function get_absolute_date\n",
    "    try:\n",
    "        abs_date =get_absolute_date(top5_reltime)\n",
    "    except Exception as e:\n",
    "        print('Exception Occured and handled :',e)    \n",
    "    \n",
    "    # Creating a Final dictionary for converting to dataframe\n",
    "    yt_dict = {'title':top5titles,'uploadDate':abs_date,'views':top5views,'videoURL':top5urls,'thumbnailURL':top5thumbnails}\n",
    "\n",
    "    # Converting to dataframe\n",
    "    yt_df = pd.DataFrame(yt_dict)\n",
    "\n",
    "    return yt_df   \n",
    "    "
   ]
  },
  {
   "cell_type": "code",
   "execution_count": 105,
   "metadata": {},
   "outputs": [
    {
     "data": {
      "text/html": [
       "<div>\n",
       "<style scoped>\n",
       "    .dataframe tbody tr th:only-of-type {\n",
       "        vertical-align: middle;\n",
       "    }\n",
       "\n",
       "    .dataframe tbody tr th {\n",
       "        vertical-align: top;\n",
       "    }\n",
       "\n",
       "    .dataframe thead th {\n",
       "        text-align: right;\n",
       "    }\n",
       "</style>\n",
       "<table border=\"1\" class=\"dataframe\">\n",
       "  <thead>\n",
       "    <tr style=\"text-align: right;\">\n",
       "      <th></th>\n",
       "      <th>title</th>\n",
       "      <th>uploadDate</th>\n",
       "      <th>views</th>\n",
       "      <th>videoURL</th>\n",
       "      <th>thumbnailURL</th>\n",
       "    </tr>\n",
       "  </thead>\n",
       "  <tbody>\n",
       "    <tr>\n",
       "      <th>0</th>\n",
       "      <td>How to Attempt English Board Exam ????</td>\n",
       "      <td>23 Feb 2023</td>\n",
       "      <td>100K views</td>\n",
       "      <td>https://www.youtube.com/watch?v=nX5ONgCdLcc</td>\n",
       "      <td>https://i.ytimg.com/vi/nX5ONgCdLcc/hqdefault.j...</td>\n",
       "    </tr>\n",
       "    <tr>\n",
       "      <th>1</th>\n",
       "      <td>Best technique to attempt SST paper in Board e...</td>\n",
       "      <td>23 Feb 2023</td>\n",
       "      <td>53K views</td>\n",
       "      <td>https://www.youtube.com/watch?v=AM2Dt7cNebw</td>\n",
       "      <td>https://i.ytimg.com/vi/AM2Dt7cNebw/hqdefault.j...</td>\n",
       "    </tr>\n",
       "    <tr>\n",
       "      <th>2</th>\n",
       "      <td>Last Minute Strategy To Score More Than 98% ||...</td>\n",
       "      <td>22 Feb 2023</td>\n",
       "      <td>21K views</td>\n",
       "      <td>https://www.youtube.com/watch?v=7nMJVhey9TM</td>\n",
       "      <td>https://i.ytimg.com/vi/7nMJVhey9TM/hqdefault.j...</td>\n",
       "    </tr>\n",
       "    <tr>\n",
       "      <th>3</th>\n",
       "      <td>Why You Should Choose Commerce After 10th? || ...</td>\n",
       "      <td>20 Feb 2023</td>\n",
       "      <td>28K views</td>\n",
       "      <td>https://www.youtube.com/watch?v=FSVVlcFUCMk</td>\n",
       "      <td>https://i.ytimg.com/vi/FSVVlcFUCMk/hqdefault.j...</td>\n",
       "    </tr>\n",
       "    <tr>\n",
       "      <th>4</th>\n",
       "      <td>Follow This Plan To Score More Than 95% in Boa...</td>\n",
       "      <td>16 Feb 2023</td>\n",
       "      <td>311K views</td>\n",
       "      <td>https://www.youtube.com/watch?v=vKxdTuOirnI</td>\n",
       "      <td>https://i.ytimg.com/vi/vKxdTuOirnI/hqdefault.j...</td>\n",
       "    </tr>\n",
       "  </tbody>\n",
       "</table>\n",
       "</div>"
      ],
      "text/plain": [
       "                                               title   uploadDate       views  \\\n",
       "0             How to Attempt English Board Exam ????  23 Feb 2023  100K views   \n",
       "1  Best technique to attempt SST paper in Board e...  23 Feb 2023   53K views   \n",
       "2  Last Minute Strategy To Score More Than 98% ||...  22 Feb 2023   21K views   \n",
       "3  Why You Should Choose Commerce After 10th? || ...  20 Feb 2023   28K views   \n",
       "4  Follow This Plan To Score More Than 95% in Boa...  16 Feb 2023  311K views   \n",
       "\n",
       "                                      videoURL  \\\n",
       "0  https://www.youtube.com/watch?v=nX5ONgCdLcc   \n",
       "1  https://www.youtube.com/watch?v=AM2Dt7cNebw   \n",
       "2  https://www.youtube.com/watch?v=7nMJVhey9TM   \n",
       "3  https://www.youtube.com/watch?v=FSVVlcFUCMk   \n",
       "4  https://www.youtube.com/watch?v=vKxdTuOirnI   \n",
       "\n",
       "                                        thumbnailURL  \n",
       "0  https://i.ytimg.com/vi/nX5ONgCdLcc/hqdefault.j...  \n",
       "1  https://i.ytimg.com/vi/AM2Dt7cNebw/hqdefault.j...  \n",
       "2  https://i.ytimg.com/vi/7nMJVhey9TM/hqdefault.j...  \n",
       "3  https://i.ytimg.com/vi/FSVVlcFUCMk/hqdefault.j...  \n",
       "4  https://i.ytimg.com/vi/vKxdTuOirnI/hqdefault.j...  "
      ]
     },
     "execution_count": 105,
     "metadata": {},
     "output_type": "execute_result"
    }
   ],
   "source": [
    "url = \"https://www.youtube.com/@PW-Foundation/videos\"\n",
    "PW_df = get_yt_data(url)\n",
    "PW_df"
   ]
  },
  {
   "attachments": {},
   "cell_type": "markdown",
   "metadata": {},
   "source": [
    "## Testing scraping data from my youtube channel"
   ]
  },
  {
   "cell_type": "code",
   "execution_count": 106,
   "metadata": {},
   "outputs": [
    {
     "data": {
      "text/html": [
       "<div>\n",
       "<style scoped>\n",
       "    .dataframe tbody tr th:only-of-type {\n",
       "        vertical-align: middle;\n",
       "    }\n",
       "\n",
       "    .dataframe tbody tr th {\n",
       "        vertical-align: top;\n",
       "    }\n",
       "\n",
       "    .dataframe thead th {\n",
       "        text-align: right;\n",
       "    }\n",
       "</style>\n",
       "<table border=\"1\" class=\"dataframe\">\n",
       "  <thead>\n",
       "    <tr style=\"text-align: right;\">\n",
       "      <th></th>\n",
       "      <th>title</th>\n",
       "      <th>uploadDate</th>\n",
       "      <th>views</th>\n",
       "      <th>videoURL</th>\n",
       "      <th>thumbnailURL</th>\n",
       "    </tr>\n",
       "  </thead>\n",
       "  <tbody>\n",
       "    <tr>\n",
       "      <th>0</th>\n",
       "      <td>Scraping YouTube with Flask and Selenium | Utk...</td>\n",
       "      <td>23 Feb 2023</td>\n",
       "      <td>31 views</td>\n",
       "      <td>https://www.youtube.com/watch?v=7vJGMXdVFts</td>\n",
       "      <td>https://i.ytimg.com/vi/7vJGMXdVFts/hqdefault.j...</td>\n",
       "    </tr>\n",
       "    <tr>\n",
       "      <th>1</th>\n",
       "      <td>Ved Tujha | Utkarsh Gaikwad  #coversong #valen...</td>\n",
       "      <td>14 Feb 2023</td>\n",
       "      <td>87 views</td>\n",
       "      <td>https://www.youtube.com/watch?v=vDRGHQzI7sM</td>\n",
       "      <td>https://i.ytimg.com/vi/vDRGHQzI7sM/hqdefault.j...</td>\n",
       "    </tr>\n",
       "    <tr>\n",
       "      <th>2</th>\n",
       "      <td>Automated Machine Learning Web App</td>\n",
       "      <td>24 Dec 2022</td>\n",
       "      <td>39 views</td>\n",
       "      <td>https://www.youtube.com/watch?v=yFWCdmtNBMw</td>\n",
       "      <td>https://i.ytimg.com/vi/yFWCdmtNBMw/hqdefault.j...</td>\n",
       "    </tr>\n",
       "    <tr>\n",
       "      <th>3</th>\n",
       "      <td>Credit Card Default Prediction Project</td>\n",
       "      <td>24 Oct 2022</td>\n",
       "      <td>103 views</td>\n",
       "      <td>https://www.youtube.com/watch?v=ltktrNRSWEU</td>\n",
       "      <td>https://i.ytimg.com/vi/ltktrNRSWEU/hqdefault.j...</td>\n",
       "    </tr>\n",
       "    <tr>\n",
       "      <th>4</th>\n",
       "      <td>Banjara Short Cover</td>\n",
       "      <td>24 Aug 2022</td>\n",
       "      <td>57 views</td>\n",
       "      <td>https://www.youtube.com/watch?v=aja5l7bM97Y</td>\n",
       "      <td>https://i.ytimg.com/vi/aja5l7bM97Y/hqdefault.j...</td>\n",
       "    </tr>\n",
       "  </tbody>\n",
       "</table>\n",
       "</div>"
      ],
      "text/plain": [
       "                                               title   uploadDate      views  \\\n",
       "0  Scraping YouTube with Flask and Selenium | Utk...  23 Feb 2023   31 views   \n",
       "1  Ved Tujha | Utkarsh Gaikwad  #coversong #valen...  14 Feb 2023   87 views   \n",
       "2                 Automated Machine Learning Web App  24 Dec 2022   39 views   \n",
       "3             Credit Card Default Prediction Project  24 Oct 2022  103 views   \n",
       "4                                Banjara Short Cover  24 Aug 2022   57 views   \n",
       "\n",
       "                                      videoURL  \\\n",
       "0  https://www.youtube.com/watch?v=7vJGMXdVFts   \n",
       "1  https://www.youtube.com/watch?v=vDRGHQzI7sM   \n",
       "2  https://www.youtube.com/watch?v=yFWCdmtNBMw   \n",
       "3  https://www.youtube.com/watch?v=ltktrNRSWEU   \n",
       "4  https://www.youtube.com/watch?v=aja5l7bM97Y   \n",
       "\n",
       "                                        thumbnailURL  \n",
       "0  https://i.ytimg.com/vi/7vJGMXdVFts/hqdefault.j...  \n",
       "1  https://i.ytimg.com/vi/vDRGHQzI7sM/hqdefault.j...  \n",
       "2  https://i.ytimg.com/vi/yFWCdmtNBMw/hqdefault.j...  \n",
       "3  https://i.ytimg.com/vi/ltktrNRSWEU/hqdefault.j...  \n",
       "4  https://i.ytimg.com/vi/aja5l7bM97Y/hqdefault.j...  "
      ]
     },
     "execution_count": 106,
     "metadata": {},
     "output_type": "execute_result"
    }
   ],
   "source": [
    "my_channel = \"https://www.youtube.com/@utkarshgaikwad2476/videos\"\n",
    "df_my_channel = get_yt_data(my_channel)\n",
    "df_my_channel"
   ]
  },
  {
   "cell_type": "code",
   "execution_count": 107,
   "metadata": {},
   "outputs": [
    {
     "name": "stdout",
     "output_type": "stream",
     "text": [
      "4.09 s ± 167 ms per loop (mean ± std. dev. of 20 runs, 1 loop each)\n"
     ]
    }
   ],
   "source": [
    "%%timeit -r 20 -n 1\n",
    "url = \"https://www.youtube.com/@PW-Foundation/videos\"\n",
    "PW_df = get_yt_data(url)"
   ]
  },
  {
   "attachments": {},
   "cell_type": "markdown",
   "metadata": {},
   "source": [
    "## Note that this is my AWS Lambda Function API. This API will do headless selenium functionality and return me top5 latest channel output in json format"
   ]
  },
  {
   "attachments": {},
   "cell_type": "markdown",
   "metadata": {},
   "source": [
    "#### Showing the Usage of this API in below code "
   ]
  },
  {
   "cell_type": "code",
   "execution_count": 1,
   "metadata": {},
   "outputs": [],
   "source": [
    "# API URL\n",
    "api_url = 'https://8rkvysfczg.execute-api.us-east-1.amazonaws.com/yt_scrapper_utkarsh'\n",
    "\n",
    "# Keeping the url in dictionary format as below Considered exqample of Krish Naik 06 example in this\n",
    "yt_url = {'url':'https://www.youtube.com/@krishnaik06/videos'}"
   ]
  },
  {
   "cell_type": "code",
   "execution_count": 2,
   "metadata": {},
   "outputs": [
    {
     "data": {
      "text/plain": [
       "<Response [200]>"
      ]
     },
     "execution_count": 2,
     "metadata": {},
     "output_type": "execute_result"
    }
   ],
   "source": [
    "# Use post request to get response from the API of Lambda Function\n",
    "import requests\n",
    "response = requests.post(api_url,json=yt_url)\n",
    "response"
   ]
  },
  {
   "cell_type": "code",
   "execution_count": 4,
   "metadata": {},
   "outputs": [
    {
     "data": {
      "text/plain": [
       "{'url_provided': 'https://www.youtube.com/@krishnaik06/videos',\n",
       " 'channel_title': 'Krish Naik - YouTube',\n",
       " 'output': {'title': ['When Your Kid Doesnt Want You To Work-Just For Fun with @krishivnaikvlogs8998',\n",
       "   'Changes Is Inevitable And You Need To Change With Time',\n",
       "   'Watch This Video To Crack Any Stats Interview For Data Scientist- Understanding PDF,PMF and CDF',\n",
       "   'What Is Derivatives In  Calculus In Layman Terms?',\n",
       "   'How Prakhar Cracked Multiple Job Offers In Data Science'],\n",
       "  'reltime': ['4 hours ago',\n",
       "   '12 hours ago',\n",
       "   '1 day ago',\n",
       "   '3 days ago',\n",
       "   '4 days ago'],\n",
       "  'views': ['4.4K views',\n",
       "   '4.5K views',\n",
       "   '5.9K views',\n",
       "   '2K views',\n",
       "   '6.6K views'],\n",
       "  'videoURL': ['https://www.youtube.com/watch?v=uPYL7HjC8FE',\n",
       "   'https://www.youtube.com/watch?v=Y51SPh3Bj7Y',\n",
       "   'https://www.youtube.com/watch?v=6Z8SdN52GuU',\n",
       "   'https://www.youtube.com/watch?v=sqDBEyfRPo8',\n",
       "   'https://www.youtube.com/watch?v=y2jLcXlgCXk'],\n",
       "  'thumbnailURL': ['https://i.ytimg.com/vi/uPYL7HjC8FE/hqdefault.jpg?sqp=-oaymwE2CNACELwBSFXyq4qpAygIARUAAIhCGAFwAcABBvABAfgBzgaAAuADigIMCAAQARhlIFEoRDAP&rs=AOn4CLDE1Th1ExODz1yZkSntD_a46pHphA',\n",
       "   'https://i.ytimg.com/vi/Y51SPh3Bj7Y/hqdefault.jpg?sqp=-oaymwE2CNACELwBSFXyq4qpAygIARUAAIhCGAFwAcABBvABAfgB0gSAAoAKigIMCAAQARhlIFcoSDAP&rs=AOn4CLD_YpkCUDe86Xttfzoflsn0a6M8bQ',\n",
       "   'https://i.ytimg.com/vi/6Z8SdN52GuU/hqdefault.jpg?sqp=-oaymwE2CNACELwBSFXyq4qpAygIARUAAIhCGAFwAcABBvABAfgB_gmAAtAFigIMCAAQARhyIEgoNTAP&rs=AOn4CLD0r_2FdEjsU4OhG5QkxFs1BvcAJA',\n",
       "   'https://i.ytimg.com/vi/sqDBEyfRPo8/hqdefault.jpg?sqp=-oaymwE2CNACELwBSFXyq4qpAygIARUAAIhCGAFwAcABBvABAfgB_gmAAtAFigIMCAAQARhlIGUoZTAP&rs=AOn4CLASi52FCaItzodmF0B6i5X_IM7PzQ',\n",
       "   'https://i.ytimg.com/vi/y2jLcXlgCXk/hqdefault.jpg?sqp=-oaymwE2CNACELwBSFXyq4qpAygIARUAAIhCGAFwAcABBvABAfgB_gmAAtAFigIMCAAQARhyIFEoPDAP&rs=AOn4CLAK_jk8r5TyQ5UMtKHSM72J19NX1A']}}"
      ]
     },
     "execution_count": 4,
     "metadata": {},
     "output_type": "execute_result"
    }
   ],
   "source": [
    "# Showing the response in json format\n",
    "dct = response.json()\n",
    "dct"
   ]
  },
  {
   "attachments": {},
   "cell_type": "markdown",
   "metadata": {},
   "source": [
    "## Showing output in DataFrame"
   ]
  },
  {
   "cell_type": "code",
   "execution_count": 5,
   "metadata": {},
   "outputs": [
    {
     "data": {
      "text/html": [
       "<div>\n",
       "<style scoped>\n",
       "    .dataframe tbody tr th:only-of-type {\n",
       "        vertical-align: middle;\n",
       "    }\n",
       "\n",
       "    .dataframe tbody tr th {\n",
       "        vertical-align: top;\n",
       "    }\n",
       "\n",
       "    .dataframe thead th {\n",
       "        text-align: right;\n",
       "    }\n",
       "</style>\n",
       "<table border=\"1\" class=\"dataframe\">\n",
       "  <thead>\n",
       "    <tr style=\"text-align: right;\">\n",
       "      <th></th>\n",
       "      <th>title</th>\n",
       "      <th>reltime</th>\n",
       "      <th>views</th>\n",
       "      <th>videoURL</th>\n",
       "      <th>thumbnailURL</th>\n",
       "    </tr>\n",
       "  </thead>\n",
       "  <tbody>\n",
       "    <tr>\n",
       "      <th>0</th>\n",
       "      <td>When Your Kid Doesnt Want You To Work-Just For...</td>\n",
       "      <td>4 hours ago</td>\n",
       "      <td>4.4K views</td>\n",
       "      <td>https://www.youtube.com/watch?v=uPYL7HjC8FE</td>\n",
       "      <td>https://i.ytimg.com/vi/uPYL7HjC8FE/hqdefault.j...</td>\n",
       "    </tr>\n",
       "    <tr>\n",
       "      <th>1</th>\n",
       "      <td>Changes Is Inevitable And You Need To Change W...</td>\n",
       "      <td>12 hours ago</td>\n",
       "      <td>4.5K views</td>\n",
       "      <td>https://www.youtube.com/watch?v=Y51SPh3Bj7Y</td>\n",
       "      <td>https://i.ytimg.com/vi/Y51SPh3Bj7Y/hqdefault.j...</td>\n",
       "    </tr>\n",
       "    <tr>\n",
       "      <th>2</th>\n",
       "      <td>Watch This Video To Crack Any Stats Interview ...</td>\n",
       "      <td>1 day ago</td>\n",
       "      <td>5.9K views</td>\n",
       "      <td>https://www.youtube.com/watch?v=6Z8SdN52GuU</td>\n",
       "      <td>https://i.ytimg.com/vi/6Z8SdN52GuU/hqdefault.j...</td>\n",
       "    </tr>\n",
       "    <tr>\n",
       "      <th>3</th>\n",
       "      <td>What Is Derivatives In  Calculus In Layman Terms?</td>\n",
       "      <td>3 days ago</td>\n",
       "      <td>2K views</td>\n",
       "      <td>https://www.youtube.com/watch?v=sqDBEyfRPo8</td>\n",
       "      <td>https://i.ytimg.com/vi/sqDBEyfRPo8/hqdefault.j...</td>\n",
       "    </tr>\n",
       "    <tr>\n",
       "      <th>4</th>\n",
       "      <td>How Prakhar Cracked Multiple Job Offers In Dat...</td>\n",
       "      <td>4 days ago</td>\n",
       "      <td>6.6K views</td>\n",
       "      <td>https://www.youtube.com/watch?v=y2jLcXlgCXk</td>\n",
       "      <td>https://i.ytimg.com/vi/y2jLcXlgCXk/hqdefault.j...</td>\n",
       "    </tr>\n",
       "  </tbody>\n",
       "</table>\n",
       "</div>"
      ],
      "text/plain": [
       "                                               title       reltime  \\\n",
       "0  When Your Kid Doesnt Want You To Work-Just For...   4 hours ago   \n",
       "1  Changes Is Inevitable And You Need To Change W...  12 hours ago   \n",
       "2  Watch This Video To Crack Any Stats Interview ...     1 day ago   \n",
       "3  What Is Derivatives In  Calculus In Layman Terms?    3 days ago   \n",
       "4  How Prakhar Cracked Multiple Job Offers In Dat...    4 days ago   \n",
       "\n",
       "        views                                     videoURL  \\\n",
       "0  4.4K views  https://www.youtube.com/watch?v=uPYL7HjC8FE   \n",
       "1  4.5K views  https://www.youtube.com/watch?v=Y51SPh3Bj7Y   \n",
       "2  5.9K views  https://www.youtube.com/watch?v=6Z8SdN52GuU   \n",
       "3    2K views  https://www.youtube.com/watch?v=sqDBEyfRPo8   \n",
       "4  6.6K views  https://www.youtube.com/watch?v=y2jLcXlgCXk   \n",
       "\n",
       "                                        thumbnailURL  \n",
       "0  https://i.ytimg.com/vi/uPYL7HjC8FE/hqdefault.j...  \n",
       "1  https://i.ytimg.com/vi/Y51SPh3Bj7Y/hqdefault.j...  \n",
       "2  https://i.ytimg.com/vi/6Z8SdN52GuU/hqdefault.j...  \n",
       "3  https://i.ytimg.com/vi/sqDBEyfRPo8/hqdefault.j...  \n",
       "4  https://i.ytimg.com/vi/y2jLcXlgCXk/hqdefault.j...  "
      ]
     },
     "execution_count": 5,
     "metadata": {},
     "output_type": "execute_result"
    }
   ],
   "source": [
    "import pandas as pd\n",
    "df_krish = pd.DataFrame(dct['output'])\n",
    "df_krish"
   ]
  }
 ],
 "metadata": {
  "kernelspec": {
   "display_name": "venv",
   "language": "python",
   "name": "python3"
  },
  "language_info": {
   "codemirror_mode": {
    "name": "ipython",
    "version": 3
   },
   "file_extension": ".py",
   "mimetype": "text/x-python",
   "name": "python",
   "nbconvert_exporter": "python",
   "pygments_lexer": "ipython3",
   "version": "3.10.7"
  },
  "orig_nbformat": 4,
  "vscode": {
   "interpreter": {
    "hash": "27149e82490bdaa27222c4e29544e396278d224a9f42010d392c3451ce079b12"
   }
  }
 },
 "nbformat": 4,
 "nbformat_minor": 2
}
