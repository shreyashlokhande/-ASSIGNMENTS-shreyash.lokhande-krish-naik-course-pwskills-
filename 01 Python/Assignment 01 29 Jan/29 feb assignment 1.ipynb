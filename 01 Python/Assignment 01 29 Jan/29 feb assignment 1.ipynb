{
 "cells": [
  {
   "attachments": {},
   "cell_type": "markdown",
   "metadata": {},
   "source": [
    "Q1 WHO DEVELOPED PYTHON PROGRAMMING LANGUAGE ?\n",
    "Guido van Rossum is a Dutch programmer best known as the creator of the \n",
    "Python programming language."
   ]
  },
  {
   "attachments": {},
   "cell_type": "markdown",
   "metadata": {},
   "source": [
    "Q2 WHICH TYPE OF PROGRAMMING DOES PYTHON SUPPORT ?\n",
    "Python is a multi-paradigm programming language. \n",
    "Object-oriented programming and structured programming are fully supported, \n",
    "and many of their features support functional programming and aspect-oriented \n",
    "programming (including metaprogramming and metaobjects)."
   ]
  },
  {
   "attachments": {},
   "cell_type": "markdown",
   "metadata": {},
   "source": [
    "Q3 IS PYTHON CASE SENSITIVE WHEN DEALING WITH IDENTIFIERS ?\n",
    "Yes, Python is a case-sensitive language, i.e., it treats uppercase and lowercase \n",
    "characters differently. \n",
    "This applies to identifiers too. \n",
    "You must avoid using the same name with different cases while naming \n",
    "identifiers."
   ]
  },
  {
   "attachments": {},
   "cell_type": "markdown",
   "metadata": {},
   "source": [
    "Q4 IS PYTHON CASE SENSITIVE WHEN DEALING WITH IDENTIFIERS ?\n",
    "Yes, Python is a case-sensitive language, i.e., it treats uppercase and lowercase \n",
    "characters differently. \n",
    "This applies to identifiers too. \n",
    "You must avoid using the same name with different cases while naming \n",
    "identifiers."
   ]
  },
  {
   "attachments": {},
   "cell_type": "markdown",
   "metadata": {},
   "source": [
    "Q5 IS PYTHON CASE SENSITIVE WHEN DEALING WITH IDENTIFIERS ?\n",
    "Yes, Python is a case-sensitive language, i.e., it treats uppercase and lowercase \n",
    "characters differently. \n",
    "This applies to identifiers too. \n",
    "You must avoid using the same name with different cases while naming \n",
    "identifiers."
   ]
  },
  {
   "attachments": {},
   "cell_type": "markdown",
   "metadata": {},
   "source": [
    "Q6 IS PYTHON CASE SENSITIVE WHEN DEALING WITH IDENTIFIERS ?\n",
    "Yes, Python is a case-sensitive language, i.e., it treats uppercase and lowercase \n",
    "characters differently. \n",
    "This applies to identifiers too. \n",
    "You must avoid using the same name with different cases while naming \n",
    "identifiers."
   ]
  },
  {
   "attachments": {},
   "cell_type": "markdown",
   "metadata": {},
   "source": [
    "Q7 STATE THE CHARACTER USED TO GIVE SINGLE LINE COMMENTS IN PYTHON ?\n",
    "The Character # is used to write single line comment in python."
   ]
  },
  {
   "attachments": {},
   "cell_type": "markdown",
   "metadata": {},
   "source": [
    "Q8 – MENTION FUNCTIONS WHICH CAN HELP USFIND THE VERSION OF PYTHON THAT WE ARE CURRENTLY WORKING ON ?\n",
    "1. Using sys.version method \n",
    "import sys\n",
    "print(\"User Current Version:-\", sys.version)\n",
    "2. Using python_version() function\n",
    "from platform import python_version\n",
    "print(\"Current Python Version-\", python_version())\n",
    "3.Method 3. Using python --V command\n",
    "Open the terminal and write below command\n",
    "python -V"
   ]
  },
  {
   "attachments": {},
   "cell_type": "markdown",
   "metadata": {},
   "source": [
    "Q9 PYTHON SUPPORTS THE CREATION OF ANONYMOUS FUNCTIONS AT RUNTIME USING CONSTRUCT CALLED ?\n",
    "Python supports to make anonymous functions at runtime with a construct called \n",
    "\"lambda“ ."
   ]
  },
  {
   "attachments": {},
   "cell_type": "markdown",
   "metadata": {},
   "source": [
    "Q10 WHAT DOES PIP STAND FOR IN PYTHON ?\n",
    "Pip stands for : preferred installer program"
   ]
  },
  {
   "attachments": {},
   "cell_type": "markdown",
   "metadata": {},
   "source": [
    "Q11 MENTION A FEW BUILT IN FUNCTIONS IN PYTHON ?\n",
    "1. print() function : prints the specified message to the screen or another \n",
    "standard output device.\n",
    "2. type() function : returns the type of specified object.\n",
    "3. input() function : allows taking the input from the user.\n",
    "4. dir() function : returns all the properties and methods of the specified object, \n",
    "without the values.\n",
    "5. max() function : returns the item with the maximum value or the item with \n",
    "the maximum value in an iterable.\n",
    "6. help() function : used to display the documentation of modules, functions, \n",
    "classes, keywords, etc"
   ]
  },
  {
   "attachments": {},
   "cell_type": "markdown",
   "metadata": {},
   "source": [
    "Q12 WHAT IS MAXIMUM POSSIBLE LENGTH OF AN IDENTIFIER IN PYTHON ?\n",
    "An identifier can have a maximum length of 79 characters in Python"
   ]
  },
  {
   "attachments": {},
   "cell_type": "markdown",
   "metadata": {},
   "source": [
    "Q13 WHAT ARE BENEFITS OF USING PYTHON ?\n",
    "Third-Party Modules\n",
    "Python Package Index (PyPI) comprises a multitude of third-party modules which \n",
    "makes Python integrate with other languages and platforms easily.\n",
    "Presence of Libraries\n",
    "Python is fraught with numerous standard libraries that include string operations, \n",
    "internet protocols, web service tools, Machine Learning libraries, and operating \n",
    "System Interfaces. The presence of these libraries essentially helps in reducing the \n",
    "code to be written by the programmer.\n",
    "User-Friendly data structures\n",
    "With its built-in data structures, Python can easily construct run-time data structures \n",
    "including Arrays, Lists, tuples, and Files."
   ]
  },
  {
   "attachments": {},
   "cell_type": "markdown",
   "metadata": {},
   "source": [
    "Q14 HOW IS MEMORY MANAGED IN PYTHON ?\n",
    "Memory management in Python involves the management of a private heap. A \n",
    "private heap is a portion of memory that is exclusive to the Python process. All \n",
    "Python objects and data structures are stored in the private heap.\n",
    "\n",
    "Python allocated to memory \n",
    "1. Object specfic memory: int,float, dict, list\n",
    "2. Python Core Non object Memoery\n",
    "3. Object memory\n",
    "4. Internal Buffer"
   ]
  },
  {
   "attachments": {},
   "cell_type": "markdown",
   "metadata": {},
   "source": [
    "Q15 HOW TO INSTALL PYTHON ON WINDOWS \n",
    "AND SET PATH VARIABLE ?\n",
    "• Installing python\n",
    "Go to website https://www.python.org/downloads/ and complete the setup\n",
    "• The complete path of python.exe can be added by:\n",
    "1. Right-clicking This PC and going to Properties.\n",
    "2. Clicking on the Advanced system settings in the menu on the left.\n",
    "3. Clicking on the Environment Variables button on the bottom right.\n",
    "4. In the System variables section, selecting the Path variable and clicking \n",
    "on Edit. The next screen will show all the directories that are currently a part \n",
    "of the PATH variable.\n",
    "5. Clicking on New and entering Python’s install director"
   ]
  },
  {
   "attachments": {},
   "cell_type": "markdown",
   "metadata": {},
   "source": [
    "Q16 IS INDENTATION REQUIRED IN PYTHON?\n",
    "Indentation refers to the spaces at the beginning of a code line.\n",
    "Where in other programming languages the indentation in code is for readability \n",
    "only, the indentation in Python is very important.\n",
    "Python uses indentation to indicate a block of code."
   ]
  },
  {
   "cell_type": "code",
   "execution_count": null,
   "metadata": {},
   "outputs": [],
   "source": [
    "a= [1,3,5,4,3,3,1,5,1,3,4,5,3,2,4,45,4,3,2,3,4,5,3,3,4,4,4,3,3,4,5,3]\n",
    "\n",
    "for i in a:\n",
    " n=[] \n",
    " if i not in n:\n",
    "   n.append(i)\n",
    "n\n"
   ]
  },
  {
   "cell_type": "code",
   "execution_count": null,
   "metadata": {},
   "outputs": [],
   "source": [
    "\n",
    "a"
   ]
  }
 ],
 "metadata": {
  "kernelspec": {
   "display_name": "Python 3",
   "language": "python",
   "name": "python3"
  },
  "language_info": {
   "name": "python",
   "version": "3.10.11"
  },
  "orig_nbformat": 4
 },
 "nbformat": 4,
 "nbformat_minor": 2
}
