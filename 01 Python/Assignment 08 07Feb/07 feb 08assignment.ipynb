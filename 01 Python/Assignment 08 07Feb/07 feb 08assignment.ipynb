{
 "cells": [
  {
   "attachments": {},
   "cell_type": "markdown",
   "metadata": {},
   "source": [
    "# Assignment 08 07 Feb"
   ]
  },
  {
   "attachments": {},
   "cell_type": "markdown",
   "metadata": {},
   "source": [
    "## Question 1: You are writing code for a company. The requirement of the company is that you create a python function that will check wether password entered by user is correct or not. The function should take password as input and return the string \"Valid Password\" if password follows below given password guidelines else it should return \"Invalid Password\"\n",
    "\n",
    "### Note : \n",
    "1. The Password should contain atleast 2 uppercase letters and 2 lowercase letters. \n",
    "2. The Password should contain atleast a number and 3 special characters.\n",
    "3. The length of password should be 10 characters long.\n",
    "---"
   ]
  },
  {
   "attachments": {},
   "cell_type": "markdown",
   "metadata": {},
   "source": [
    "## Answer : I'm breaking this code down in multiple functions :\n",
    "### Approach 1:\n",
    "1. Define a function to count upper case letters and lower case letters , numbers and special characters\n",
    "2. Create a final function call the counting function inside final function and other conditions to give final results"
   ]
  },
  {
   "cell_type": "code",
   "execution_count": null,
   "metadata": {},
   "outputs": [],
   "source": [
    "# This function counts upper and lowercase alphabets in function\n",
    "def count_characters(password):\n",
    "    \"\"\"\n",
    "    This function counts upper and lowercase in string and \n",
    "    returns the number of upper and lowercase characters\n",
    "    \"\"\"\n",
    "    # Intitalize count of each character type to zero\n",
    "    upper_count = 0\n",
    "    lower_count = 0\n",
    "    number_count = 0\n",
    "    symbol_count = 0\n",
    "\n",
    "    # Iterate through each character of password\n",
    "    for char in password:\n",
    "        # Check wether character is alphabet first \n",
    "        if char.isalpha()==True:\n",
    "            # Check wether character is upper case\n",
    "            if char.isupper()==True:\n",
    "                upper_count = upper_count + 1\n",
    "            else:\n",
    "                lower_count = lower_count + 1\n",
    "        \n",
    "        # Check if character is numeric\n",
    "        elif char.isnumeric()==True:\n",
    "            number_count = number_count + 1\n",
    "\n",
    "        # Is character is neither alphabet and nor numeric it is special character\n",
    "        else:\n",
    "            symbol_count = symbol_count + 1   \n",
    "            \n",
    "    return upper_count, lower_count, number_count, symbol_count"
   ]
  },
  {
   "cell_type": "code",
   "execution_count": null,
   "metadata": {},
   "outputs": [
    {
     "data": {
      "text/plain": [
       "(2, 5, 10, 6)"
      ]
     },
     "metadata": {},
     "output_type": "display_data"
    }
   ],
   "source": [
    "# Testing above counting funtion\n",
    "count_characters('UtkarsH12345,^(#)_12345')"
   ]
  },
  {
   "cell_type": "code",
   "execution_count": null,
   "metadata": {},
   "outputs": [],
   "source": [
    "# Create a final function which validates the password\n",
    "def validate_password(password):\n",
    "\n",
    "    \"\"\"\n",
    "    This function validates the password based on rules provided\n",
    "    \"\"\"\n",
    "\n",
    "    # Call count_character function to calculate counts of various characters\n",
    "    upper_count, lower_count, number_count, symbol_count = count_characters(password)\n",
    "\n",
    "    # Create a boolean to check all conditions\n",
    "    isValid = (upper_count>=2) and (lower_count>=2) and (number_count>=1) and (symbol_count>=3) and(len(password)==10)\n",
    "\n",
    "    if isValid==True:\n",
    "        return \"Valid Password\"\n",
    "    else:\n",
    "        return \"Invalid Password\""
   ]
  },
  {
   "cell_type": "code",
   "execution_count": null,
   "metadata": {},
   "outputs": [
    {
     "data": {
      "text/plain": [
       "'Valid Password'"
      ]
     },
     "metadata": {},
     "output_type": "display_data"
    }
   ],
   "source": [
    "# Test Case 1\n",
    "p1 = 'P$W@Skil!1'\n",
    "validate_password(p1)"
   ]
  },
  {
   "cell_type": "code",
   "execution_count": null,
   "metadata": {},
   "outputs": [
    {
     "data": {
      "text/plain": [
       "'Invalid Password'"
      ]
     },
     "metadata": {},
     "output_type": "display_data"
    }
   ],
   "source": [
    "# Test Case 2\n",
    "p2 = 'Utkarsh1231200#'\n",
    "validate_password(p2)"
   ]
  },
  {
   "cell_type": "code",
   "execution_count": null,
   "metadata": {},
   "outputs": [
    {
     "data": {
      "text/plain": [
       "'Valid Password'"
      ]
     },
     "metadata": {},
     "output_type": "display_data"
    }
   ],
   "source": [
    "# Test case 3\n",
    "p3 = 'UtkArS3!@$'\n",
    "validate_password(p3)"
   ]
  },
  {
   "attachments": {},
   "cell_type": "markdown",
   "metadata": {},
   "source": [
    "### Approach 2 : Using regex library and invert the conditions to return invalid password"
   ]
  },
  {
   "cell_type": "code",
   "execution_count": null,
   "metadata": {},
   "outputs": [],
   "source": [
    "import re\n",
    "\n",
    "def validate_password_alt(password):\n",
    "    \"\"\"\n",
    "    Approach 2 function uses regular expressions library\n",
    "    and use inverted conditions to return invalid password\n",
    "    if any one condition fails password is invalid\n",
    "    \"\"\"\n",
    "    if len(password) != 10:\n",
    "        return \"Invalid Password\"\n",
    "\n",
    "    if sum(1 for c in password if c.isupper()) < 2 or \\\n",
    "       sum(1 for c in password if c.islower()) < 2 or \\\n",
    "       sum(1 for c in password if c.isdigit()) == 0 or \\\n",
    "       len(re.findall(\"[!@#$%^&*()_+-=,.<>/?;':[\\]{}|~]\", password)) < 3:\n",
    "        return \"Invalid Password\"\n",
    "\n",
    "    return \"Valid Password\""
   ]
  },
  {
   "cell_type": "code",
   "execution_count": null,
   "metadata": {},
   "outputs": [
    {
     "data": {
      "text/plain": [
       "'Valid Password'"
      ]
     },
     "metadata": {},
     "output_type": "display_data"
    }
   ],
   "source": [
    "# Test Case 1 , Approach 2\n",
    "p1 = 'P$W@Skil!1'\n",
    "validate_password_alt(p1)"
   ]
  },
  {
   "cell_type": "code",
   "execution_count": null,
   "metadata": {},
   "outputs": [
    {
     "data": {
      "text/plain": [
       "'Invalid Password'"
      ]
     },
     "metadata": {},
     "output_type": "display_data"
    }
   ],
   "source": [
    "# Test Case 2, Approach 2\n",
    "p2 = 'Utkarsh1231200#'\n",
    "validate_password_alt(p2)"
   ]
  },
  {
   "cell_type": "code",
   "execution_count": null,
   "metadata": {},
   "outputs": [
    {
     "data": {
      "text/plain": [
       "'Valid Password'"
      ]
     },
     "metadata": {},
     "output_type": "display_data"
    }
   ],
   "source": [
    "# Test Case 3, Approach 2\n",
    "# Test case 3\n",
    "p3 = 'UtkArS3!@{'\n",
    "validate_password_alt(p3)"
   ]
  },
  {
   "attachments": {},
   "cell_type": "markdown",
   "metadata": {},
   "source": [
    "## Question 2: Solve the below questions using atleast 1 of the following :\n",
    "1. Lambda Function\n",
    "2. Filter Function\n",
    "3. Map Function\n",
    "4. Comprehension function\n",
    "---"
   ]
  },
  {
   "attachments": {},
   "cell_type": "markdown",
   "metadata": {},
   "source": [
    "## Answers :"
   ]
  },
  {
   "attachments": {},
   "cell_type": "markdown",
   "metadata": {},
   "source": [
    "* Check if String starts with a particular letter"
   ]
  },
  {
   "cell_type": "code",
   "execution_count": null,
   "metadata": {},
   "outputs": [
    {
     "name": "stdout",
     "output_type": "stream",
     "text": [
      "True\n",
      "True\n",
      "False\n"
     ]
    }
   ],
   "source": [
    "# Checking if string starts with letter H using lambda function\n",
    "# Used lower function for case unification\n",
    "string_starts_with_h = lambda s : s[0].lower()=='h'\n",
    "\n",
    "# Examples\n",
    "print(string_starts_with_h('Heart'))\n",
    "print(string_starts_with_h('harting'))\n",
    "print(string_starts_with_h('Utkarsh'))"
   ]
  },
  {
   "attachments": {},
   "cell_type": "markdown",
   "metadata": {},
   "source": [
    "* Check if string is numeric"
   ]
  },
  {
   "cell_type": "code",
   "execution_count": null,
   "metadata": {},
   "outputs": [
    {
     "name": "stdout",
     "output_type": "stream",
     "text": [
      "True\n",
      "False\n",
      "False\n",
      "True\n",
      "True\n",
      "False\n"
     ]
    }
   ],
   "source": [
    "# Checking wether string is numeric using 2 lambda functions\n",
    "is_numeric = lambda q: q.replace('.','',1).isdigit()\n",
    "is_numeric_including_negative = lambda r: is_numeric(r[1:]) if r[0]=='-' else is_numeric(r)\n",
    "print(is_numeric_including_negative('-123.34569'))\n",
    "print(is_numeric_including_negative('asf1234'))\n",
    "print(is_numeric_including_negative('1234-'))\n",
    "print(is_numeric_including_negative('95'))\n",
    "print(is_numeric_including_negative('-13'))\n",
    "print(is_numeric_including_negative('123.123.34'))"
   ]
  },
  {
   "attachments": {},
   "cell_type": "markdown",
   "metadata": {},
   "source": [
    "* Sort a list of tuples having fruit name and their quantity : [('mango',99),('orange',80),('grapes',1000)]"
   ]
  },
  {
   "cell_type": "code",
   "execution_count": null,
   "metadata": {},
   "outputs": [
    {
     "data": {
      "text/plain": [
       "[('orange', 80), ('mango', 99), ('grapes', 1000)]"
      ]
     },
     "metadata": {},
     "output_type": "display_data"
    }
   ],
   "source": [
    "# using lambda function and inbuilt function sorted\n",
    "fruits = [('mango',99),('orange',80),('grapes',1000)]\n",
    "sorted_fruits = sorted(fruits,key = lambda x:x[1])\n",
    "sorted_fruits"
   ]
  },
  {
   "attachments": {},
   "cell_type": "markdown",
   "metadata": {},
   "source": [
    "* Find squares of numbers from 1 to 10"
   ]
  },
  {
   "cell_type": "code",
   "execution_count": null,
   "metadata": {},
   "outputs": [
    {
     "data": {
      "text/plain": [
       "[1, 4, 9, 16, 25, 36, 49, 64, 81, 100]"
      ]
     },
     "metadata": {},
     "output_type": "display_data"
    }
   ],
   "source": [
    "# Using list comprehension\n",
    "sqr = [i*i for i in range(1,11)]\n",
    "sqr"
   ]
  },
  {
   "attachments": {},
   "cell_type": "markdown",
   "metadata": {},
   "source": [
    "* Find cube root of numbers from 1 to 10"
   ]
  },
  {
   "cell_type": "code",
   "execution_count": null,
   "metadata": {},
   "outputs": [
    {
     "data": {
      "text/plain": [
       "[1.0,\n",
       " 1.2599210498948732,\n",
       " 1.4422495703074083,\n",
       " 1.5874010519681994,\n",
       " 1.7099759466766968,\n",
       " 1.8171205928321397,\n",
       " 1.912931182772389,\n",
       " 2.0,\n",
       " 2.080083823051904,\n",
       " 2.154434690031884]"
      ]
     },
     "metadata": {},
     "output_type": "display_data"
    }
   ],
   "source": [
    "# Using Map and Lambda function\n",
    "cube_roots = map(lambda x : x**(1/3), range(1,11))\n",
    "list(cube_roots)"
   ]
  },
  {
   "attachments": {},
   "cell_type": "markdown",
   "metadata": {},
   "source": [
    "* Check if given number is even"
   ]
  },
  {
   "cell_type": "code",
   "execution_count": null,
   "metadata": {},
   "outputs": [
    {
     "name": "stdout",
     "output_type": "stream",
     "text": [
      "False\n",
      "True\n",
      "False\n",
      "True\n",
      "False\n",
      "False\n"
     ]
    }
   ],
   "source": [
    "# Using Lambda function\n",
    "is_even = lambda x : x%2==0\n",
    "print(is_even(1))\n",
    "print(is_even(2))\n",
    "print(is_even(3))\n",
    "print(is_even(4))\n",
    "print(is_even(5))\n",
    "print(is_even(7))"
   ]
  },
  {
   "attachments": {},
   "cell_type": "markdown",
   "metadata": {},
   "source": [
    "* Filter odd numbers from given list : [1,2,3,4,5,6,7,8,9,10]"
   ]
  },
  {
   "cell_type": "code",
   "execution_count": null,
   "metadata": {},
   "outputs": [
    {
     "data": {
      "text/plain": [
       "[1, 3, 5, 7, 9]"
      ]
     },
     "metadata": {},
     "output_type": "display_data"
    }
   ],
   "source": [
    "# Using filter and lambda function\n",
    "lst = [1,2,3,4,5,6,7,8,9,10]\n",
    "list(filter(lambda x: x%2 != 0,lst))"
   ]
  },
  {
   "attachments": {},
   "cell_type": "markdown",
   "metadata": {},
   "source": [
    "* Sort a list of integers into positive and negative integers list : [1,2,3,4,5,6,-1,-2,-3,-4,-5,0]"
   ]
  },
  {
   "cell_type": "code",
   "execution_count": null,
   "metadata": {},
   "outputs": [
    {
     "name": "stdout",
     "output_type": "stream",
     "text": [
      "[1, 2, 3, 4, 5, 6]\n",
      "[-5, -4, -3, -2, -1]\n"
     ]
    }
   ],
   "source": [
    "# Using list comprehension\n",
    "# Please note that 0 is neither positive nor negative according to mathematical definition\n",
    "# Used sorted function to sort in ascending order\n",
    "lst = [1,2,3,4,5,6,-1,-2,-3,-4,-5,0]\n",
    "positive_list = sorted([i for i in lst if i>0])\n",
    "negative_list = sorted([i for i in lst if i<0])\n",
    "print(positive_list)\n",
    "print(negative_list)"
   ]
  },
  {
   "attachments": {},
   "cell_type": "markdown",
   "metadata": {},
   "source": [
    "Note: 0 is not Shown in above example because it is neither positive , nor negative according to Mathematical Definition"
   ]
  }
 ],
 "metadata": {
  "language_info": {
   "name": "python"
  },
  "orig_nbformat": 4
 },
 "nbformat": 4,
 "nbformat_minor": 2
}
