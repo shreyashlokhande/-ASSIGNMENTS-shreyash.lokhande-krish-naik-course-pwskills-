{
 "cells": [
  {
   "cell_type": "code",
   "execution_count": 33,
   "id": "74ce191b",
   "metadata": {},
   "outputs": [],
   "source": [
    "#DAY 2"
   ]
  },
  {
   "cell_type": "code",
   "execution_count": 34,
   "id": "7d4579ac",
   "metadata": {},
   "outputs": [
    {
     "name": "stdout",
     "output_type": "stream",
     "text": [
      "my age is  32\n"
     ]
    }
   ],
   "source": [
    "age=32\n",
    "print(\"my age is \",age)"
   ]
  },
  {
   "cell_type": "code",
   "execution_count": 35,
   "id": "2e40d893",
   "metadata": {},
   "outputs": [
    {
     "name": "stdout",
     "output_type": "stream",
     "text": [
      "My age is: {age}\n",
      "My age is: 32\n"
     ]
    }
   ],
   "source": [
    "## f string\n",
    "print(\"My age is: {age}\")\n",
    "print(f\"My age is: {age}\")\n"
   ]
  },
  {
   "cell_type": "code",
   "execution_count": 36,
   "id": "d90b091c",
   "metadata": {},
   "outputs": [
    {
     "name": "stdout",
     "output_type": "stream",
     "text": [
      "My name is Shreyash and age is 23\n"
     ]
    }
   ],
   "source": [
    "## format()\n",
    "name=\"Shreyash\"\n",
    "age=23\n",
    "print(\"My name is {} and age is {}\".format(name,age))"
   ]
  },
  {
   "cell_type": "code",
   "execution_count": 37,
   "id": "d425973f",
   "metadata": {},
   "outputs": [
    {
     "name": "stdout",
     "output_type": "stream",
     "text": [
      "My name is Shreyash and age is 23\n"
     ]
    }
   ],
   "source": [
    "##placeholder format()\n",
    "print(\"My name is {firstname} and age is {firstage}\".format(firstage=age, firstname=name))"
   ]
  },
  {
   "cell_type": "code",
   "execution_count": 38,
   "id": "97c1f759",
   "metadata": {},
   "outputs": [
    {
     "data": {
      "text/plain": [
       "'My age is 23 and I havew completed: my degree of BE with the name of Shreyash Lokhande'"
      ]
     },
     "execution_count": 38,
     "metadata": {},
     "output_type": "execute_result"
    }
   ],
   "source": [
    "name=\"Shreyash Lokhande\"\n",
    "age=23\n",
    "degree=\"BE\"\n",
    "\n",
    "\"My age is 23 and I havew completed: my degree of BE with the name of Shreyash Lokhande\""
   ]
  },
  {
   "cell_type": "code",
   "execution_count": 39,
   "id": "ecff3d1f",
   "metadata": {},
   "outputs": [
    {
     "name": "stdout",
     "output_type": "stream",
     "text": [
      "My age is 23 and I have completed: my degree of BE with the name of Shreyash Lokhande\n"
     ]
    }
   ],
   "source": [
    "print(\"My age is {} and I have completed: my degree of {} with the name of {}\".format(age,degree,name))"
   ]
  },
  {
   "cell_type": "code",
   "execution_count": 40,
   "id": "cc56e9f0",
   "metadata": {},
   "outputs": [
    {
     "name": "stdout",
     "output_type": "stream",
     "text": [
      "My age is 23 and I have completed: my degree of BE with the name of Shreyash Lokhande\n"
     ]
    }
   ],
   "source": [
    "print(\"My age is {myage} and I have completed: my degree of {mydegree} with the name of {myname}\".format(myname=name, myage=age, mydegree=degree))"
   ]
  },
  {
   "cell_type": "code",
   "execution_count": 41,
   "id": "faa0402c",
   "metadata": {},
   "outputs": [],
   "source": [
    "##control Flow\n",
    "## Descision Makeing Statement"
   ]
  },
  {
   "cell_type": "code",
   "execution_count": 42,
   "id": "9ea0e1f8",
   "metadata": {},
   "outputs": [
    {
     "name": "stdout",
     "output_type": "stream",
     "text": [
      "You are eligable to vote\n"
     ]
    }
   ],
   "source": [
    "## If Statetment\n",
    "age =18\n",
    "if age>=18:\n",
    "    print(\"You are eligable to vote\")\n",
    "    "
   ]
  },
  {
   "cell_type": "code",
   "execution_count": 43,
   "id": "69bb3b64",
   "metadata": {},
   "outputs": [],
   "source": [
    "age =18\n",
    "if age<18:\n",
    "    print(\"You are eligable to vote\")\n",
    "    "
   ]
  },
  {
   "cell_type": "code",
   "execution_count": 44,
   "id": "9845df9a",
   "metadata": {},
   "outputs": [
    {
     "name": "stdout",
     "output_type": "stream",
     "text": [
      "you are not eligable to vote\n"
     ]
    }
   ],
   "source": [
    "age =18\n",
    "if age<18:\n",
    "    print(\"You are eligable to vote\")\n",
    "else:\n",
    "    print(\"you are not eligable to vote\")"
   ]
  },
  {
   "cell_type": "code",
   "execution_count": 45,
   "id": "2fad0610",
   "metadata": {},
   "outputs": [
    {
     "data": {
      "text/plain": [
       "''"
      ]
     },
     "execution_count": 45,
     "metadata": {},
     "output_type": "execute_result"
    }
   ],
   "source": [
    "input()"
   ]
  },
  {
   "cell_type": "code",
   "execution_count": 46,
   "id": "43e4a9de",
   "metadata": {},
   "outputs": [],
   "source": [
    "name=input(\"Enter you name\")"
   ]
  },
  {
   "cell_type": "code",
   "execution_count": 47,
   "id": "20fc1766",
   "metadata": {},
   "outputs": [
    {
     "ename": "ValueError",
     "evalue": "invalid literal for int() with base 10: ''",
     "output_type": "error",
     "traceback": [
      "\u001b[1;31m---------------------------------------------------------------------------\u001b[0m",
      "\u001b[1;31mValueError\u001b[0m                                Traceback (most recent call last)",
      "\u001b[1;32m~\\AppData\\Local\\Temp/ipykernel_15208/1774948449.py\u001b[0m in \u001b[0;36m<module>\u001b[1;34m\u001b[0m\n\u001b[1;32m----> 1\u001b[1;33m \u001b[0mage\u001b[0m\u001b[1;33m=\u001b[0m\u001b[0mint\u001b[0m\u001b[1;33m(\u001b[0m\u001b[0minput\u001b[0m\u001b[1;33m(\u001b[0m\u001b[1;34m\"Enter your age\"\u001b[0m\u001b[1;33m)\u001b[0m\u001b[1;33m)\u001b[0m\u001b[1;31m#task 1\u001b[0m\u001b[1;33m\u001b[0m\u001b[1;33m\u001b[0m\u001b[0m\n\u001b[0m\u001b[0;32m      2\u001b[0m \u001b[0mage\u001b[0m\u001b[1;33m=\u001b[0m\u001b[0mint\u001b[0m\u001b[1;33m(\u001b[0m\u001b[0minput\u001b[0m\u001b[1;33m(\u001b[0m\u001b[1;34m\"Enter you age\"\u001b[0m\u001b[1;33m)\u001b[0m\u001b[1;33m)\u001b[0m\u001b[1;33m\u001b[0m\u001b[1;33m\u001b[0m\u001b[0m\n\u001b[0;32m      3\u001b[0m \u001b[1;32mif\u001b[0m \u001b[0mage\u001b[0m\u001b[1;33m>=\u001b[0m\u001b[1;36m18\u001b[0m \u001b[1;32mand\u001b[0m \u001b[0mage\u001b[0m\u001b[1;33m<=\u001b[0m\u001b[1;36m45\u001b[0m\u001b[1;33m:\u001b[0m\u001b[1;33m\u001b[0m\u001b[1;33m\u001b[0m\u001b[0m\n\u001b[0;32m      4\u001b[0m     \u001b[0mprint\u001b[0m\u001b[1;33m(\u001b[0m\u001b[1;34m\"You are young blood\"\u001b[0m\u001b[1;33m)\u001b[0m\u001b[1;33m\u001b[0m\u001b[1;33m\u001b[0m\u001b[0m\n",
      "\u001b[1;31mValueError\u001b[0m: invalid literal for int() with base 10: ''"
     ]
    }
   ],
   "source": [
    "age=int(input(\"Enter your age\"))#task 1\n",
    "age=int(input(\"Enter you age\"))\n",
    "if age>=18 and age<=45:\n",
    "    print(\"You are young blood\")"
   ]
  },
  {
   "cell_type": "code",
   "execution_count": 48,
   "id": "bc5c6749",
   "metadata": {},
   "outputs": [
    {
     "ename": "ValueError",
     "evalue": "invalid literal for int() with base 10: ''",
     "output_type": "error",
     "traceback": [
      "\u001b[1;31m---------------------------------------------------------------------------\u001b[0m",
      "\u001b[1;31mValueError\u001b[0m                                Traceback (most recent call last)",
      "\u001b[1;32m~\\AppData\\Local\\Temp/ipykernel_15208/1067463259.py\u001b[0m in \u001b[0;36m<module>\u001b[1;34m\u001b[0m\n\u001b[0;32m      1\u001b[0m \u001b[1;31m#if else\u001b[0m\u001b[1;33m\u001b[0m\u001b[1;33m\u001b[0m\u001b[0m\n\u001b[1;32m----> 2\u001b[1;33m \u001b[0mage\u001b[0m\u001b[1;33m=\u001b[0m\u001b[0mint\u001b[0m\u001b[1;33m(\u001b[0m\u001b[0minput\u001b[0m\u001b[1;33m(\u001b[0m\u001b[1;34m\"Enter you age\"\u001b[0m\u001b[1;33m)\u001b[0m\u001b[1;33m)\u001b[0m\u001b[1;33m\u001b[0m\u001b[1;33m\u001b[0m\u001b[0m\n\u001b[0m\u001b[0;32m      3\u001b[0m \u001b[1;32mif\u001b[0m \u001b[0mage\u001b[0m\u001b[1;33m>=\u001b[0m\u001b[1;36m18\u001b[0m \u001b[1;32mand\u001b[0m \u001b[0mage\u001b[0m\u001b[1;33m<=\u001b[0m\u001b[1;36m45\u001b[0m\u001b[1;33m:\u001b[0m\u001b[1;33m\u001b[0m\u001b[1;33m\u001b[0m\u001b[0m\n\u001b[0;32m      4\u001b[0m     \u001b[0mprint\u001b[0m\u001b[1;33m(\u001b[0m\u001b[1;34m\"You are young blood\"\u001b[0m\u001b[1;33m)\u001b[0m\u001b[1;33m\u001b[0m\u001b[1;33m\u001b[0m\u001b[0m\n\u001b[0;32m      5\u001b[0m \u001b[1;32melse\u001b[0m\u001b[1;33m:\u001b[0m\u001b[1;33m\u001b[0m\u001b[1;33m\u001b[0m\u001b[0m\n",
      "\u001b[1;31mValueError\u001b[0m: invalid literal for int() with base 10: ''"
     ]
    }
   ],
   "source": [
    "#if else\n",
    "age=int(input(\"Enter you age\"))\n",
    "if age>=18 and age<=45:\n",
    "    print(\"You are young blood\")\n",
    "else:\n",
    "    print(\"Thank you we will let you know\")"
   ]
  },
  {
   "cell_type": "code",
   "execution_count": null,
   "id": "c2c1c7a7",
   "metadata": {},
   "outputs": [],
   "source": [
    "##task2 \n",
    "\n",
    "price=int(input(\"Enter Product MRP\"))\n",
    "\n",
    "if price<=1000:\n",
    "    print(\"30% Off, Final price is {}\".format(price*0.7))\n",
    "else:\n",
    "    print(\"20% Off, Final price is {}\".format(price*0.8))\n",
    "    "
   ]
  },
  {
   "cell_type": "code",
   "execution_count": null,
   "id": "7a989fa8",
   "metadata": {},
   "outputs": [],
   "source": [
    "##task3\n",
    "price=int(input(\"Enter the Product MRP\"))\n",
    "\n",
    "if price > 3000:\n",
    "    print(f\"20% OFF, Final price is {price*0.8} You Saved Rs {price*0.2}\")\n",
    "elif price>=2000 and price<=3000:\n",
    "    if price==2999:\n",
    "        print(\"CONGORULATION you got additional gift\")\n",
    "    print(f\"30% OFF, Final price is {price*0.7} You Saved Rs {price*0.3}\")\n",
    "    \n",
    "elif price<=1000 and price<=2000:\n",
    "    print(f\"40% OFF, Final price is {price*0.6} You Saved Rs {price*0.4}\")"
   ]
  },
  {
   "cell_type": "code",
   "execution_count": 49,
   "id": "791e5f46",
   "metadata": {},
   "outputs": [
    {
     "name": "stdout",
     "output_type": "stream",
     "text": [
      "23\n",
      "24\n",
      "25\n",
      "26\n",
      "27\n",
      "28\n",
      "29\n",
      "30\n",
      "31\n",
      "32\n",
      "33\n",
      "34\n",
      "35\n",
      "36\n",
      "37\n",
      "38\n",
      "39\n",
      "40\n",
      "41\n",
      "42\n",
      "43\n",
      "44\n",
      "45\n",
      "46\n",
      "47\n",
      "48\n",
      "49\n",
      "50\n",
      "51\n",
      "52\n",
      "53\n",
      "54\n",
      "55\n",
      "56\n",
      "57\n",
      "58\n",
      "59\n",
      "60\n",
      "You are retired\n"
     ]
    }
   ],
   "source": [
    "joining_age=23\n",
    "while joining_age<=60:\n",
    "    print(joining_age)\n",
    "    joining_age=joining_age+1\n",
    "else:\n",
    "    print(\"You are retired\")"
   ]
  },
  {
   "cell_type": "code",
   "execution_count": 50,
   "id": "dcdb5989",
   "metadata": {},
   "outputs": [
    {
     "name": "stdout",
     "output_type": "stream",
     "text": [
      "Cash Remaining:1000\n",
      "Cash Remaining:900\n",
      "Cash Remaining:800\n",
      "Cash Remaining:700\n",
      "Cash Remaining:600\n",
      "Cash Remaining:500\n",
      "Cash Remaining:400\n",
      "Cash Remaining:300\n",
      "Cash Remaining:200\n",
      "Cash Remaining:100\n",
      "No Cash in ATM\n"
     ]
    }
   ],
   "source": [
    "##  while\n",
    "##Task 4\n",
    "#ATM machine with 1000rs while amount =100\n",
    "\n",
    "total_amount=1000\n",
    "while total_amount!=0:      #while this condition is not true the ittiration will be running continoue\n",
    "    print(f\"Cash Remaining:{total_amount}\")\n",
    "    total_amount=total_amount-100\n",
    "else:\n",
    "     print(\"No Cash in ATM\")"
   ]
  },
  {
   "cell_type": "code",
   "execution_count": 51,
   "id": "44476d8f",
   "metadata": {},
   "outputs": [],
   "source": [
    "fruit_list = [\"mango\",\"Cherry\",\"Apple\",\"Pappya\",\"Banana\"]"
   ]
  },
  {
   "cell_type": "code",
   "execution_count": 54,
   "id": "cdbc93c7",
   "metadata": {},
   "outputs": [
    {
     "name": "stdout",
     "output_type": "stream",
     "text": [
      "mangoCherryApplePappyaBanana"
     ]
    }
   ],
   "source": [
    "for i in fruit_list:\n",
    "    print(i,end=\"\")"
   ]
  },
  {
   "cell_type": "code",
   "execution_count": null,
   "id": "5b34cc89",
   "metadata": {},
   "outputs": [],
   "source": []
  },
  {
   "cell_type": "code",
   "execution_count": 6,
   "id": "c4be311c",
   "metadata": {},
   "outputs": [
    {
     "name": "stdout",
     "output_type": "stream",
     "text": [
      "Cash Remaining:1000\n",
      "Cash Remaining:900\n",
      "Cash Remaining:800\n",
      "Cash Remaining:700\n",
      "Cash Remaining:600\n",
      "Cash Remaining:500\n",
      "Cash Remaining:400\n",
      "Cash Remaining:300\n",
      "Cash Remaining:200\n",
      "Cash Remaining:100\n",
      "No Cash in ATM\n"
     ]
    }
   ],
   "source": [
    "#Task 4\n",
    "#ATM machine with 1000rs while amount =100\n",
    "total_amount=1000\n",
    "while total_amount!=0:      \n",
    "    print(f\"Cash Remaining:{total_amount}\")\n",
    "    total_amount=total_amount-100\n",
    "else:\n",
    "     print(\"No Cash in ATM\")"
   ]
  },
  {
   "cell_type": "code",
   "execution_count": 8,
   "id": "2536fd32",
   "metadata": {},
   "outputs": [],
   "source": [
    "## for loop\n",
    "\n",
    "List=[\"Shreyash\",1,4,6,\"Raj\",\"Babbar\"]"
   ]
  },
  {
   "cell_type": "code",
   "execution_count": 9,
   "id": "5b2bbd0b",
   "metadata": {},
   "outputs": [
    {
     "data": {
      "text/plain": [
       "list"
      ]
     },
     "execution_count": 9,
     "metadata": {},
     "output_type": "execute_result"
    }
   ],
   "source": [
    "type(List)"
   ]
  },
  {
   "cell_type": "code",
   "execution_count": 10,
   "id": "c8d126e0",
   "metadata": {},
   "outputs": [
    {
     "data": {
      "text/plain": [
       "'Raj'"
      ]
     },
     "execution_count": 10,
     "metadata": {},
     "output_type": "execute_result"
    }
   ],
   "source": [
    "List[4]"
   ]
  },
  {
   "cell_type": "code",
   "execution_count": 12,
   "id": "05da9320",
   "metadata": {},
   "outputs": [
    {
     "name": "stdout",
     "output_type": "stream",
     "text": [
      "Shreyash\n",
      "1\n",
      "4\n",
      "6\n",
      "Raj\n",
      "Babbar\n"
     ]
    }
   ],
   "source": [
    "##itriate(move,point) List using For loop\n",
    "\n",
    "for x in List:\n",
    "    print(x)"
   ]
  },
  {
   "cell_type": "code",
   "execution_count": 1,
   "id": "e05f9f52",
   "metadata": {},
   "outputs": [],
   "source": [
    "fruit_list = [\"mango\",\"Cherry\",\"Apple\",\"Pappya\",\"Banana\"]"
   ]
  },
  {
   "cell_type": "code",
   "execution_count": 2,
   "id": "6a4b1066",
   "metadata": {},
   "outputs": [
    {
     "name": "stdout",
     "output_type": "stream",
     "text": [
      "mangoCherryThe Fruit is cherry\n",
      "ApplePappyaBanana"
     ]
    }
   ],
   "source": [
    "for i in fruit_list:\n",
    "    print(i,end=\"\")\n",
    "    if i==\"Cherry\":\n",
    "        print(\"The Fruit is cherry\")"
   ]
  },
  {
   "cell_type": "code",
   "execution_count": 3,
   "id": "f26f0e6b",
   "metadata": {},
   "outputs": [
    {
     "name": "stdout",
     "output_type": "stream",
     "text": [
      "M\n",
      "A\n",
      "N\n",
      "G\n",
      "O\n"
     ]
    }
   ],
   "source": [
    "fruit=\"MANGO\"\n",
    "for i in fruit:\n",
    "    print(i)"
   ]
  },
  {
   "cell_type": "code",
   "execution_count": 4,
   "id": "10597cfa",
   "metadata": {},
   "outputs": [
    {
     "name": "stdout",
     "output_type": "stream",
     "text": [
      "MANGO"
     ]
    }
   ],
   "source": [
    "fruit=\"MANGO\"\n",
    "for i in fruit:\n",
    "    print(i,end=\"\")"
   ]
  },
  {
   "cell_type": "code",
   "execution_count": 5,
   "id": "a7cd3809",
   "metadata": {},
   "outputs": [],
   "source": [
    "# Nested Loops"
   ]
  },
  {
   "cell_type": "code",
   "execution_count": 6,
   "id": "6eb36fd3",
   "metadata": {},
   "outputs": [
    {
     "data": {
      "text/plain": [
       "range(1, 6)"
      ]
     },
     "execution_count": 6,
     "metadata": {},
     "output_type": "execute_result"
    }
   ],
   "source": [
    "n=7\n",
    "\n",
    "## range()\n",
    "range(1,6)"
   ]
  },
  {
   "cell_type": "code",
   "execution_count": 7,
   "id": "092a002e",
   "metadata": {},
   "outputs": [
    {
     "name": "stdout",
     "output_type": "stream",
     "text": [
      "1\n",
      "2\n",
      "3\n",
      "4\n",
      "5\n"
     ]
    }
   ],
   "source": [
    "for i in range(1,6):\n",
    "    print(i)"
   ]
  },
  {
   "cell_type": "code",
   "execution_count": 8,
   "id": "8170796b",
   "metadata": {},
   "outputs": [
    {
     "name": "stdout",
     "output_type": "stream",
     "text": [
      "1\n",
      "3\n",
      "5\n"
     ]
    }
   ],
   "source": [
    "for i in range(1,6,2):\n",
    "    print(i)"
   ]
  },
  {
   "cell_type": "code",
   "execution_count": 12,
   "id": "9ae5aad4",
   "metadata": {},
   "outputs": [
    {
     "name": "stdout",
     "output_type": "stream",
     "text": [
      "2\n",
      "4\n",
      "6\n"
     ]
    }
   ],
   "source": [
    "for i in range(2,7,2):\n",
    "    print(i)"
   ]
  },
  {
   "cell_type": "code",
   "execution_count": 16,
   "id": "fb37187b",
   "metadata": {},
   "outputs": [
    {
     "name": "stdout",
     "output_type": "stream",
     "text": [
      "*\n",
      "**\n",
      "***\n",
      "****\n",
      "*****\n",
      "******\n",
      "*******\n"
     ]
    }
   ],
   "source": [
    "for i in range(0,n):\n",
    "    for j in range(0,i+1):\n",
    "        print(\"*\",end=\"\")\n",
    "    print(\"\\r\")    \n"
   ]
  },
  {
   "cell_type": "code",
   "execution_count": 17,
   "id": "f78b42f2",
   "metadata": {},
   "outputs": [],
   "source": [
    "## loop control\n",
    "## Braek\n",
    "##Continue"
   ]
  },
  {
   "cell_type": "code",
   "execution_count": 18,
   "id": "034d5458",
   "metadata": {},
   "outputs": [],
   "source": [
    "fruit_list = [\"mango\",\"Cherry\",\"Apple\",\"Pappya\",\"Banana\"]"
   ]
  },
  {
   "cell_type": "code",
   "execution_count": 24,
   "id": "9a507847",
   "metadata": {},
   "outputs": [
    {
     "name": "stdout",
     "output_type": "stream",
     "text": [
      "mango\n",
      "Cherry\n",
      "Fruiit is apple\n",
      "Apple\n",
      "Pappya\n",
      "Banana\n"
     ]
    }
   ],
   "source": [
    "for i in fruit_list:\n",
    "    if i == \"Apple\":\n",
    "        print(\"Fruiit is apple\")\n",
    "    print(i)    "
   ]
  },
  {
   "cell_type": "code",
   "execution_count": 28,
   "id": "be7abc83",
   "metadata": {},
   "outputs": [
    {
     "name": "stdout",
     "output_type": "stream",
     "text": [
      "mango\n",
      "Cherry\n",
      "Fruit is apple\n"
     ]
    }
   ],
   "source": [
    "#break   ## It Will skip entire ramiaining loop\n",
    "\n",
    "for i in fruit_list:\n",
    "    if i == \"Apple\":\n",
    "        print(\"Fruit is apple\")\n",
    "        break\n",
    "    print(i)    "
   ]
  },
  {
   "cell_type": "code",
   "execution_count": 29,
   "id": "2c6e4e1f",
   "metadata": {},
   "outputs": [
    {
     "name": "stdout",
     "output_type": "stream",
     "text": [
      "mango\n",
      "Cherry\n",
      "Fruit is apple\n",
      "Apple\n",
      "Pappya\n",
      "Banana\n"
     ]
    }
   ],
   "source": [
    "#pass   ## It Will pass (default)\n",
    "for i in fruit_list:\n",
    "    if i == \"Apple\":\n",
    "        print(\"Fruit is apple\")\n",
    "        pass\n",
    "    print(i)    "
   ]
  },
  {
   "cell_type": "code",
   "execution_count": 30,
   "id": "7c26b798",
   "metadata": {},
   "outputs": [
    {
     "name": "stdout",
     "output_type": "stream",
     "text": [
      "mango\n",
      "Cherry\n",
      "Fruit is apple\n",
      "Pappya\n",
      "Banana\n"
     ]
    }
   ],
   "source": [
    "#continue   ## It Will just skip one step\n",
    "for i in fruit_list:\n",
    "    if i == \"Apple\":\n",
    "        print(\"Fruit is apple\")\n",
    "        continue\n",
    "    print(i)   "
   ]
  },
  {
   "cell_type": "code",
   "execution_count": null,
   "id": "40779be1",
   "metadata": {},
   "outputs": [],
   "source": []
  }
 ],
 "metadata": {
  "kernelspec": {
   "display_name": "base",
   "language": "python",
   "name": "python3"
  },
  "language_info": {
   "codemirror_mode": {
    "name": "ipython",
    "version": 3
   },
   "file_extension": ".py",
   "mimetype": "text/x-python",
   "name": "python",
   "nbconvert_exporter": "python",
   "pygments_lexer": "ipython3",
   "version": "3.9.7"
  },
  "vscode": {
   "interpreter": {
    "hash": "5ae58900cfbb8c43ab3495913814b7cf26024f51651a94ce8bf64d6111688e8d"
   }
  }
 },
 "nbformat": 4,
 "nbformat_minor": 5
}
