{
 "cells": [
  {
   "cell_type": "markdown",
   "id": "f5323c53-44cb-4657-9556-248e4ad25f1d",
   "metadata": {},
   "source": [
    "### Shortcut\n",
    "### esc+A = add new cell"
   ]
  },
  {
   "cell_type": "code",
   "execution_count": 4,
   "id": "97de77e2-3a1c-400b-9f37-d34feb6f0e6a",
   "metadata": {},
   "outputs": [
    {
     "name": "stdout",
     "output_type": "stream",
     "text": [
      "here is a demo for \n",
      " new line\n"
     ]
    }
   ],
   "source": [
    "print(\"here is a demo for \\n new line\")"
   ]
  },
  {
   "cell_type": "code",
   "execution_count": 5,
   "id": "08d1e98c-a65d-430f-8f6d-b1b6c4a1dfa9",
   "metadata": {},
   "outputs": [
    {
     "data": {
      "text/plain": [
       "3"
      ]
     },
     "execution_count": 5,
     "metadata": {},
     "output_type": "execute_result"
    }
   ],
   "source": [
    "\"\"\" multiple \n",
    "line \n",
    "comments\"\"\"\n",
    "\n",
    "a=3\n",
    "a"
   ]
  },
  {
   "cell_type": "code",
   "execution_count": 6,
   "id": "ac609dc6-28f5-4c3c-a42d-fb642251f5e8",
   "metadata": {},
   "outputs": [
    {
     "data": {
      "text/plain": [
       "3"
      ]
     },
     "execution_count": 6,
     "metadata": {},
     "output_type": "execute_result"
    }
   ],
   "source": [
    "\n",
    "#line \n",
    "##comments\n",
    "\n",
    "a=3\n",
    "a"
   ]
  },
  {
   "cell_type": "code",
   "execution_count": 7,
   "id": "ff42a7d7-7671-4d43-b8bd-9888a5f4ec70",
   "metadata": {},
   "outputs": [],
   "source": [
    "name=\"raj\""
   ]
  },
  {
   "cell_type": "code",
   "execution_count": 8,
   "id": "03817e20-2236-4c4f-a0a0-26d126afad47",
   "metadata": {},
   "outputs": [],
   "source": [
    "name=\"Shreyash\""
   ]
  },
  {
   "cell_type": "code",
   "execution_count": 9,
   "id": "f24756a5-d87f-4c0c-b7ac-f5c92077756a",
   "metadata": {},
   "outputs": [
    {
     "data": {
      "text/plain": [
       "'Shreyash'"
      ]
     },
     "execution_count": 9,
     "metadata": {},
     "output_type": "execute_result"
    }
   ],
   "source": [
    "name \n",
    "# in memory name is overwritten"
   ]
  },
  {
   "cell_type": "code",
   "execution_count": 10,
   "id": "7585f062-f98c-42eb-90f2-d37c3c64dccd",
   "metadata": {},
   "outputs": [
    {
     "data": {
      "text/plain": [
       "''"
      ]
     },
     "execution_count": 10,
     "metadata": {},
     "output_type": "execute_result"
    }
   ],
   "source": [
    "\"\""
   ]
  },
  {
   "cell_type": "code",
   "execution_count": 11,
   "id": "5926a074-75cc-42c8-a19b-de1b6dfbf832",
   "metadata": {},
   "outputs": [
    {
     "data": {
      "text/plain": [
       "''"
      ]
     },
     "execution_count": 11,
     "metadata": {},
     "output_type": "execute_result"
    }
   ],
   "source": [
    "''"
   ]
  },
  {
   "cell_type": "code",
   "execution_count": 12,
   "id": "c0557ad7-bd5a-4069-a232-15741f4016b1",
   "metadata": {},
   "outputs": [
    {
     "data": {
      "text/plain": [
       "str"
      ]
     },
     "execution_count": 12,
     "metadata": {},
     "output_type": "execute_result"
    }
   ],
   "source": [
    "type(\"\")"
   ]
  },
  {
   "cell_type": "code",
   "execution_count": 13,
   "id": "e47061c2-f28a-4352-a6db-31d2073383b0",
   "metadata": {},
   "outputs": [
    {
     "data": {
      "text/plain": [
       "str"
      ]
     },
     "execution_count": 13,
     "metadata": {},
     "output_type": "execute_result"
    }
   ],
   "source": [
    "type('')"
   ]
  },
  {
   "cell_type": "code",
   "execution_count": 14,
   "id": "4ea51989-5354-4ed8-a176-dbd81346c954",
   "metadata": {},
   "outputs": [
    {
     "data": {
      "text/plain": [
       "str"
      ]
     },
     "execution_count": 14,
     "metadata": {},
     "output_type": "execute_result"
    }
   ],
   "source": [
    "type(name)"
   ]
  },
  {
   "cell_type": "code",
   "execution_count": 15,
   "id": "f0769176-cf72-461a-b697-3f90181b49ef",
   "metadata": {},
   "outputs": [
    {
     "data": {
      "text/plain": [
       "int"
      ]
     },
     "execution_count": 15,
     "metadata": {},
     "output_type": "execute_result"
    }
   ],
   "source": [
    "number = 55\n",
    "type(number)"
   ]
  },
  {
   "cell_type": "code",
   "execution_count": 16,
   "id": "dd195dcf-0e05-4a5b-98a7-1d7d01b0ccec",
   "metadata": {},
   "outputs": [],
   "source": [
    "decimal_num=2.5"
   ]
  },
  {
   "cell_type": "code",
   "execution_count": 17,
   "id": "ed06dd71-feac-438b-ab8f-3382a6cbbea6",
   "metadata": {},
   "outputs": [
    {
     "data": {
      "text/plain": [
       "float"
      ]
     },
     "execution_count": 17,
     "metadata": {},
     "output_type": "execute_result"
    }
   ],
   "source": [
    "type(decimal_num)"
   ]
  },
  {
   "cell_type": "markdown",
   "id": "99fa8487-44f1-47ee-9651-515c1ee950a0",
   "metadata": {},
   "source": [
    "### Shortcut\n",
    "### dec + tab  = decimal_num"
   ]
  },
  {
   "cell_type": "code",
   "execution_count": 18,
   "id": "d67c4db7-46ef-4e72-a55f-ea8b8e4bb23e",
   "metadata": {},
   "outputs": [
    {
     "data": {
      "text/plain": [
       "2.5"
      ]
     },
     "execution_count": 18,
     "metadata": {},
     "output_type": "execute_result"
    }
   ],
   "source": [
    "decimal_num"
   ]
  },
  {
   "cell_type": "code",
   "execution_count": 19,
   "id": "dfe9b985-6aa2-40f5-9cfe-6bbc81ae4b45",
   "metadata": {},
   "outputs": [
    {
     "data": {
      "text/plain": [
       "(1+2j)"
      ]
     },
     "execution_count": 19,
     "metadata": {},
     "output_type": "execute_result"
    }
   ],
   "source": [
    "1+2j"
   ]
  },
  {
   "cell_type": "code",
   "execution_count": 20,
   "id": "687cdca9-1786-4d34-a3aa-9f69a61030d5",
   "metadata": {},
   "outputs": [
    {
     "data": {
      "text/plain": [
       "complex"
      ]
     },
     "execution_count": 20,
     "metadata": {},
     "output_type": "execute_result"
    }
   ],
   "source": [
    "type(1+2j)"
   ]
  },
  {
   "cell_type": "code",
   "execution_count": 21,
   "id": "ad911830-9b15-45b8-9913-38fe3aaa0b39",
   "metadata": {},
   "outputs": [
    {
     "ename": "SyntaxError",
     "evalue": "invalid decimal literal (3110267928.py, line 3)",
     "output_type": "error",
     "traceback": [
      "\u001b[0;36m  Cell \u001b[0;32mIn[21], line 3\u001b[0;36m\u001b[0m\n\u001b[0;31m    1a\u001b[0m\n\u001b[0m    ^\u001b[0m\n\u001b[0;31mSyntaxError\u001b[0m\u001b[0;31m:\u001b[0m invalid decimal literal\n"
     ]
    }
   ],
   "source": [
    "## bad way to take variable name\n",
    "## dont start with numbers\n",
    "1a\n",
    "3 answers"
   ]
  },
  {
   "cell_type": "code",
   "execution_count": 22,
   "id": "19c97632-c310-4292-a183-27c82a08ce9e",
   "metadata": {},
   "outputs": [],
   "source": [
    "##varaibles are case sensetive"
   ]
  },
  {
   "cell_type": "code",
   "execution_count": 23,
   "id": "14a34e17-088e-475c-8ae0-5c0e797f22d7",
   "metadata": {},
   "outputs": [
    {
     "data": {
      "text/plain": [
       "'\\nint,float,len,complex,bool,str,return,yield\\n'"
      ]
     },
     "execution_count": 23,
     "metadata": {},
     "output_type": "execute_result"
    }
   ],
   "source": [
    "## no reserved keywoard \n",
    "'''\n",
    "int,float,len,complex,bool,str,return,yield\n",
    "'''"
   ]
  },
  {
   "cell_type": "code",
   "execution_count": 24,
   "id": "6646d1db-cade-4835-8cb5-67efdc71c69d",
   "metadata": {},
   "outputs": [
    {
     "data": {
      "text/plain": [
       "True"
      ]
     },
     "execution_count": 24,
     "metadata": {},
     "output_type": "execute_result"
    }
   ],
   "source": [
    "##Boolean\n",
    "True"
   ]
  },
  {
   "cell_type": "code",
   "execution_count": 26,
   "id": "e8c1b94d-d579-47a9-99f8-cb0188bc9aa5",
   "metadata": {},
   "outputs": [
    {
     "data": {
      "text/plain": [
       "False"
      ]
     },
     "execution_count": 26,
     "metadata": {},
     "output_type": "execute_result"
    }
   ],
   "source": [
    "False"
   ]
  },
  {
   "cell_type": "code",
   "execution_count": 28,
   "id": "b04378ca-3e7e-45d3-946b-4e138b31f805",
   "metadata": {},
   "outputs": [
    {
     "data": {
      "text/plain": [
       "True"
      ]
     },
     "execution_count": 28,
     "metadata": {},
     "output_type": "execute_result"
    }
   ],
   "source": [
    "True or False"
   ]
  },
  {
   "cell_type": "code",
   "execution_count": 29,
   "id": "e236ed34-609b-47e5-bc69-8190834d5233",
   "metadata": {},
   "outputs": [
    {
     "data": {
      "text/plain": [
       "False"
      ]
     },
     "execution_count": 29,
     "metadata": {},
     "output_type": "execute_result"
    }
   ],
   "source": [
    "not True"
   ]
  },
  {
   "cell_type": "code",
   "execution_count": 30,
   "id": "ddee72b6-0c0e-409c-ba1b-d0ce9029c99a",
   "metadata": {},
   "outputs": [
    {
     "data": {
      "text/plain": [
       "False"
      ]
     },
     "execution_count": 30,
     "metadata": {},
     "output_type": "execute_result"
    }
   ],
   "source": [
    "True and False"
   ]
  },
  {
   "cell_type": "code",
   "execution_count": 32,
   "id": "7a9afd53-cae5-4533-beca-c25a4fb690ea",
   "metadata": {},
   "outputs": [
    {
     "data": {
      "text/plain": [
       "bool"
      ]
     },
     "execution_count": 32,
     "metadata": {},
     "output_type": "execute_result"
    }
   ],
   "source": [
    "type(False)"
   ]
  },
  {
   "cell_type": "code",
   "execution_count": null,
   "id": "5f772384-06d1-45b5-a435-adab8f1ae756",
   "metadata": {},
   "outputs": [],
   "source": [
    "## TypeCasting"
   ]
  },
  {
   "cell_type": "code",
   "execution_count": 35,
   "id": "6202bc08-d8b1-470a-8411-5e245788fca6",
   "metadata": {},
   "outputs": [
    {
     "data": {
      "text/plain": [
       "False"
      ]
     },
     "execution_count": 35,
     "metadata": {},
     "output_type": "execute_result"
    }
   ],
   "source": [
    "##TypeCasting\n",
    "bool(0)"
   ]
  },
  {
   "cell_type": "code",
   "execution_count": 38,
   "id": "f071f15b-f6a8-4a77-b003-c7c6c5887539",
   "metadata": {},
   "outputs": [
    {
     "data": {
      "text/plain": [
       "int"
      ]
     },
     "execution_count": 38,
     "metadata": {},
     "output_type": "execute_result"
    }
   ],
   "source": [
    "type(int('23'))"
   ]
  },
  {
   "cell_type": "code",
   "execution_count": 39,
   "id": "1919a9b3-e63d-477b-875e-6571d141e625",
   "metadata": {},
   "outputs": [
    {
     "data": {
      "text/plain": [
       "str"
      ]
     },
     "execution_count": 39,
     "metadata": {},
     "output_type": "execute_result"
    }
   ],
   "source": [
    "type(str(23))"
   ]
  },
  {
   "cell_type": "code",
   "execution_count": 36,
   "id": "12bc98c1-067b-4d20-8c37-4e36e91b1682",
   "metadata": {},
   "outputs": [
    {
     "name": "stdout",
     "output_type": "stream",
     "text": [
      "true\n"
     ]
    }
   ],
   "source": [
    "a=1\n",
    "if bool(a)==True:\n",
    "    print(\"true\")"
   ]
  },
  {
   "cell_type": "markdown",
   "id": "78feabed-938f-4d7d-8491-3cd8431ec1c1",
   "metadata": {},
   "source": [
    "### if you dont know any function press \n",
    "### SHIFT + R"
   ]
  },
  {
   "cell_type": "code",
   "execution_count": null,
   "id": "f5926ddb-40f6-4546-b736-d3f2970fd077",
   "metadata": {},
   "outputs": [],
   "source": []
  },
  {
   "cell_type": "markdown",
   "id": "ef3b6e70-6a36-4bd0-8332-ea485c901700",
   "metadata": {},
   "source": [
    "## Dynamic Typing"
   ]
  },
  {
   "cell_type": "code",
   "execution_count": 41,
   "id": "c716f2f1-5853-4689-b7ed-4d637a4d98c1",
   "metadata": {},
   "outputs": [],
   "source": [
    "## complier on a runtime understands wether input is intger or string or etc"
   ]
  },
  {
   "cell_type": "code",
   "execution_count": 43,
   "id": "83950d30-ea1c-4461-9540-651f7812b6f8",
   "metadata": {},
   "outputs": [
    {
     "name": "stdout",
     "output_type": "stream",
     "text": [
      "<class 'str'>\n"
     ]
    }
   ],
   "source": [
    "print(type('a'))"
   ]
  },
  {
   "cell_type": "code",
   "execution_count": 44,
   "id": "294d9e3e-997f-4937-a268-2a7d9e650a14",
   "metadata": {},
   "outputs": [
    {
     "data": {
      "text/plain": [
       "1"
      ]
     },
     "execution_count": 44,
     "metadata": {},
     "output_type": "execute_result"
    }
   ],
   "source": [
    "int(1.54)"
   ]
  },
  {
   "cell_type": "code",
   "execution_count": 45,
   "id": "430f2f54-30bc-4866-8dd6-7cf384cbadab",
   "metadata": {},
   "outputs": [],
   "source": [
    "## Concation between diffrent types"
   ]
  },
  {
   "cell_type": "code",
   "execution_count": 46,
   "id": "59e59130-dc64-4414-9aa9-2cbf0291f663",
   "metadata": {},
   "outputs": [
    {
     "data": {
      "text/plain": [
       "'11'"
      ]
     },
     "execution_count": 46,
     "metadata": {},
     "output_type": "execute_result"
    }
   ],
   "source": [
    "\"1\"+\"1\""
   ]
  },
  {
   "cell_type": "code",
   "execution_count": 47,
   "id": "f0138906-41a2-4b9d-b2ff-787d050f8748",
   "metadata": {},
   "outputs": [
    {
     "data": {
      "text/plain": [
       "2"
      ]
     },
     "execution_count": 47,
     "metadata": {},
     "output_type": "execute_result"
    }
   ],
   "source": [
    "int(\"1\") + int(\"1\")"
   ]
  },
  {
   "cell_type": "code",
   "execution_count": 48,
   "id": "32e80c1c-8609-4adf-a86d-e3a5913b6be4",
   "metadata": {},
   "outputs": [
    {
     "ename": "TypeError",
     "evalue": "unsupported operand type(s) for +: 'int' and 'str'",
     "output_type": "error",
     "traceback": [
      "\u001b[0;31m---------------------------------------------------------------------------\u001b[0m",
      "\u001b[0;31mTypeError\u001b[0m                                 Traceback (most recent call last)",
      "Cell \u001b[0;32mIn[48], line 1\u001b[0m\n\u001b[0;32m----> 1\u001b[0m \u001b[38;5;28;43mint\u001b[39;49m\u001b[43m(\u001b[49m\u001b[38;5;124;43m\"\u001b[39;49m\u001b[38;5;124;43m1\u001b[39;49m\u001b[38;5;124;43m\"\u001b[39;49m\u001b[43m)\u001b[49m\u001b[43m \u001b[49m\u001b[38;5;241;43m+\u001b[39;49m\u001b[43m \u001b[49m\u001b[38;5;124;43m\"\u001b[39;49m\u001b[38;5;124;43m1\u001b[39;49m\u001b[38;5;124;43m\"\u001b[39;49m\n",
      "\u001b[0;31mTypeError\u001b[0m: unsupported operand type(s) for +: 'int' and 'str'"
     ]
    }
   ],
   "source": [
    "int(\"1\") + \"1\""
   ]
  },
  {
   "cell_type": "code",
   "execution_count": 49,
   "id": "b362feb2-6320-4aee-8343-522ad211f4a1",
   "metadata": {},
   "outputs": [
    {
     "ename": "TypeError",
     "evalue": "can't multiply sequence by non-int of type 'str'",
     "output_type": "error",
     "traceback": [
      "\u001b[0;31m---------------------------------------------------------------------------\u001b[0m",
      "\u001b[0;31mTypeError\u001b[0m                                 Traceback (most recent call last)",
      "Cell \u001b[0;32mIn[49], line 1\u001b[0m\n\u001b[0;32m----> 1\u001b[0m \u001b[38;5;124;43m\"\u001b[39;49m\u001b[38;5;124;43m1\u001b[39;49m\u001b[38;5;124;43m\"\u001b[39;49m\u001b[43m \u001b[49m\u001b[38;5;241;43m*\u001b[39;49m\u001b[43m \u001b[49m\u001b[38;5;124;43m\"\u001b[39;49m\u001b[38;5;124;43m1\u001b[39;49m\u001b[38;5;124;43m\"\u001b[39;49m\n",
      "\u001b[0;31mTypeError\u001b[0m: can't multiply sequence by non-int of type 'str'"
     ]
    }
   ],
   "source": [
    "\"1\" * \"1\""
   ]
  },
  {
   "cell_type": "code",
   "execution_count": 50,
   "id": "765fa5c6-093f-4d07-8a83-8534ae96c686",
   "metadata": {},
   "outputs": [
    {
     "data": {
      "text/plain": [
       "'1111111111111111111111111111111111111111111111111111111111111111111111111111111111111111111111111111'"
      ]
     },
     "execution_count": 50,
     "metadata": {},
     "output_type": "execute_result"
    }
   ],
   "source": [
    "\"1\" * 100"
   ]
  },
  {
   "cell_type": "code",
   "execution_count": null,
   "id": "30e7c19f-5e1c-4ff3-bb9b-88ab28b798d4",
   "metadata": {},
   "outputs": [],
   "source": []
  }
 ],
 "metadata": {
  "kernelspec": {
   "display_name": "Python 3 (ipykernel)",
   "language": "python",
   "name": "python3"
  },
  "language_info": {
   "codemirror_mode": {
    "name": "ipython",
    "version": 3
   },
   "file_extension": ".py",
   "mimetype": "text/x-python",
   "name": "python",
   "nbconvert_exporter": "python",
   "pygments_lexer": "ipython3",
   "version": "3.10.8"
  }
 },
 "nbformat": 4,
 "nbformat_minor": 5
}
